{
 "cells": [
  {
   "cell_type": "markdown",
   "metadata": {},
   "source": [
    "# 任务框架"
   ]
  },
  {
   "cell_type": "markdown",
   "metadata": {},
   "source": [
    "## 产品的结构信息的爬取\n",
    "\n",
    "\n",
    "1. 结构信息的爬取模块\n",
    "    1. 农产品的分类\n",
    "    2. 地域的分类"
   ]
  },
  {
   "cell_type": "markdown",
   "metadata": {},
   "source": [
    "## 消息队列服务器\n",
    "\n",
    "2. 消息队列的管理模块\n",
    "    1. 入队列（单线程）\n",
    "    2. 出队列（多线程：多进程：异步）\n",
    "        - 利用队列服务器的异步模式\n",
    "        - 自己实现多线程异步模式（生产者与消费者模式）\n",
    "    "
   ]
  },
  {
   "cell_type": "markdown",
   "metadata": {},
   "source": [
    "## 产品的具体信息的爬取\n",
    "\n",
    "3. 农产品详细信息爬取模块\n",
    "    1. 一个产品类别+ 若干地区 ：爬取进程：（手工实现：自己实现并发爬取多个地区 + Scrapy爬虫框架设置爬取进程：代理反爬）"
   ]
  },
  {
   "cell_type": "markdown",
   "metadata": {},
   "source": [
    "## 产品信息数据分析\n",
    "\n",
    "4. 可视化的模块为主\n",
    "    1. 数据可视化模块\n",
    "        - Echarts：\n",
    "            - 产地\n",
    "            - 分类的种类\n",
    "            - 季节\n",
    "       - matplotlib + seaborn\n",
    "            \n",
    "    2. 数据的统计分析模块\n",
    "        - Django"
   ]
  },
  {
   "cell_type": "markdown",
   "metadata": {},
   "source": [
    "## 产品信息挖掘（可选）\n",
    "\n",
    "5. 农产品数据挖掘\n",
    "    1. 产品推荐\n",
    "    2. 预测（明年6月某种产品的数量）\n",
    "    "
   ]
  },
  {
   "cell_type": "markdown",
   "metadata": {},
   "source": [
    "## 构建Hadoop平台\n",
    "\n",
    "- MapReduce\n",
    "- HDFS\n",
    "\n",
    "6. 使用爬取的数据作为一个数据源\n",
    "    "
   ]
  },
  {
   "cell_type": "markdown",
   "metadata": {},
   "source": [
    "# 准备工作"
   ]
  },
  {
   "cell_type": "markdown",
   "metadata": {},
   "source": [
    "## docker容器的准备\n",
    "\n",
    "1. Redis容器（MQ环境：ActiveMQ，RabbitMQ）\n",
    "2. MongoDB容器\n",
    "3. Python的爬虫运行容器\n",
    "    1. Python的环境\n",
    "    2. NoSQL数据库环境\n",
    "    3. MySQL数据库环境\n",
    "    4. MQ消息队列环境\n",
    "    5. 需要的爬虫模块环境：\n",
    "        - requests模块\n",
    "        - bs4模块\n",
    "        - scrapy模块\n",
    "        - ....."
   ]
  },
  {
   "cell_type": "markdown",
   "metadata": {},
   "source": [
    "## 网站数据分析\n",
    "\n",
    "- 产品分类的结构\n",
    "\n",
    "- 爬取页面的导航的结构"
   ]
  },
  {
   "cell_type": "markdown",
   "metadata": {},
   "source": []
  }
 ],
 "metadata": {
  "kernelspec": {
   "display_name": "Python 3",
   "language": "python",
   "name": "python3"
  },
  "language_info": {
   "codemirror_mode": {
    "name": "ipython",
    "version": 3
   },
   "file_extension": ".py",
   "mimetype": "text/x-python",
   "name": "python",
   "nbconvert_exporter": "python",
   "pygments_lexer": "ipython3",
   "version": "3.6.6"
  },
  "toc": {
   "base_numbering": 1,
   "nav_menu": {},
   "number_sections": true,
   "sideBar": true,
   "skip_h1_title": false,
   "title_cell": "Table of Contents",
   "title_sidebar": "Contents",
   "toc_cell": false,
   "toc_position": {},
   "toc_section_display": true,
   "toc_window_display": false
  }
 },
 "nbformat": 4,
 "nbformat_minor": 2
}
