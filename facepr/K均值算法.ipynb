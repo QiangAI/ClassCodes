{
 "cells": [
  {
   "cell_type": "markdown",
   "metadata": {},
   "source": [
    "# K均值算法介绍"
   ]
  },
  {
   "cell_type": "markdown",
   "metadata": {},
   "source": [
    "## K均值算法特点\n",
    "- K均值算法全称为 K均值聚类算法。 该算法有两个特点：\n",
    "    - 样本数据不需要带分类标签或期望输出（无监督学习）\n",
    "    - 聚类\n",
    "    - \n",
    "    "
   ]
  },
  {
   "cell_type": "markdown",
   "metadata": {},
   "source": [
    "## 机器学习种类\n",
    "\n",
    "- 最早机器学习算法大致分成监督学习与非监督学习；随着新的算法的出现，目前机器学习的算法大致可以分成4类。\n",
    "    - 监督学习\n",
    "    - 无监督学习\n",
    "    - 半监督学习\n",
    "    - 强化学习\n",
    "    \n",
    "- 上述机器学习的分类主要从训练的数据特点来说的，当然不同的训练数据特点产生不同的算法。"
   ]
  },
  {
   "cell_type": "markdown",
   "metadata": {},
   "source": [
    "1. 监督学习\n",
    "    - 监督学习的训练数据特点是：\n",
    "        - 训练的样本都带分类标签或者期望输出。\n",
    "    - 监督学习主要用于分类与预测（回归）\n",
    "\n",
    "    - 常见监督学习算法：\n",
    "        - k邻近算法（k-Nearest Neighbors）\n",
    "        - 线性回归（Linear Regression）\n",
    "        - 逻辑回归（Logistic Regression）\n",
    "        - 支持向量积（Support Vector Machines (SVMs)）\n",
    "        - 决策树（Decision Trees and Random Forests）\n",
    "        - 神经网络（Neural networks）"
   ]
  },
  {
   "cell_type": "markdown",
   "metadata": {},
   "source": [
    "2. 无监督学习\n",
    "    - 无监督学习是相对监督学习而言，其训练数据特点是：\n",
    "        - 训练样本没有期望输出与分类标签。\n",
    "    - 无监督学习主要用于降维与异常检测\n",
    "    \n",
    "    - 主要的无监督学习算法有：\n",
    "        - 聚类算法\n",
    "            - **K-均值算法（K-Means）**\n",
    "            - 层次聚类分析（Hierarchical Cluster Analysis (HCA)）\n",
    "            - 期望最大化（Expectation Maximization）\n",
    "        - 降维算法\n",
    "            - **主成分分析（Principal Component Analysis (PCA)）**\n",
    "            - 核主成分分析（Kernel PCA）\n",
    "            - 局部线性嵌入（Locally-Linear Embedding (LLE)）\n",
    "            - t-分布随机邻近嵌入（t-distributed Stochastic Neighbor Embedding (t-SNE)）\n",
    "        - 关联规则算法\n",
    "            - **Apriori**\n",
    "            - Eclat"
   ]
  },
  {
   "cell_type": "markdown",
   "metadata": {},
   "source": [
    "3. 半监督学习\n",
    "    - 半监督学习的训练数据特点是：\n",
    "        - 训练样本少量有分类标签与期望输出，大部分数据没有分类标签与期望输出。\n",
    "        \n",
    "    - 在实际应用场景中，训练样本少量有分类标签与期望输出，大部分数据没有分类标签与期望输出的情况比较普遍。"
   ]
  },
  {
   "cell_type": "markdown",
   "metadata": {},
   "source": [
    "4. 强化学习\n",
    "    - 根据结果自动决策的学习过程。类似人的行为，行为没有好坏，一单某个行为产生后，人会收到鼓励与惩罚，从而导致对鼓励的行为进行累积学习。"
   ]
  },
  {
   "cell_type": "markdown",
   "metadata": {},
   "source": [
    "# K均值算法"
   ]
  },
  {
   "cell_type": "markdown",
   "metadata": {},
   "source": [
    "1. K均值算法是一种分类算法。\n",
    "2. K均值算法的分类思想比较直观与朴素；根据样本到均值点的远近分类。初始的均值点随机从样本点中选择。K均值的算法步骤为：\n",
    "    1. 确定需要分类的类别数，假设分类类别数是n，假设n个分类集合是$(s_1,s_2,\\dots,s_n)$。\n",
    "    2. 随机从已知样本集中，选择n个样本点作为均值点，假设均值点是$(c_1, c_2, \\dots, c_n)$。\n",
    "    3. 遍历样本集中每个样本点$x$，分别计算样本点$x$到n个均值点的欧氏距离：$d(x,ci), i \\in (1,2,\\dots,n)$。\n",
    "    4. 比较样本点$x$到均值点的距离大小，$x$就归属距离均值点最近的均值点（$c_i$）所在的类别(属于第$i$类)。\n",
    "    5. 对所有样本集中的样本点分类完毕，然后对$n$类集合重新计算均值点$(c_1, c_2, \\dots, c_n)$，清空分类集合$(s_1,s_2,\\dots, s_n)$。继续从第三步开始重新分类，直到所有样本点的分类不改变（就是均值点稳定、不改变）。\n",
    "    \n",
    "    \n",
    "- 注意：\n",
    "    - 实际为了提早结束训练，算法也可以指定迭代次数；\n",
    "    - 对分类稳定的判定，也可以采用在一定误差范围内判定为稳定；要做到分类完全不改变，在某些情况下，可能算法不会结束。"
   ]
  },
  {
   "cell_type": "markdown",
   "metadata": {},
   "source": [
    "# K均值算法实现与应用"
   ]
  },
  {
   "cell_type": "markdown",
   "metadata": {},
   "source": [
    "## sklearn应用\n",
    "\n",
    "1. 在sklearn中，K均值算法属于聚类（Clustering）。\n",
    "\n",
    "2. Means类定义说明：\n",
    "\n",
    "```python\n",
    "\n",
    "    class sklearn.cluster.KMeans(\n",
    "        n_clusters=8,          # 分类中心\n",
    "        init=’k-means++’,    # 选择初始均值点的方式\n",
    "        n_init=10,                # k-均值算法在不同的均值中心运行的次数，这样可以保障更好的结果。\n",
    "        max_iter=300,         # 最大迭代次数\n",
    "        tol=0.0001,              # 控制收敛的误差\n",
    "        precompute_distances=’auto’, \n",
    "        verbose=0, \n",
    "        random_state=None, \n",
    "        copy_x=True, \n",
    "        n_jobs=None,            # 任务数\n",
    "        algorithm=’auto’)\n",
    "\n",
    "```"
   ]
  },
  {
   "cell_type": "markdown",
   "metadata": {},
   "source": [
    "3. 使用k均值算法\n",
    "    - 下面算法采用鸢尾花数据。"
   ]
  },
  {
   "cell_type": "code",
   "execution_count": 119,
   "metadata": {},
   "outputs": [
    {
     "data": {
      "image/png": "[encoded data removed]",
      "text/plain": [
       "<Figure size 864x432 with 1 Axes>"
      ]
     },
     "metadata": {
      "needs_background": "light"
     },
     "output_type": "display_data"
    },
    {
     "data": {
      "text/plain": [
       "array([[5.006     , 3.418     ],\n",
       "       [6.81276596, 3.07446809],\n",
       "       [5.77358491, 2.69245283]])"
      ]
     },
     "execution_count": 119,
     "metadata": {},
     "output_type": "execute_result"
    }
   ],
   "source": [
    "% matplotlib inline\n",
    "import matplotlib.pyplot as plt\n",
    "from matplotlib.colors import ListedColormap\n",
    "import sklearn.datasets as ds\n",
    "from sklearn.cluster import KMeans\n",
    "\n",
    "\n",
    "# 加载数据\n",
    "data, target= ds.load_iris(return_X_y=True)\n",
    "\n",
    "X = data[:, :2:]\n",
    "\n",
    "#  K-均值算法实现\n",
    "cluster = KMeans(n_clusters=3)\n",
    "# 训练\n",
    "cluster.fit(X)\n",
    "# 分类\n",
    "pre = cluster.predict(X)\n",
    "\n",
    "# 可视化\n",
    "# 数据可视化\n",
    "fig = plt.figure('K均值算法', figsize=(12, 6))\n",
    "ax = fig.add_axes([0.1, 0.1, 0.8, 0.8])\n",
    "\n",
    "# 使用颜色与点的形状来区分聚类与类别\n",
    "colors = ListedColormap([(1, 0, 0, 1), (0, 1, 0, 1), (0, 0, 1, 1)])\n",
    "ax.scatter(data[0:50, 0], data[0:50:, 1], s=25, c=pre[:50], marker='>' , cmap=colors)\n",
    "ax.scatter(data[50:100, 0], data[50:100:, 1], s=25, c=pre[50:100], marker='.', cmap=colors)\n",
    "ax.scatter(data[100:150, 0], data[100:150:, 1], s=25, c=pre[100:150], marker='x', cmap=colors)\n",
    "\n",
    "# 绘制均值点（质心点）\n",
    "ax.scatter(cluster.cluster_centers_[:,0],  cluster.cluster_centers_[:, 1], c='g', s=100 ,marker='*')\n",
    "plt.show()\n",
    "cluster.cluster_centers_"
   ]
  },
  {
   "cell_type": "markdown",
   "metadata": {},
   "source": [
    "## numpy实现"
   ]
  },
  {
   "cell_type": "markdown",
   "metadata": {},
   "source": [
    "1. 实现基础 - 根据均值中心聚类的能力\n",
    "    - 能初始化均值中心。\n",
    "    - 能计算欧氏距离，并得到最小距离。\n",
    "    - 能管理聚类的样本点。\n",
    "    - 能更新新的均值中心。\n",
    "    \n",
    "2. 循环聚类的结束条件：\n",
    "    - 根据新旧均值中，计算对应的距离，如果所有距离小于给定的值，循环结束"
   ]
  },
  {
   "cell_type": "code",
   "execution_count": 76,
   "metadata": {},
   "outputs": [
    {
     "name": "stdout",
     "output_type": "stream",
     "text": [
      "0.7729956159139736\n",
      "需要继续聚类\n"
     ]
    }
   ],
   "source": [
    "% matplotlib inline\n",
    "import matplotlib.pyplot as plt\n",
    "from matplotlib.colors import ListedColormap\n",
    "import sklearn.datasets as ds\n",
    "import numpy as np\n",
    "\n",
    "\n",
    "# 加载数据\n",
    "data, target =ds.load_iris(return_X_y=True) \n",
    "\n",
    "# 定义一个均值变动误差，用来判定是否该结束。\n",
    "tol = 0.0001\n",
    "\n",
    "# 聚类的类别数\n",
    "cluster_num = 3\n",
    "# 聚类的样本集合\n",
    "clusters = []  \n",
    "# 聚类的均值点（也称质心点）:初始取随机值\n",
    "idx = np.random.choice(range(0,len(data)),  cluster_num)   \n",
    "# 上面代码有可能取到相同的。（可以考虑使用一个判定，直到取值不同）\n",
    "cls_clusters ={}   # 存放分类列表，只存放下标\n",
    "# 初始化聚类点。\n",
    "for i in idx:\n",
    "    clusters.append(data[i])\n",
    "\n",
    "# 初始化聚类的样本下标\n",
    "for i in range(len(clusters)):\n",
    "    cls_clusters[i] = []    # 值存放下标\n",
    "    \n",
    "\n",
    "# 循环计算样本到均值点的距离\n",
    "for sample_idx in range(len(data)):\n",
    "    # 循环均值点计算距离\n",
    "    distances = []  # 用来存放样本到三个均值点的距离\n",
    "    for cluster in clusters:\n",
    "        # 计算欧氏距离\n",
    "        diff = (cluster - data[sample_idx])**2\n",
    "        distance = np.sqrt(diff.sum())\n",
    "        distances.append(distance)\n",
    "    # 取最小的距离\n",
    "    min_idx = np.argmin(distances)\n",
    "    cls_clusters[min_idx].append(sample_idx)\n",
    "\n",
    "#  使用聚类的样本点，更新均值中心，为下次聚类做准备\n",
    "new_clusters = []  # \n",
    "for cls in cls_clusters:\n",
    "    cls_idx = cls_clusters[cls]\n",
    "    # 根据下标得到数据集\n",
    "    cls_data = data.take(cls_idx, axis=0)\n",
    "    # 计算均值\n",
    "    cls_mean = cls_data.mean(axis=0)\n",
    "    # 更新对应的均值中心\n",
    "    new_clusters.append(cls_mean)\n",
    "\n",
    "# 判定新旧均值中心的值是否变化。\n",
    "is_continue = False\n",
    "for i in range(len(clusters)):\n",
    "    delta = np.sqrt(((clusters[i] - new_clusters[i])**2).sum())\n",
    "    print(delta)\n",
    "    if delta > tol:\n",
    "        is_continue = True\n",
    "        break\n",
    "if is_continue:\n",
    "    print('需要继续聚类')"
   ]
  },
  {
   "cell_type": "markdown",
   "metadata": {},
   "source": [
    "3. 实现函数封装"
   ]
  },
  {
   "cell_type": "code",
   "execution_count": 80,
   "metadata": {},
   "outputs": [
    {
     "name": "stdout",
     "output_type": "stream",
     "text": [
      "0.7528288663988206\n"
     ]
    }
   ],
   "source": [
    "% matplotlib inline\n",
    "import matplotlib.pyplot as plt\n",
    "from matplotlib.colors import ListedColormap\n",
    "import sklearn.datasets as ds\n",
    "import numpy as np\n",
    "\n",
    "\n",
    "def cluster_one(data_, clusters_, tol_):\n",
    "    cls_clusters ={}   # 存放分类列表，只存放下标\n",
    "    # 初始化聚类点。    # 初始化聚类的样本下标\n",
    "    for i in range(len(clusters_)):\n",
    "        cls_clusters[i] = []    # 值存放下标\n",
    "\n",
    "\n",
    "    # 循环计算样本到均值点的距离\n",
    "    for sample_idx in range(len(data_)):\n",
    "        # 循环均值点计算距离\n",
    "        distances = []  # 用来存放样本到三个均值点的距离\n",
    "        for cluster in clusters_:\n",
    "            # 计算欧氏距离\n",
    "            diff = (cluster - data[sample_idx])**2\n",
    "            distance = np.sqrt(diff.sum())\n",
    "            distances.append(distance)\n",
    "        # 取最小的距离\n",
    "        min_idx = np.argmin(distances)\n",
    "        cls_clusters[min_idx].append(sample_idx)\n",
    "\n",
    "    #  使用聚类的样本点，更新均值中心，为下次聚类做准备\n",
    "    new_clusters = []  # \n",
    "    for cls in cls_clusters:\n",
    "        cls_idx = cls_clusters[cls]\n",
    "        # 根据下标得到数据集\n",
    "        cls_data = data.take(cls_idx, axis=0)\n",
    "        # 计算均值\n",
    "        cls_mean = cls_data.mean(axis=0)\n",
    "        # 更新对应的均值中心\n",
    "        new_clusters.append(cls_mean)\n",
    "\n",
    "    # 判定新旧均值中心的值是否变化。\n",
    "    is_continue = False\n",
    "    for i in range(len(clusters_)):\n",
    "        delta = np.sqrt(((clusters_[i] - new_clusters[i])**2).sum())\n",
    "        if delta > tol_:\n",
    "            is_continue = True\n",
    "            break\n",
    "    return is_continue, new_clusters, cls_clusters   # 分别返回是否需要聚类，新的均值中心，与聚类样本的下标\n",
    "\n",
    "# ------------------\n",
    "# 加载数据\n",
    "data, target =ds.load_iris(return_X_y=True) \n",
    "\n",
    "# 定义一个均值变动误差，用来判定是否该结束。\n",
    "tol = 0.0001\n",
    "\n",
    "# 聚类的类别数\n",
    "cluster_num = 3\n",
    "# 聚类的样本集合\n",
    "clusters = []  \n",
    "# 聚类的均值点（也称质心点）:初始取随机值\n",
    "idx = np.random.choice(range(0,len(data)),  cluster_num)   \n",
    "# 上面代码有可能取到相同的。（可以考虑使用一个判定，直到取值不同）\n",
    "\n",
    "for i in idx:\n",
    "    clusters.append(data[i])\n",
    "    \n",
    "b, c, r=cluster_one(data, clusters, tol)"
   ]
  },
  {
   "cell_type": "markdown",
   "metadata": {},
   "source": [
    "4. 完整的实现\n",
    "    - 反复迭代"
   ]
  },
  {
   "cell_type": "code",
   "execution_count": 134,
   "metadata": {},
   "outputs": [
    {
     "name": "stdout",
     "output_type": "stream",
     "text": [
      "[2, 2, 2, 2, 2, 2, 2, 2, 2, 2, 2, 2, 2, 2, 2, 2, 2, 2, 2, 2, 2, 2, 2, 2, 2, 2, 2, 2, 2, 2, 2, 2, 2, 2, 2, 2, 2, 2, 2, 2, 2, 2, 2, 2, 2, 2, 2, 2, 2, 2, 0, 0, 0, 1, 0, 1, 0, 1, 0, 1, 1, 1, 1, 1, 1, 0, 1, 1, 1, 1, 1, 1, 1, 1, 0, 0, 0, 0, 1, 1, 1, 1, 1, 1, 1, 1, 0, 1, 1, 1, 1, 1, 1, 1, 1, 1, 1, 1, 1, 1, 0, 1, 0, 0, 0, 0, 1, 0, 0, 0, 0, 0, 0, 1, 1, 0, 0, 0, 0, 1, 0, 1, 0, 1, 0, 0, 1, 1, 0, 0, 0, 0, 0, 1, 1, 0, 0, 0, 1, 0, 0, 0, 1, 0, 0, 0, 1, 0, 0, 1]\n"
     ]
    },
    {
     "data": {
      "image/png": "[encoded data removed]",
      "text/plain": [
       "<Figure size 864x864 with 2 Axes>"
      ]
     },
     "metadata": {
      "needs_background": "light"
     },
     "output_type": "display_data"
    }
   ],
   "source": [
    "% matplotlib inline\n",
    "import matplotlib.pyplot as plt\n",
    "from matplotlib.colors import ListedColormap\n",
    "import sklearn.datasets as ds\n",
    "import numpy as np\n",
    "\n",
    "\n",
    "def cluster_one(data_, clusters_, tol_):\n",
    "    cls_clusters ={}   # 存放分类列表，只存放下标\n",
    "    # 初始化聚类点。    # 初始化聚类的样本下标\n",
    "    for i in range(len(clusters_)):\n",
    "        cls_clusters[i] = []    # 值存放下标\n",
    "\n",
    "\n",
    "    # 循环计算样本到均值点的距离\n",
    "    for sample_idx in range(len(data_)):\n",
    "        # 循环均值点计算距离\n",
    "        distances = []  # 用来存放样本到三个均值点的距离\n",
    "        for cluster in clusters_:\n",
    "            # 计算欧氏距离\n",
    "            diff = (cluster - data[sample_idx])**2\n",
    "            distance = np.sqrt(diff.sum())\n",
    "            distances.append(distance)\n",
    "        # 取最小的距离\n",
    "        min_idx = np.argmin(distances)\n",
    "        cls_clusters[min_idx].append(sample_idx)\n",
    "\n",
    "    #  使用聚类的样本点，更新均值中心，为下次聚类做准备\n",
    "    new_clusters = []  # \n",
    "    for cls in cls_clusters:\n",
    "        cls_idx = cls_clusters[cls]\n",
    "        # 根据下标得到数据集\n",
    "        cls_data = data.take(cls_idx, axis=0)\n",
    "        # 计算均值\n",
    "        cls_mean = cls_data.mean(axis=0)\n",
    "        # 更新对应的均值中心\n",
    "        new_clusters.append(cls_mean)\n",
    "\n",
    "    # 判定新旧均值中心的值是否变化。\n",
    "    is_continue = False\n",
    "    for i in range(len(clusters_)):\n",
    "        delta = np.sqrt(((clusters_[i] - new_clusters[i])**2).sum())\n",
    "        if delta > tol_:\n",
    "            is_continue = True\n",
    "            break\n",
    "    return is_continue, new_clusters, cls_clusters   # 分别返回是否需要聚类，新的均值中心，与聚类样本的下标\n",
    "\n",
    "# ------------------\n",
    "# 加载数据\n",
    "data, target =ds.load_iris(return_X_y=True) \n",
    "\n",
    "data = data[:, :2:]\n",
    "# 定义一个均值变动误差，用来判定是否该结束。\n",
    "tol = 0.0001\n",
    "\n",
    "# 聚类的类别数\n",
    "cluster_num = 3\n",
    "# 聚类的样本集合\n",
    "clusters = []  \n",
    "# 聚类的均值点（也称质心点）:初始取随机值\n",
    "idx = np.random.choice(range(0,len(data)),  cluster_num)   \n",
    "# 上面代码有可能取到相同的。（可以考虑使用一个判定，直到取值不同）\n",
    "\n",
    "for i in idx:\n",
    "    clusters.append(data[i])\n",
    "\n",
    "b = True\n",
    "while b:\n",
    "    b, c, r=cluster_one(data, clusters, tol)\n",
    "    clusters = c\n",
    "\n",
    "# print('聚类结束')\n",
    "# print('聚类结果：', r)\n",
    "\n",
    "# 把data数据的聚类结果转化为0，1，2\n",
    "categories = []\n",
    "for i in range(len(data)):\n",
    "    # 判定数据下标在那个分类中\n",
    "    for category in r:\n",
    "        if i in r[category]:\n",
    "            categories.append(category)\n",
    "            break\n",
    "\n",
    "print(categories)\n",
    "# 可视化聚类结果\n",
    "fig = plt.figure('K均值算法', figsize=(12, 12))\n",
    "\n",
    "ax1, ax2 = fig.subplots(2,1)\n",
    "\n",
    "# 使用颜色与点的形状来区分聚类与类别\n",
    "colors = ListedColormap([(1, 0, 0, 1),(0, 0, 1, 1)])\n",
    "ax1.scatter(data[:, 0], data[:, 1], s=25, c=categories, marker='o' ,cmap=colors)\n",
    "\n",
    "# 绘制均值点（质心点）\n",
    "for cc in c:\n",
    "    ax1.scatter(cc[0],  cc[1], c='g', s=100 ,marker='*')\n",
    "    \n",
    "    \n",
    "ax2.scatter(data[0:50, 0], data[0:50:, 1], s=25, c='r', marker='>' )\n",
    "ax2.scatter(data[50:100, 0], data[50:100:, 1], s=25, c='g', marker='.' )\n",
    "ax2.scatter(data[100:150, 0], data[100:150:, 1], s=25, c='b', marker='x')\n",
    "\n",
    "plt.show()\n"
   ]
  }
 ],
 "metadata": {
  "kernelspec": {
   "display_name": "Python 3",
   "language": "python",
   "name": "python3"
  },
  "language_info": {
   "codemirror_mode": {
    "name": "ipython",
    "version": 3
   },
   "file_extension": ".py",
   "mimetype": "text/x-python",
   "name": "python",
   "nbconvert_exporter": "python",
   "pygments_lexer": "ipython3",
   "version": "3.6.6"
  },
  "toc": {
   "base_numbering": 1,
   "nav_menu": {},
   "number_sections": true,
   "sideBar": true,
   "skip_h1_title": false,
   "title_cell": "Table of Contents",
   "title_sidebar": "Contents",
   "toc_cell": false,
   "toc_position": {},
   "toc_section_display": true,
   "toc_window_display": true
  }
 },
 "nbformat": 4,
 "nbformat_minor": 2
}
