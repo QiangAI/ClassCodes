{
 "cells": [
  {
   "cell_type": "markdown",
   "metadata": {},
   "source": [
    "# 文本的处理\n",
    "\n",
    "- 词向量化"
   ]
  },
  {
   "cell_type": "markdown",
   "metadata": {},
   "source": [
    "## 数据读取"
   ]
  },
  {
   "cell_type": "code",
   "execution_count": 14,
   "metadata": {},
   "outputs": [],
   "source": [
    "import os\n",
    "import re\n",
    "\n",
    "# 读取数据\n",
    "data_sms = []\n",
    "with open(os.path.join('./rnn', 'SMSSpamCollection'), 'r') as fd:\n",
    "    for sms in fd:\n",
    "        data_sms.append(sms)\n",
    "\n",
    "# 最后一行是空行，丢弃最后空行\n",
    "data_sms = data_sms[:-1]\n"
   ]
  },
  {
   "cell_type": "markdown",
   "metadata": {},
   "source": [
    "## 数据处理：格式化与清洗"
   ]
  },
  {
   "cell_type": "code",
   "execution_count": 15,
   "metadata": {},
   "outputs": [],
   "source": [
    "# 注意每行的短信类别使用\\t分隔，每行使用\\n分隔。\n",
    "data_sms = [sms.split('\\t') for sms in data_sms if len(sms)>=1]\n",
    "# 把短信的类别与内容分成两个列表 \n",
    "[target, data] = [list(sms) for sms in zip(*data_sms)]\n",
    "\n",
    "\n",
    "# 对短信内容进行清洗\n",
    "new_data = []\n",
    "for sms in  data:\n",
    "    sms = re.sub(r'([^\\s\\w]|_|[0-9])+', '', sms)  # 删除不必要的符号\n",
    "    sms = \" \".join(sms.split())   # 去掉\\n\n",
    "    sms = sms.lower()   # 小写转换\n",
    "    new_data.append(sms)\n",
    "data =new_data\n"
   ]
  },
  {
   "cell_type": "markdown",
   "metadata": {},
   "source": [
    "## 词向量化"
   ]
  },
  {
   "cell_type": "code",
   "execution_count": 16,
   "metadata": {},
   "outputs": [
    {
     "name": "stdout",
     "output_type": "stream",
     "text": [
      "[[ 44 456   0 ...   0   0   0]\n",
      " [ 47 316   0 ...   0   0   0]\n",
      " [ 46 466   9 ...   0 369   0]\n",
      " ...\n",
      " [ 34  75 151 ...   0   0   0]\n",
      " [  0  59   9 ...   0   0   0]\n",
      " [  5 494 109 ...   1 199  12]]\n",
      "(5573, 25)\n",
      "词表大小 934\n"
     ]
    }
   ],
   "source": [
    "import warnings\n",
    "warnings.filterwarnings(\"ignore\")\n",
    "\n",
    "import tensorflow as tf\n",
    "from tensorflow.contrib.learn import preprocessing\n",
    "import numpy as np\n",
    "# 词向量（可以使用sklearn的库）\n",
    "max_sequence_length = 25     # 词向量化后的向量维数。\n",
    "min_word_frequency = 10      # 处理的词出现的最小频率\n",
    "\n",
    "# 词表处理类（不推荐使用）:取唯一出现的词，形成词表（每个词有一个编号）\n",
    "vocab_processor = preprocessing.VocabularyProcessor(max_sequence_length,  min_frequency=min_word_frequency)\n",
    "\n",
    "# vocab_processor = preprocessing.VocabularyProcessor(100)\n",
    "# 转换为ndarray对象\n",
    "data = np.array(list(vocab_processor.fit_transform(data)))\n",
    "print(data)\n",
    "print(data.shape)\n",
    "# ----------------------------（标签）\n",
    "# 标签的数值化\n",
    "target = np.array([1 if t=='ham' else 0 for t in target])    # 二值化标签\n",
    "\n",
    "print( '词表大小', len(vocab_processor.vocabulary_)  )# 词表数量\n"
   ]
  },
  {
   "cell_type": "markdown",
   "metadata": {},
   "source": [
    "- 上面的短信数据已经数值化，但是不适合做训练。\n",
    "    - 后面转为随机的小数（这个随机数基本上唯一代表这个词）：把单词随机转换为一个小数，这个小数代表这个词。\n",
    "    - 适合循环神经网络的输入数据格式（维度）"
   ]
  },
  {
   "cell_type": "markdown",
   "metadata": {},
   "source": [
    "## 数据切分与打乱"
   ]
  },
  {
   "cell_type": "code",
   "execution_count": 17,
   "metadata": {},
   "outputs": [
    {
     "name": "stdout",
     "output_type": "stream",
     "text": [
      "词表数量  934\n"
     ]
    }
   ],
   "source": [
    "# 对数据集洗牌\n",
    "shuffled_idx = np.random.permutation(np.arange(len(data)))\n",
    "\n",
    "# 使用打乱的索引，得到打乱的数据\n",
    "x_data = data[shuffled_idx]\n",
    "y_data = target[shuffled_idx]\n",
    "\n",
    "# 切分训练集与测试集\n",
    "num_train = int(len(x_data)*0.80)  # 取80%作为训练集\n",
    "\n",
    "x_train, x_test = x_data[:num_train], x_data[num_train:]\n",
    "y_train, y_test = y_data[:num_train], y_data[num_train:]\n",
    "\n",
    "vocab_size = len(vocab_processor.vocabulary_)  # 词表数量\n",
    "print(F\"词表数量 {vocab_size: d}\")\n"
   ]
  },
  {
   "cell_type": "markdown",
   "metadata": {},
   "source": [
    "# 循环神经网络模型"
   ]
  },
  {
   "cell_type": "markdown",
   "metadata": {},
   "source": [
    "## 定义输入\n",
    "- 把整数化的短信文本小数化。"
   ]
  },
  {
   "cell_type": "code",
   "execution_count": 18,
   "metadata": {},
   "outputs": [],
   "source": [
    "embedding_size = 5  # 时序展开的长度\n",
    "\n",
    "import tensorflow as tf\n",
    "from tensorflow.python.framework import ops\n",
    "ops.reset_default_graph()    # 整个环境的图清空。防止产生多个图。\n",
    "\n",
    "# 定义占位\n",
    "x_data = tf.placeholder(tf.int32, [None, max_sequence_length])   # 该数据不符合循环神经网络格式，max_sequence_length=25\n",
    "y_output = tf.placeholder(tf.int32, [None])   # 训练样本的标签\n",
    "\n",
    "# 短信->随机向量\n",
    "# 把输入数据转换为循环神经网络需要的数据格式（同时把数据映射成随机数：这里可以使用其他类似的词向量化技术）\n",
    "embedding_mat = tf.Variable(tf.random_uniform([vocab_size, embedding_size], -1.0, 1.0))    # 随机表 （一列就是一个样本）\n",
    "\n",
    "# embedding_output 实际就是短息数据数值化以后的形式。最后一维就是时序。（有重复）\n",
    "# embedding_output是时序的训练样本\n",
    "embedding_output = tf.nn.embedding_lookup(embedding_mat, x_data)    # 使用x_data作为下标，直接从随机表中取一个随机与下标对标\n",
    "\n"
   ]
  },
  {
   "cell_type": "markdown",
   "metadata": {},
   "source": [
    "- 循环神经网络与贝叶斯的文本分类：\n",
    "    - 循环神经网络，不存在词频的统计\n",
    "    - 贝叶斯的核心就是词频统计。"
   ]
  },
  {
   "cell_type": "markdown",
   "metadata": {},
   "source": [
    "## 定义循环层"
   ]
  },
  {
   "cell_type": "code",
   "execution_count": 19,
   "metadata": {},
   "outputs": [],
   "source": [
    "import warnings\n",
    "warnings.filterwarnings(\"ignore\")\n",
    "\n",
    "rnn_size = 5   # 层数\n",
    "# 循环层\n",
    "cell = tf.nn.rnn_cell.BasicRNNCell(num_units = rnn_size)\n",
    "# 实现时序循环\n",
    "output, state = tf.nn.dynamic_rnn(cell, embedding_output, dtype=tf.float32)   # 循环层的展开（静态方式，动态方式）"
   ]
  },
  {
   "cell_type": "markdown",
   "metadata": {},
   "source": [
    "## 定义输出层"
   ]
  },
  {
   "cell_type": "code",
   "execution_count": 20,
   "metadata": {},
   "outputs": [],
   "source": [
    "output = tf.transpose(output, [1, 0, 2])    # 交换维度位置：格式化\n",
    "\n",
    "last = tf.gather(output, int(output.get_shape()[0]) - 1)   # 取最后作为识别结果，gather根据下标取值（值计算最后输出的误差）\n",
    "\n",
    "# 输出层就是全连接层\n",
    "# 加权求和\n",
    "weight = tf.Variable(tf.truncated_normal([rnn_size, 2], stddev=0.1))\n",
    "bias = tf.Variable(tf.constant(0.1, shape=[2]))\n",
    "\n",
    "# 激活函数\n",
    "logits_out = tf.nn.softmax(tf.matmul(last, weight) + bias)"
   ]
  },
  {
   "cell_type": "markdown",
   "metadata": {},
   "source": [
    "## 损失函数与优化器"
   ]
  },
  {
   "cell_type": "code",
   "execution_count": 21,
   "metadata": {},
   "outputs": [],
   "source": [
    "import warnings\n",
    "warnings.filterwarnings(\"ignore\")\n",
    "\n",
    "# 使用稀疏softmax交叉熵损失函数\n",
    "losses = tf.nn.sparse_softmax_cross_entropy_with_logits(labels=y_output, logits=logits_out) # 结果绝对在0-1之间：适合作为概率（归一化）\n",
    "loss = tf.reduce_mean(losses)\n",
    "\n",
    "# 用来观察准确度（分类正确率）cast类型转换\n",
    "accuracy = tf.reduce_mean(tf.cast(tf.equal(tf.argmax(logits_out, 1), tf.cast(y_output, tf.int64)), tf.float32))\n",
    "\n",
    "# 梯度下降优化器\n",
    "optimizer = tf.train.RMSPropOptimizer(0.0005)\n",
    "train_step = optimizer.minimize(loss)"
   ]
  },
  {
   "cell_type": "markdown",
   "metadata": {},
   "source": [
    "# 训练与评估"
   ]
  },
  {
   "cell_type": "code",
   "execution_count": 22,
   "metadata": {},
   "outputs": [
    {
     "name": "stdout",
     "output_type": "stream",
     "text": [
      "轮数: 1, 测试集损失: 0.68, 测试集准确度: 0.82\n",
      "轮数: 2, 测试集损失: 0.67, 测试集准确度: 0.83\n",
      "轮数: 3, 测试集损失: 0.66, 测试集准确度: 0.83\n",
      "轮数: 4, 测试集损失: 0.65, 测试集准确度: 0.83\n",
      "轮数: 5, 测试集损失: 0.63, 测试集准确度: 0.83\n",
      "轮数: 6, 测试集损失: 0.62, 测试集准确度: 0.83\n",
      "轮数: 7, 测试集损失: 0.6, 测试集准确度: 0.83\n",
      "轮数: 8, 测试集损失: 0.59, 测试集准确度: 0.84\n",
      "轮数: 9, 测试集损失: 0.57, 测试集准确度: 0.84\n",
      "轮数: 10, 测试集损失: 0.56, 测试集准确度: 0.84\n",
      "轮数: 11, 测试集损失: 0.55, 测试集准确度: 0.84\n",
      "轮数: 12, 测试集损失: 0.54, 测试集准确度: 0.85\n",
      "轮数: 13, 测试集损失: 0.52, 测试集准确度: 0.85\n",
      "轮数: 14, 测试集损失: 0.51, 测试集准确度: 0.85\n",
      "轮数: 15, 测试集损失: 0.51, 测试集准确度: 0.85\n",
      "轮数: 16, 测试集损失: 0.5, 测试集准确度: 0.85\n",
      "轮数: 17, 测试集损失: 0.49, 测试集准确度: 0.85\n",
      "轮数: 18, 测试集损失: 0.49, 测试集准确度: 0.85\n",
      "轮数: 19, 测试集损失: 0.48, 测试集准确度: 0.85\n",
      "轮数: 20, 测试集损失: 0.48, 测试集准确度: 0.85\n",
      "轮数: 21, 测试集损失: 0.47, 测试集准确度: 0.85\n",
      "轮数: 22, 测试集损失: 0.47, 测试集准确度: 0.86\n",
      "轮数: 23, 测试集损失: 0.47, 测试集准确度: 0.86\n",
      "轮数: 24, 测试集损失: 0.47, 测试集准确度: 0.86\n",
      "轮数: 25, 测试集损失: 0.46, 测试集准确度: 0.86\n",
      "轮数: 26, 测试集损失: 0.46, 测试集准确度: 0.86\n",
      "轮数: 27, 测试集损失: 0.46, 测试集准确度: 0.86\n",
      "轮数: 28, 测试集损失: 0.46, 测试集准确度: 0.86\n",
      "轮数: 29, 测试集损失: 0.46, 测试集准确度: 0.86\n",
      "轮数: 30, 测试集损失: 0.46, 测试集准确度: 0.86\n",
      "轮数: 31, 测试集损失: 0.46, 测试集准确度: 0.86\n",
      "轮数: 32, 测试集损失: 0.46, 测试集准确度: 0.86\n",
      "轮数: 33, 测试集损失: 0.45, 测试集准确度: 0.86\n",
      "轮数: 34, 测试集损失: 0.45, 测试集准确度: 0.86\n",
      "轮数: 35, 测试集损失: 0.45, 测试集准确度: 0.86\n",
      "轮数: 36, 测试集损失: 0.45, 测试集准确度: 0.86\n",
      "轮数: 37, 测试集损失: 0.45, 测试集准确度: 0.86\n",
      "轮数: 38, 测试集损失: 0.45, 测试集准确度: 0.86\n",
      "轮数: 39, 测试集损失: 0.45, 测试集准确度: 0.86\n",
      "轮数: 40, 测试集损失: 0.45, 测试集准确度: 0.86\n",
      "轮数: 41, 测试集损失: 0.45, 测试集准确度: 0.86\n",
      "轮数: 42, 测试集损失: 0.45, 测试集准确度: 0.86\n",
      "轮数: 43, 测试集损失: 0.45, 测试集准确度: 0.86\n",
      "轮数: 44, 测试集损失: 0.45, 测试集准确度: 0.86\n",
      "轮数: 45, 测试集损失: 0.45, 测试集准确度: 0.86\n",
      "轮数: 46, 测试集损失: 0.45, 测试集准确度: 0.86\n",
      "轮数: 47, 测试集损失: 0.45, 测试集准确度: 0.86\n",
      "轮数: 48, 测试集损失: 0.45, 测试集准确度: 0.86\n",
      "轮数: 49, 测试集损失: 0.45, 测试集准确度: 0.86\n",
      "轮数: 50, 测试集损失: 0.45, 测试集准确度: 0.86\n",
      "轮数: 51, 测试集损失: 0.45, 测试集准确度: 0.86\n",
      "轮数: 52, 测试集损失: 0.45, 测试集准确度: 0.86\n",
      "轮数: 53, 测试集损失: 0.45, 测试集准确度: 0.86\n",
      "轮数: 54, 测试集损失: 0.45, 测试集准确度: 0.86\n",
      "轮数: 55, 测试集损失: 0.45, 测试集准确度: 0.86\n",
      "轮数: 56, 测试集损失: 0.45, 测试集准确度: 0.86\n",
      "轮数: 57, 测试集损失: 0.45, 测试集准确度: 0.86\n",
      "轮数: 58, 测试集损失: 0.45, 测试集准确度: 0.86\n",
      "轮数: 59, 测试集损失: 0.45, 测试集准确度: 0.86\n",
      "轮数: 60, 测试集损失: 0.45, 测试集准确度: 0.86\n",
      "轮数: 61, 测试集损失: 0.45, 测试集准确度: 0.86\n",
      "轮数: 62, 测试集损失: 0.45, 测试集准确度: 0.86\n",
      "轮数: 63, 测试集损失: 0.45, 测试集准确度: 0.86\n",
      "轮数: 64, 测试集损失: 0.45, 测试集准确度: 0.86\n",
      "轮数: 65, 测试集损失: 0.45, 测试集准确度: 0.86\n",
      "轮数: 66, 测试集损失: 0.45, 测试集准确度: 0.86\n",
      "轮数: 67, 测试集损失: 0.45, 测试集准确度: 0.86\n",
      "轮数: 68, 测试集损失: 0.45, 测试集准确度: 0.86\n",
      "轮数: 69, 测试集损失: 0.45, 测试集准确度: 0.86\n",
      "轮数: 70, 测试集损失: 0.45, 测试集准确度: 0.86\n",
      "轮数: 71, 测试集损失: 0.45, 测试集准确度: 0.86\n",
      "轮数: 72, 测试集损失: 0.45, 测试集准确度: 0.86\n",
      "轮数: 73, 测试集损失: 0.45, 测试集准确度: 0.86\n",
      "轮数: 74, 测试集损失: 0.45, 测试集准确度: 0.86\n",
      "轮数: 75, 测试集损失: 0.45, 测试集准确度: 0.86\n",
      "轮数: 76, 测试集损失: 0.45, 测试集准确度: 0.86\n",
      "轮数: 77, 测试集损失: 0.45, 测试集准确度: 0.86\n",
      "轮数: 78, 测试集损失: 0.45, 测试集准确度: 0.86\n",
      "轮数: 79, 测试集损失: 0.45, 测试集准确度: 0.86\n",
      "轮数: 80, 测试集损失: 0.45, 测试集准确度: 0.86\n",
      "轮数: 81, 测试集损失: 0.45, 测试集准确度: 0.86\n",
      "轮数: 82, 测试集损失: 0.45, 测试集准确度: 0.86\n",
      "轮数: 83, 测试集损失: 0.45, 测试集准确度: 0.87\n",
      "轮数: 84, 测试集损失: 0.45, 测试集准确度: 0.87\n",
      "轮数: 85, 测试集损失: 0.45, 测试集准确度: 0.87\n",
      "轮数: 86, 测试集损失: 0.45, 测试集准确度: 0.87\n",
      "轮数: 87, 测试集损失: 0.45, 测试集准确度: 0.87\n",
      "轮数: 88, 测试集损失: 0.45, 测试集准确度: 0.87\n",
      "轮数: 89, 测试集损失: 0.45, 测试集准确度: 0.87\n",
      "轮数: 90, 测试集损失: 0.45, 测试集准确度: 0.87\n",
      "轮数: 91, 测试集损失: 0.44, 测试集准确度: 0.87\n",
      "轮数: 92, 测试集损失: 0.44, 测试集准确度: 0.87\n",
      "轮数: 93, 测试集损失: 0.44, 测试集准确度: 0.87\n",
      "轮数: 94, 测试集损失: 0.44, 测试集准确度: 0.87\n",
      "轮数: 95, 测试集损失: 0.44, 测试集准确度: 0.87\n",
      "轮数: 96, 测试集损失: 0.44, 测试集准确度: 0.87\n",
      "轮数: 97, 测试集损失: 0.44, 测试集准确度: 0.87\n",
      "轮数: 98, 测试集损失: 0.44, 测试集准确度: 0.87\n",
      "轮数: 99, 测试集损失: 0.44, 测试集准确度: 0.87\n",
      "轮数: 100, 测试集损失: 0.44, 测试集准确度: 0.87\n",
      "轮数: 101, 测试集损失: 0.44, 测试集准确度: 0.87\n",
      "轮数: 102, 测试集损失: 0.44, 测试集准确度: 0.87\n",
      "轮数: 103, 测试集损失: 0.44, 测试集准确度: 0.87\n",
      "轮数: 104, 测试集损失: 0.44, 测试集准确度: 0.87\n",
      "轮数: 105, 测试集损失: 0.44, 测试集准确度: 0.87\n",
      "轮数: 106, 测试集损失: 0.44, 测试集准确度: 0.87\n",
      "轮数: 107, 测试集损失: 0.44, 测试集准确度: 0.87\n",
      "轮数: 108, 测试集损失: 0.44, 测试集准确度: 0.87\n",
      "轮数: 109, 测试集损失: 0.44, 测试集准确度: 0.87\n",
      "轮数: 110, 测试集损失: 0.44, 测试集准确度: 0.87\n",
      "轮数: 111, 测试集损失: 0.44, 测试集准确度: 0.87\n",
      "轮数: 112, 测试集损失: 0.44, 测试集准确度: 0.87\n",
      "轮数: 113, 测试集损失: 0.44, 测试集准确度: 0.87\n",
      "轮数: 114, 测试集损失: 0.44, 测试集准确度: 0.88\n",
      "轮数: 115, 测试集损失: 0.44, 测试集准确度: 0.88\n",
      "轮数: 116, 测试集损失: 0.44, 测试集准确度: 0.88\n",
      "轮数: 117, 测试集损失: 0.44, 测试集准确度: 0.88\n",
      "轮数: 118, 测试集损失: 0.44, 测试集准确度: 0.88\n",
      "轮数: 119, 测试集损失: 0.43, 测试集准确度: 0.88\n",
      "轮数: 120, 测试集损失: 0.43, 测试集准确度: 0.88\n",
      "轮数: 121, 测试集损失: 0.43, 测试集准确度: 0.88\n",
      "轮数: 122, 测试集损失: 0.43, 测试集准确度: 0.88\n",
      "轮数: 123, 测试集损失: 0.43, 测试集准确度: 0.88\n",
      "轮数: 124, 测试集损失: 0.43, 测试集准确度: 0.88\n",
      "轮数: 125, 测试集损失: 0.43, 测试集准确度: 0.88\n",
      "轮数: 126, 测试集损失: 0.43, 测试集准确度: 0.88\n",
      "轮数: 127, 测试集损失: 0.43, 测试集准确度: 0.88\n",
      "轮数: 128, 测试集损失: 0.43, 测试集准确度: 0.89\n",
      "轮数: 129, 测试集损失: 0.42, 测试集准确度: 0.89\n",
      "轮数: 130, 测试集损失: 0.42, 测试集准确度: 0.89\n",
      "轮数: 131, 测试集损失: 0.41, 测试集准确度: 0.89\n",
      "轮数: 132, 测试集损失: 0.4, 测试集准确度: 0.9\n",
      "轮数: 133, 测试集损失: 0.4, 测试集准确度: 0.91\n",
      "轮数: 134, 测试集损失: 0.4, 测试集准确度: 0.92\n",
      "轮数: 135, 测试集损失: 0.39, 测试集准确度: 0.92\n",
      "轮数: 136, 测试集损失: 0.39, 测试集准确度: 0.92\n",
      "轮数: 137, 测试集损失: 0.39, 测试集准确度: 0.93\n",
      "轮数: 138, 测试集损失: 0.39, 测试集准确度: 0.92\n",
      "轮数: 139, 测试集损失: 0.39, 测试集准确度: 0.93\n",
      "轮数: 140, 测试集损失: 0.39, 测试集准确度: 0.93\n",
      "轮数: 141, 测试集损失: 0.39, 测试集准确度: 0.93\n",
      "轮数: 142, 测试集损失: 0.38, 测试集准确度: 0.93\n",
      "轮数: 143, 测试集损失: 0.38, 测试集准确度: 0.93\n",
      "轮数: 144, 测试集损失: 0.38, 测试集准确度: 0.93\n",
      "轮数: 145, 测试集损失: 0.38, 测试集准确度: 0.93\n",
      "轮数: 146, 测试集损失: 0.38, 测试集准确度: 0.93\n",
      "轮数: 147, 测试集损失: 0.38, 测试集准确度: 0.93\n",
      "轮数: 148, 测试集损失: 0.38, 测试集准确度: 0.93\n",
      "轮数: 149, 测试集损失: 0.38, 测试集准确度: 0.94\n",
      "轮数: 150, 测试集损失: 0.38, 测试集准确度: 0.94\n",
      "轮数: 151, 测试集损失: 0.37, 测试集准确度: 0.94\n",
      "轮数: 152, 测试集损失: 0.37, 测试集准确度: 0.94\n",
      "轮数: 153, 测试集损失: 0.37, 测试集准确度: 0.94\n",
      "轮数: 154, 测试集损失: 0.37, 测试集准确度: 0.94\n",
      "轮数: 155, 测试集损失: 0.37, 测试集准确度: 0.94\n",
      "轮数: 156, 测试集损失: 0.37, 测试集准确度: 0.94\n",
      "轮数: 157, 测试集损失: 0.37, 测试集准确度: 0.94\n",
      "轮数: 158, 测试集损失: 0.37, 测试集准确度: 0.94\n",
      "轮数: 159, 测试集损失: 0.37, 测试集准确度: 0.94\n",
      "轮数: 160, 测试集损失: 0.37, 测试集准确度: 0.94\n",
      "轮数: 161, 测试集损失: 0.37, 测试集准确度: 0.94\n",
      "轮数: 162, 测试集损失: 0.37, 测试集准确度: 0.95\n",
      "轮数: 163, 测试集损失: 0.37, 测试集准确度: 0.94\n",
      "轮数: 164, 测试集损失: 0.37, 测试集准确度: 0.95\n",
      "轮数: 165, 测试集损失: 0.37, 测试集准确度: 0.95\n",
      "轮数: 166, 测试集损失: 0.37, 测试集准确度: 0.95\n",
      "轮数: 167, 测试集损失: 0.37, 测试集准确度: 0.95\n",
      "轮数: 168, 测试集损失: 0.37, 测试集准确度: 0.95\n",
      "轮数: 169, 测试集损失: 0.37, 测试集准确度: 0.95\n",
      "轮数: 170, 测试集损失: 0.37, 测试集准确度: 0.95\n",
      "轮数: 171, 测试集损失: 0.37, 测试集准确度: 0.95\n",
      "轮数: 172, 测试集损失: 0.37, 测试集准确度: 0.95\n",
      "轮数: 173, 测试集损失: 0.37, 测试集准确度: 0.95\n",
      "轮数: 174, 测试集损失: 0.37, 测试集准确度: 0.95\n",
      "轮数: 175, 测试集损失: 0.37, 测试集准确度: 0.95\n",
      "轮数: 176, 测试集损失: 0.37, 测试集准确度: 0.95\n",
      "轮数: 177, 测试集损失: 0.37, 测试集准确度: 0.95\n",
      "轮数: 178, 测试集损失: 0.37, 测试集准确度: 0.95\n",
      "轮数: 179, 测试集损失: 0.37, 测试集准确度: 0.95\n",
      "轮数: 180, 测试集损失: 0.36, 测试集准确度: 0.95\n",
      "轮数: 181, 测试集损失: 0.37, 测试集准确度: 0.95\n",
      "轮数: 182, 测试集损失: 0.37, 测试集准确度: 0.95\n",
      "轮数: 183, 测试集损失: 0.36, 测试集准确度: 0.95\n",
      "轮数: 184, 测试集损失: 0.36, 测试集准确度: 0.95\n",
      "轮数: 185, 测试集损失: 0.36, 测试集准确度: 0.95\n",
      "轮数: 186, 测试集损失: 0.36, 测试集准确度: 0.95\n",
      "轮数: 187, 测试集损失: 0.36, 测试集准确度: 0.95\n",
      "轮数: 188, 测试集损失: 0.36, 测试集准确度: 0.95\n",
      "轮数: 189, 测试集损失: 0.36, 测试集准确度: 0.95\n",
      "轮数: 190, 测试集损失: 0.36, 测试集准确度: 0.95\n",
      "轮数: 191, 测试集损失: 0.36, 测试集准确度: 0.95\n",
      "轮数: 192, 测试集损失: 0.36, 测试集准确度: 0.95\n",
      "轮数: 193, 测试集损失: 0.36, 测试集准确度: 0.95\n",
      "轮数: 194, 测试集损失: 0.36, 测试集准确度: 0.95\n",
      "轮数: 195, 测试集损失: 0.36, 测试集准确度: 0.95\n",
      "轮数: 196, 测试集损失: 0.36, 测试集准确度: 0.95\n",
      "轮数: 197, 测试集损失: 0.36, 测试集准确度: 0.95\n",
      "轮数: 198, 测试集损失: 0.37, 测试集准确度: 0.94\n",
      "轮数: 199, 测试集损失: 0.36, 测试集准确度: 0.95\n",
      "轮数: 200, 测试集损失: 0.36, 测试集准确度: 0.95\n"
     ]
    }
   ],
   "source": [
    "import tensorflow as tf\n",
    "\n",
    "epochs = 200\n",
    "batch_size = 200\n",
    "init = tf.initialize_all_variables()\n",
    "sess = tf.Session()\n",
    "sess.run(init)\n",
    "\n",
    "# 存放训练的数据，用来可视化\n",
    "train_loss = []\n",
    "test_loss = []\n",
    "train_accuracy = []\n",
    "test_accuracy = []\n",
    "\n",
    "# 循环训练epochs轮\n",
    "for epoch in range(epochs):\n",
    "\n",
    "    # 打乱数据\n",
    "    shuffled_idx = np.random.permutation(np.arange(len(x_train)))\n",
    "    x_train = x_train[shuffled_idx]\n",
    "    y_train = y_train[shuffled_idx]\n",
    "    # 计算训练次数\n",
    "    num_batches = int(len(x_train)/batch_size) + 1\n",
    "    # 每批次进行一次训练\n",
    "    for i in range(num_batches):\n",
    "        # Select train data\n",
    "        min_idx = i * batch_size\n",
    "        max_idx = np.min([len(x_train), ((i+1) * batch_size)])\n",
    "        x_train_batch = x_train[min_idx:max_idx]\n",
    "        y_train_batch = y_train[min_idx:max_idx]\n",
    "        \n",
    "        # 训练的输入数据\n",
    "        train_dict = {x_data: x_train_batch, y_output: y_train_batch}\n",
    "        # 开始训练\n",
    "        sess.run(train_step, feed_dict=train_dict)\n",
    "        \n",
    "    # 计算训练集的损失与准确度\n",
    "    temp_train_loss, temp_train_acc = sess.run([loss, accuracy], feed_dict=train_dict)\n",
    "    train_loss.append(temp_train_loss)\n",
    "    train_accuracy.append(temp_train_acc)\n",
    "    \n",
    "    # 计算测试集的损失预准确度\n",
    "    test_dict = {x_data: x_test, y_output: y_test}\n",
    "    temp_test_loss, temp_test_acc = sess.run([loss, accuracy], feed_dict=test_dict)\n",
    "    test_loss.append(temp_test_loss)\n",
    "    test_accuracy.append(temp_test_acc)\n",
    "    print(F'轮数: {epoch+1}, 测试集损失: {temp_test_loss:.2}, 测试集准确度: {temp_test_acc:.2}')"
   ]
  },
  {
   "cell_type": "markdown",
   "metadata": {},
   "source": [
    "## 模型评估"
   ]
  },
  {
   "cell_type": "code",
   "execution_count": 23,
   "metadata": {},
   "outputs": [
    {
     "data": {
      "image/png": "[encoded data removed]",
      "text/plain": [
       "<Figure size 432x288 with 1 Axes>"
      ]
     },
     "metadata": {
      "needs_background": "light"
     },
     "output_type": "display_data"
    },
    {
     "data": {
      "image/png": "[encoded data removed]",
      "text/plain": [
       "<Figure size 432x288 with 1 Axes>"
      ]
     },
     "metadata": {
      "needs_background": "light"
     },
     "output_type": "display_data"
    }
   ],
   "source": [
    "% matplotlib inline\n",
    "import matplotlib.pyplot as plt\n",
    "\n",
    "epoch_seq = np.arange(1, epochs+1)   # 定制显示x坐标，训练的轮数\n",
    "\n",
    "plt.plot(epoch_seq, train_loss, 'b--', label='训练集')\n",
    "plt.plot(epoch_seq, test_loss, 'r-', label='测试集')\n",
    "plt.title('损失值曲线')\n",
    "plt.xlabel('轮数')\n",
    "plt.ylabel('Softmax损失')\n",
    "plt.legend(loc='upper left')\n",
    "plt.show()\n",
    "\n",
    "# Plot accuracy over time\n",
    "plt.plot(epoch_seq, train_accuracy, 'b--', label='训练集')\n",
    "plt.plot(epoch_seq, test_accuracy, 'r-', label='测试集')\n",
    "plt.title('准确度曲线')\n",
    "plt.xlabel('轮数')\n",
    "plt.ylabel('准确度')\n",
    "plt.legend(loc='upper left')\n",
    "plt.show()"
   ]
  },
  {
   "cell_type": "markdown",
   "metadata": {},
   "source": []
  }
 ],
 "metadata": {
  "kernelspec": {
   "display_name": "Python 3",
   "language": "python",
   "name": "python3"
  },
  "language_info": {
   "codemirror_mode": {
    "name": "ipython",
    "version": 3
   },
   "file_extension": ".py",
   "mimetype": "text/x-python",
   "name": "python",
   "nbconvert_exporter": "python",
   "pygments_lexer": "ipython3",
   "version": "3.6.6"
  },
  "toc": {
   "base_numbering": 1,
   "nav_menu": {},
   "number_sections": true,
   "sideBar": true,
   "skip_h1_title": false,
   "title_cell": "Table of Contents",
   "title_sidebar": "Contents",
   "toc_cell": false,
   "toc_position": {},
   "toc_section_display": true,
   "toc_window_display": false
  }
 },
 "nbformat": 4,
 "nbformat_minor": 2
}
