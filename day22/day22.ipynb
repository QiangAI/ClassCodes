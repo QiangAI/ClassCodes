{
 "cells": [
  {
   "cell_type": "markdown",
   "metadata": {},
   "source": [
    "# 问题\n",
    "\n",
    "1. 逻辑回归的问题\n",
    "    - $y = S( xW)$ ，其中y是概率；\n",
    "        - 逻辑回归，分类的效果，实际还是线性。（绘制图形，分类边界线：直线）：属于线性回归；\n",
    "        - 输出概率：正分类概率（属于A概率），负分类概率（属于B概率）\n",
    "            - y只输出一个概率。就算正分类概率：99.99% 负分类概率（99.999%）\n",
    "                - p(A) + p(B) =1 p(A)>=0.5 可以做结论。\n",
    "            - 标签进行改造：\n",
    "                - A = 0    :     `[1,  0]`\n",
    "                - B = 1    :     `[0,  1]`\n",
    "                \n",
    "            - 训练：\n",
    "                - $p =  [p_a, p_b]$    \n",
    "                    - $p_a \\gt   p_b ,\\qquad   x \\in A \\text{类}$"
   ]
  },
  {
   "cell_type": "markdown",
   "metadata": {},
   "source": [
    "2. 一个不能线性可分的例子"
   ]
  },
  {
   "cell_type": "code",
   "execution_count": 62,
   "metadata": {
    "scrolled": true
   },
   "outputs": [
    {
     "name": "stdout",
     "output_type": "stream",
     "text": [
      "100\n"
     ]
    },
    {
     "data": {
      "image/png": "[encoded data removed]",
      "text/plain": [
       "<Figure size 576x288 with 1 Axes>"
      ]
     },
     "metadata": {
      "needs_background": "light"
     },
     "output_type": "display_data"
    },
    {
     "data": {
      "text/plain": [
       "array([-1., -1., -1., ..., -1., -1., -1.])"
      ]
     },
     "execution_count": 62,
     "metadata": {},
     "output_type": "execute_result"
    }
   ],
   "source": [
    "% matplotlib inline\n",
    "import matplotlib.pyplot as plt\n",
    "import numpy as np\n",
    "import sklearn  as sk\n",
    "import pandas as pd\n",
    "from sklearn.svm  import SVC\n",
    "from  matplotlib.colors import ListedColormap    \n",
    "from sklearn.linear_model import LogisticRegression\n",
    "\n",
    "# 样本集的该要信息（可视化）\n",
    "\n",
    "# 1. 读取数据样本\n",
    "data = pd.read_csv('train_data.csv')\n",
    "# 对数据分成-1，1两类\n",
    "# data['label'] == 1.0\n",
    "data_1 = data[data['label'].isin([1.0])]\n",
    "data_2 = data[data['label'].isin([-1.0])]\n",
    "\n",
    "# -----------------\n",
    "# 训练特征（2个特征：列）样本\n",
    "X = data[['feature1', 'feature2']]\n",
    "# 训练标签\n",
    "Y =data['label']\n",
    "# 使用sklearn创建SVM分类器SVC\n",
    "classfier = SVC(C=1, gamma=10)\n",
    "# classfier = LogisticRegression()\n",
    "# 开始训练\n",
    "classfier.fit(X,Y)    # 训练过程中得到一些参数。\n",
    "\n",
    "# 预测(使用训练集作为预测样本)\n",
    "predict = classfier.predict(X)   # 得到的结果就是分类结果\n",
    "\n",
    "print((predict == data['label']).sum())\n",
    "\n",
    "# -----------------\n",
    "\n",
    "\n",
    "\n",
    "# 2. 可视化\n",
    "figure = plt.figure('SVM', figsize=(8,4))\n",
    "ax = figure.add_axes([0.1, 0.1, 0.8, 0.8])\n",
    "# ===================\n",
    "# 使用颜色把分类的区域标识出来（达到3维信息的可视化效果）\n",
    "# 把数据所在范围：分成若干行与列，每个行列的交叉点当成样本数据，\n",
    "# 这个样本数据在上面的训练结果下有一个预测值，这个预测值使用不同颜色绘制出来，就形成区域\n",
    "# 1. 对数据x，y方向取最大值与最小值\n",
    "# 取两个特征的数据值\n",
    "x1 = X['feature1']\n",
    "x2 = X['feature2']\n",
    "# 最两个坐标轴定位最大最小值\n",
    "x1_min, x1_max = x1.min(), x1.max()    # x轴\n",
    "x2_min, x2_max = x2.min(), x2.max()  # y轴\n",
    "\n",
    "# 放大\n",
    "x1_min -= 0.25\n",
    "x1_max += 0.25\n",
    "\n",
    "x2_min -= 0.25\n",
    "x2_max += 0.25\n",
    "\n",
    "ax.set_xlim(x1_min, x1_max)\n",
    "ax.set_xlim(x2_min, x2_max)\n",
    "\n",
    "# 2. 把最小与最大之间划分成n个等差数列值。\n",
    "x1_grid,  x2_grid = np.mgrid[x1_min: x1_max: 400j, x2_min: x2_max: 400j]   # 根据类似切片的数据描述分成n等分\n",
    "# 3. 形成n*n的坐标（表示一样笨）列表\n",
    "# 把数据变成一维\n",
    "x1_flat = x1_grid.flat    # 2维变1为\n",
    "x2_flat = x2_grid.flat\n",
    "\n",
    "# 形成网格坐标\n",
    "grid_plane =np.stack((x1_flat, x2_flat), axis=1)  # 对应映射，形成坐标（是一个矩阵）\n",
    "# 4. 列表中的每个坐标在训练模型下，就有一个输出值（分类）\n",
    "grid_predict = classfier.predict(grid_plane)\n",
    "\n",
    "# 5. 根据输出值，直接绘制颜色（,atplotlib中Axes提供一个函数绘制这种图形）pcolormesh 像素颜色网格图ax.pcolormesh\n",
    "#  grid_predict的数据是1维，变成对应的坐标格式：与x1_grid，x2_grid形状。\n",
    "\n",
    "ax.pcolormesh(x1_grid, x2_grid, grid_predict.reshape(x1_grid.shape),  cmap=ListedColormap([ (0.2, 0.8, 0.8, 1),(0.6, 0.6, 0.2, 1)]))\n",
    "# ===================\n",
    "ax.scatter(data_1['feature1'], data_1['feature2'], c='r', s=16, marker='o')\n",
    "ax.scatter(data_2['feature1'], data_2['feature2'], c='b', s=16, marker='x')\n",
    "\n",
    "plt.show()\n",
    "grid_predict"
   ]
  },
  {
   "cell_type": "markdown",
   "metadata": {},
   "source": [
    "- 注释：\n",
    "    - 实现逻辑回归，这两类样本不可分的。\n",
    "    \n",
    "    - 算法的掌握程度：\n",
    "        - 利用sklearn，tensorflow调用算法函数；\n",
    "        - 调整参数\n",
    "            - 用参：理解参数的含义：控制参数达到我的目标；\n",
    "            - 调参：训练参数：机器训练得到最佳参数\n",
    "           \n",
    "        - 在别人的算法基础上，设计算法\n",
    "            - 设计算法（根据业务数据，选择算法改进）\n",
    "            - 实现算法\n",
    "            \n",
    "        - 创新算法"
   ]
  },
  {
   "cell_type": "markdown",
   "metadata": {},
   "source": [
    "3. 使用SVM的不可分的效果"
   ]
  },
  {
   "cell_type": "markdown",
   "metadata": {},
   "source": []
  },
  {
   "cell_type": "markdown",
   "metadata": {},
   "source": []
  },
  {
   "cell_type": "markdown",
   "metadata": {},
   "source": []
  }
 ],
 "metadata": {
  "kernelspec": {
   "display_name": "Python 3",
   "language": "python",
   "name": "python3"
  },
  "language_info": {
   "codemirror_mode": {
    "name": "ipython",
    "version": 3
   },
   "file_extension": ".py",
   "mimetype": "text/x-python",
   "name": "python",
   "nbconvert_exporter": "python",
   "pygments_lexer": "ipython3",
   "version": "3.6.6"
  },
  "toc": {
   "base_numbering": 1,
   "nav_menu": {},
   "number_sections": true,
   "sideBar": true,
   "skip_h1_title": false,
   "title_cell": "Table of Contents",
   "title_sidebar": "Contents",
   "toc_cell": false,
   "toc_position": {},
   "toc_section_display": true,
   "toc_window_display": false
  }
 },
 "nbformat": 4,
 "nbformat_minor": 2
}
