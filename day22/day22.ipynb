{
 "cells": [
  {
   "cell_type": "markdown",
   "metadata": {},
   "source": [
    "# 问题\n",
    "\n",
    "1. 逻辑回归的问题\n",
    "    - $y = S( xW)$ ，其中y是概率；\n",
    "        - 逻辑回归，分类的效果，实际还是线性。（绘制图形，分类边界线：直线）：属于线性回归；\n",
    "        - 输出概率：正分类概率（属于A概率），负分类概率（属于B概率）\n",
    "            - y只输出一个概率。就算正分类概率：99.99% 负分类概率（99.999%）\n",
    "                - p(A) + p(B) =1 p(A)>=0.5 可以做结论。\n",
    "            - 标签进行改造：\n",
    "                - A = 0    :     `[1,  0]`\n",
    "                - B = 1    :     `[0,  1]`\n",
    "                \n",
    "            - 训练：\n",
    "                - $p =  [p_a, p_b]$    \n",
    "                    - $p_a \\gt   p_b ,\\qquad   x \\in A \\text{类}$"
   ]
  },
  {
   "cell_type": "markdown",
   "metadata": {},
   "source": [
    "2. 一个不能线性可分的例子"
   ]
  },
  {
   "cell_type": "code",
   "execution_count": 73,
   "metadata": {
    "scrolled": true
   },
   "outputs": [
    {
     "name": "stdout",
     "output_type": "stream",
     "text": [
      "100\n"
     ]
    },
    {
     "data": {
      "image/png": "[encoded data removed]",
      "text/plain": [
       "<Figure size 576x288 with 1 Axes>"
      ]
     },
     "metadata": {
      "needs_background": "light"
     },
     "output_type": "display_data"
    },
    {
     "data": {
      "text/plain": [
       "array([-1., -1., -1., ..., -1., -1., -1.])"
      ]
     },
     "execution_count": 73,
     "metadata": {},
     "output_type": "execute_result"
    }
   ],
   "source": [
    "% matplotlib inline\n",
    "import matplotlib.pyplot as plt\n",
    "import numpy as np\n",
    "import sklearn  as sk\n",
    "import pandas as pd\n",
    "from sklearn.svm  import SVC\n",
    "from  matplotlib.colors import ListedColormap    \n",
    "from sklearn.linear_model import LogisticRegression\n",
    "\n",
    "# 样本集的该要信息（可视化）\n",
    "\n",
    "# 1. 读取数据样本\n",
    "data = pd.read_csv('train_data.csv')\n",
    "# 对数据分成-1，1两类\n",
    "# data['label'] == 1.0\n",
    "data_1 = data[data['label'].isin([1.0])]\n",
    "data_2 = data[data['label'].isin([-1.0])]\n",
    "# -----------------\n",
    "# 训练特征（2个特征：列）样本\n",
    "X = data[['feature1', 'feature2']]\n",
    "# 训练标签\n",
    "Y =data['label']\n",
    "# 使用sklearn创建SVM分类器SVC\n",
    "classfier = SVC(C=1, gamma=10)    # SVM分类器\n",
    "# classfier = LogisticRegression()\n",
    "# 开始训练\n",
    "classfier.fit(X,Y)    # 训练过程中得到一些参数。\n",
    "# 预测(使用训练集作为预测样本)\n",
    "predict = classfier.predict(X)   # 得到的结果就是分类结果\n",
    "print((predict == data['label']).sum())\n",
    "# -----------------\n",
    "# 2. 可视化\n",
    "figure = plt.figure('SVM', figsize=(8,4))\n",
    "ax = figure.add_axes([0.1, 0.1, 0.8, 0.8])\n",
    "# ===================\n",
    "# 使用颜色把分类的区域标识出来（达到3维信息的可视化效果）\n",
    "# 把数据所在范围：分成若干行与列，每个行列的交叉点当成样本数据，\n",
    "# 这个样本数据在上面的训练结果下有一个预测值，这个预测值使用不同颜色绘制出来，就形成区域\n",
    "# 1. 对数据x，y方向取最大值与最小值\n",
    "# 取两个特征的数据值\n",
    "x1 = X['feature1']\n",
    "x2 = X['feature2']\n",
    "# 最两个坐标轴定位最大最小值\n",
    "x1_min, x1_max = x1.min(), x1.max()    # x轴\n",
    "x2_min, x2_max = x2.min(), x2.max()  # y轴\n",
    "# 放大\n",
    "x1_min -= 0.25\n",
    "x1_max += 0.25\n",
    "x2_min -= 0.25\n",
    "x2_max += 0.25\n",
    "ax.set_xlim(x1_min, x1_max)\n",
    "ax.set_ylim(x2_min, x2_max)\n",
    "# 2. 把最小与最大之间划分成n个等差数列值。\n",
    "x1_grid,  x2_grid = np.mgrid[x1_min: x1_max: 400j, x2_min: x2_max: 400j]   # 根据类似切片的数据描述分成n等分\n",
    "# 3. 形成n*n的坐标（表示一样笨）列表\n",
    "# 把数据变成一维\n",
    "x1_flat = x1_grid.flat    # 2维变1为\n",
    "x2_flat = x2_grid.flat\n",
    "\n",
    "# 形成网格坐标\n",
    "grid_plane =np.stack((x1_flat, x2_flat), axis=1)  # 对应映射，形成坐标（是一个矩阵）\n",
    "# 4. 列表中的每个坐标在训练模型下，就有一个输出值（分类）\n",
    "grid_predict = classfier.predict(grid_plane)\n",
    "\n",
    "# 5. 根据输出值，直接绘制颜色（,atplotlib中Axes提供一个函数绘制这种图形）pcolormesh 像素颜色网格图ax.pcolormesh\n",
    "#  grid_predict的数据是1维，变成对应的坐标格式：与x1_grid，x2_grid形状。\n",
    "\n",
    "ax.pcolormesh(x1_grid, x2_grid, grid_predict.reshape(x1_grid.shape),  cmap=ListedColormap([ (0.2, 0.7, 0.7, 0.7),(0.8, 0.8, 0.2, 0.7)]))\n",
    "# ===================\n",
    "ax.scatter(data_1['feature1'], data_1['feature2'], c='r', s=16, marker='o')\n",
    "ax.scatter(data_2['feature1'], data_2['feature2'], c='b', s=16, marker='x')\n",
    "\n",
    "plt.show()\n",
    "grid_predict"
   ]
  },
  {
   "cell_type": "markdown",
   "metadata": {},
   "source": [
    "- 注释：\n",
    "    - 实现逻辑回归，这两类样本不可分的。\n",
    "    \n",
    "    - 算法的掌握程度：\n",
    "        - 利用sklearn，tensorflow调用算法函数；\n",
    "        - 调整参数\n",
    "            - 用参：理解参数的含义：控制参数达到我的目标；\n",
    "            - 调参：训练参数：机器训练得到最佳参数\n",
    "           \n",
    "        - 在别人的算法基础上，设计算法\n",
    "            - 设计算法（根据业务数据，选择算法改进）\n",
    "            - 实现算法\n",
    "            \n",
    "        - 创新算法"
   ]
  },
  {
   "cell_type": "markdown",
   "metadata": {},
   "source": [
    "3. 使用SVM的不可分的效果"
   ]
  },
  {
   "cell_type": "markdown",
   "metadata": {},
   "source": [
    "# SVM的模型"
   ]
  },
  {
   "cell_type": "markdown",
   "metadata": {},
   "source": [
    "## 问题的出发点\n",
    "\n",
    "- 从分类的另外角度来谈起"
   ]
  },
  {
   "cell_type": "markdown",
   "metadata": {},
   "source": [
    "- 逻辑回归的不足或者逻辑回归的优化\n",
    "\n",
    "    - 使用逻辑回归分类\n",
    "        - 使用鸢尾花的数据来进行分类；（鸢尾花取2个特征：特征1，特征2（花萼宽度与长度）| 特征3，特征4（花瓣宽度与长度） ）"
   ]
  },
  {
   "cell_type": "code",
   "execution_count": 116,
   "metadata": {},
   "outputs": [
    {
     "data": {
      "image/png": "[encoded data removed]",
      "text/plain": [
       "<Figure size 432x288 with 1 Axes>"
      ]
     },
     "metadata": {
      "needs_background": "light"
     },
     "output_type": "display_data"
    },
    {
     "data": {
      "text/plain": [
       "array([0, 0, 0, 0, 0, 0, 0, 0, 0, 0, 0, 0, 0, 0, 0, 0, 0, 0, 0, 0, 0, 0,\n",
       "       0, 0, 0, 0, 0, 0, 0, 0, 0, 0, 0, 0, 0, 0, 0, 0, 0, 0, 0, 0, 0, 0,\n",
       "       0, 0, 0, 0, 0, 0, 1, 1, 1, 1, 1, 1, 1, 1, 1, 1, 1, 1, 1, 1, 1, 1,\n",
       "       1, 1, 1, 1, 1, 1, 1, 1, 1, 1, 1, 1, 1, 1, 1, 1, 1, 1, 1, 1, 1, 1,\n",
       "       1, 1, 1, 1, 1, 1, 1, 1, 1, 1, 1, 1])"
      ]
     },
     "execution_count": 116,
     "metadata": {},
     "output_type": "execute_result"
    }
   ],
   "source": [
    "% matplotlib inline\n",
    "import numpy as np\n",
    "import sklearn.datasets as ds     # 鸢尾花数据集\n",
    "from sklearn.linear_model import LogisticRegression   # 逻辑回归\n",
    "import matplotlib.pyplot as plt    \n",
    "from matplotlib.colors import ListedColormap    # 颜色列表\n",
    "\n",
    "\n",
    "# 1. 加载鸢尾花数据\n",
    "data, target = ds.load_iris(return_X_y=True)\n",
    "\n",
    "X = data[0:100, ::2 ]   # 取100个样本（A类与B类），2个特征（花瓣的高度，花萼的高度）\n",
    "Y = target[0:100]\n",
    "# 3. 使用逻辑回归分类\n",
    "classfier = LogisticRegression(solver='lbfgs')   # 默认参数\n",
    "\n",
    "# 训练数据\n",
    "classfier.fit(X,Y)\n",
    "\n",
    "# 预测\n",
    "X_pre = classfier.predict(X)   # 100%的正确率（正确率无法完全说明训练效果的好坏：精准率 + 召回率）\n",
    "\n",
    "\n",
    "\n",
    "# 2. 可视化鸢尾花数据（50 + 50 = 100）\n",
    "figure = plt.figure('逻辑回归', figsize=(6, 4))\n",
    "ax = figure.add_axes([0.1, 0.1, 0.8, 0.8])\n",
    "# 4. 可视化分类效果\n",
    "# ====================\n",
    "# x轴，y轴均等n等分\n",
    "x1_min, x1_max = X[:, 0].min(), X[:, 0].max()\n",
    "x2_min, x2_max = X[:, 1].min(), X[:, 1].max()\n",
    "# 放大\n",
    "x1_min -= 0.25\n",
    "x1_max += 0.25\n",
    "x2_min -= 0.25\n",
    "x2_max += 0.25\n",
    "\n",
    "ax.set_xlim(x1_min, x1_max)\n",
    "ax.set_ylim(x2_min, x2_max)\n",
    "# 绘制的坐标点\n",
    "x1_grid , x2_grid = np.mgrid[x1_min: x1_max: 1000j, x2_min: x2_max: 1000j] \n",
    "\n",
    "grid_plane = np.stack( (x1_grid.flat,  x2_grid.flat), axis = 1)   # 一维\n",
    "\n",
    "# 根据坐标点，得到分类结果\n",
    "c = classfier.predict(grid_plane)   # 分类（0，1），绘制时候，根据0，1选择样本的显示颜色\n",
    "# c的形状与x1_grid同型\n",
    "c = c.reshape(x1_grid.shape)\n",
    "\n",
    "colors = ListedColormap([(0.2, 0.8, 0.8), (0.6, 0.6, 0.3)])\n",
    "\n",
    "ax.pcolormesh(x1_grid, x2_grid, c, cmap=colors )\n",
    "\n",
    "# 形成坐标系网格模拟样本\n",
    "\n",
    "# 使用上面训练结果，得到模拟样本的分类结果\n",
    "\n",
    "# 使用颜色标识出来\n",
    "\n",
    "# ====================\n",
    "ax.scatter(X[:50, 0], X[:50, 1], c='r', s=9, marker='.')  # 前面50个A类数据\n",
    "ax.scatter(X[50:, 0], X[50:, 1], c='b', s=9, marker='.')  # 后面50个B类数据\n",
    "\n",
    "# 可视化逻辑回归的直线\n",
    "\n",
    "coef = classfier.coef_\n",
    "intercept = classfier.intercept_\n",
    "\n",
    "# 按照x轴取1000个点\n",
    "xx = np.linspace(x1_min, x1_max,1000)\n",
    "#  表达分类直线\n",
    "line = lambda x: - ( coef[0,0] * x + intercept) /  (coef[0, 1]) \n",
    "\n",
    "yy = line(xx)\n",
    "\n",
    "ax.plot(xx,yy, color=(1,0,0,1), linewidth=3 )\n",
    "\n",
    "plt.show()\n",
    "\n",
    "X_pre"
   ]
  },
  {
   "cell_type": "markdown",
   "metadata": {},
   "source": [
    "- 问题：\n",
    "    - 分类直线是不确定的。\n",
    "    - 过拟合现象。"
   ]
  },
  {
   "cell_type": "markdown",
   "metadata": {},
   "source": [
    "- 思路：\n",
    "    - 找一条直线，分类样本，这条直线未必一定按照分类的概率模型寻找，也可以按照几何方式查找。\n",
    "    \n",
    "    \n",
    "- 线性分类平面：\n",
    "    - $xW+b=0$     \n",
    "\n",
    "\n",
    "- 决策函数：\n",
    "    - $y=sign(xW+b)$     \n",
    "        - |- 1:分类AB    \n",
    "        - |- 2：分类C\n",
    "        \n",
    "        - 根据标签决定"
   ]
  },
  {
   "cell_type": "markdown",
   "metadata": {},
   "source": [
    "- 新的思路：（找到一个标准，唯一确定一条直线）\n",
    "    - 找一条直线\n",
    "        - 直线：均分（）\n",
    "        - 直线：唯一（斜率）\n",
    " \n",
    "- 给定两个样本集\n",
    "    - 找到距离的度量方式，计算两个样本集的距离\n",
    "        - 距离最短（定义距离）\n",
    "        \n",
    "    - 根据距离的定义方式，找到一条垂直直线，垂直直线就是分类先。\n",
    "    - 计算最大的距离\n",
    "        - 垂直线过最小距离平分点的直线就是分类线。"
   ]
  },
  {
   "cell_type": "markdown",
   "metadata": {},
   "source": [
    "- 距离的定义\n",
    "    - 假设直线存在\n",
    "        - $y = xW$\n",
    "    - 距离的定义\n",
    "        - 每个点到直线的距离做成度量的数据（垂直距离）\n",
    "    - 损失标准\n",
    "        - 样本集到直线的距离：最大。\n",
    "        - 这样直线是唯一的。"
   ]
  },
  {
   "cell_type": "markdown",
   "metadata": {},
   "source": [
    "- 思路：\n",
    "    - 垂直距离\n",
    "        "
   ]
  },
  {
   "cell_type": "markdown",
   "metadata": {},
   "source": [
    "## 数据基础的推导"
   ]
  },
  {
   "cell_type": "markdown",
   "metadata": {},
   "source": [
    "- 点到直线的距离表达\n",
    "    1. 直线的表示\n",
    "        - 丢弃这种类型的直线标识：$y = xW$\n",
    "        \n",
    "        \n",
    "        - 从分类的角度：$0 = xW $：分类直线\n",
    "            - $xW>0$：直线上部分\n",
    "            - $xW<0$：直线下部分\n",
    "            - $xW=0$：在直线上\n",
    "            \n",
    "            \n",
    "    2. 距离的表达\n",
    "- 直线：$xW = 0, W = [w_1,w_2,\\dots,w_n] ^T $\n",
    "- 点：$x^ \\prime = [x_1,x_2,\\dots,x_n]$"
   ]
  },
  {
   "cell_type": "markdown",
   "metadata": {},
   "source": [
    "- $d= \\dfrac{| x_1w_1 + x_2w_2 + \\dots + x_nw_n |}{\\sqrt{w_1 ^2 + w_2 ^2 + \\dots+ w_n^2}}$"
   ]
  },
  {
   "cell_type": "markdown",
   "metadata": {},
   "source": [
    "- $d= \\dfrac{| x_1w_1 + x_2w_2 + \\dots + x_nw_n |}{||W||_2}$"
   ]
  },
  {
   "cell_type": "markdown",
   "metadata": {},
   "source": [
    "- 在欧氏空间中2范数的**定义**$||W||_2 =\\sqrt{w_1 ^2 + w_2 ^2 + \\dots+ w_n^2} $"
   ]
  },
  {
   "cell_type": "markdown",
   "metadata": {},
   "source": [
    "- $d= \\dfrac{1}{ \\dfrac{|n*|W||_2}{| x_1 n*w_1 + x_2n*w_2 + \\dots + x_n n*w_n |}}$"
   ]
  },
  {
   "cell_type": "markdown",
   "metadata": {},
   "source": [
    "- 假设$| x_1w_1 + x_2w_2 + \\dots + x_nw_n | = n$"
   ]
  },
  {
   "cell_type": "markdown",
   "metadata": {},
   "source": [
    "- 为了简化，记支撑点最近的距离为1.  $d= \\dfrac{1}{||W||_2}$\n",
    "\n",
    "    - 实际上，点到直线的几何距离是20还是1，不影响分类。\n",
    "   "
   ]
  },
  {
   "cell_type": "markdown",
   "metadata": {},
   "source": [
    "- 问题：（支撑向量Support Vector Machine： Support Vector Classfier ：SVC）\n",
    "   - 找到$W$，使得，支撑向量（样本中到直线的最大距离的样本），到直线的距离是$\\dfrac{1}{||W||_2}$.（不仅仅找$W$，而且是个规范化的$W$） \n",
    "   - 找到$W$，使得两个样本集的支撑向量的距离为$\\dfrac{2}{||W||_2}$，而且是最大."
   ]
  },
  {
   "cell_type": "markdown",
   "metadata": {},
   "source": [
    "## SVM的模型"
   ]
  },
  {
   "cell_type": "markdown",
   "metadata": {},
   "source": [
    "- 分类模型\n",
    "    - 找到$W$满足：\n",
    "        - $o = xW $\n",
    "            - |- o=-1  :属于A类\n",
    "            - |- o= 1   :属于B类"
   ]
  },
  {
   "cell_type": "markdown",
   "metadata": {},
   "source": [
    "- 损失模型：\n",
    "    - 这个W必须满足 $\\dfrac{1}{||W||_2}$最大，  $ s.t. y (xW)= 1$:分类正确"
   ]
  },
  {
   "cell_type": "markdown",
   "metadata": {},
   "source": [
    "- x = `-0.214824,0.662756`     -1   1\n",
    "- y= `-1.000000`\n",
    "    - W\n",
    "    - y (xW)  =1\n",
    "    \n",
    "- x = `-0.061569,-0.091875`\n",
    "- y= `1.000000`\n",
    "    - W \n",
    "    - y(xW) =1"
   ]
  },
  {
   "cell_type": "markdown",
   "metadata": {},
   "source": [
    "# SVM模型求解与推导\n",
    "\n",
    "- 找到一个平面，使得训练样本正确分类，同时使得支撑向量到平面的几何距离最大。\n",
    "\n",
    "- 问题：\n",
    "    - 条件最大的求解是非常痛苦。\n",
    "        - 提出数学理论，找到等价的线性求解公式。\n",
    "\n"
   ]
  },
  {
   "cell_type": "markdown",
   "metadata": {},
   "source": [
    "- 条件最大->代数最大\n",
    "    - ** 拉格朗日乘数定理 **\n",
    "    \n",
    "    - 如果： 代数最大 + 条件\n",
    "        - 【代数 +  （系数 * 条件）求和  】  最大： 系数必须大于0 ：拉格朗日乘数\n",
    "      "
   ]
  },
  {
   "cell_type": "markdown",
   "metadata": {},
   "source": [
    "- SVM在拉格朗日乘数表示：\n",
    "    - 求公式$ f(W) = \\dfrac{1}{||W||_2}  +   \\sum \\limits _{i=1} ^{n} \\alpha _i  (y_i (x_i W)- 1)  $最大\n",
    "    \n",
    "    - 求最小：\n",
    "        - $ f(W) =\\dfrac{1}{2} ||W||_2 -  \\sum \\limits _{i=1} ^{n} \\alpha _i  (y_i (x_i W)- 1)  $最小"
   ]
  },
  {
   "cell_type": "markdown",
   "metadata": {},
   "source": [
    "- 损失函数表示为：\n",
    "    - $L(W, \\alpha)=\\dfrac{1}{2} ||W||_2 -  \\sum \\limits _{i=1} ^{n} \\alpha _i  (y_i (x_i W)- 1)  $\n",
    "    - 固定$\\alpha$，$L(W, \\alpha)=\\dfrac{1}{2} ||W||_2 -  \\alpha \\sum \\limits _{i=1} ^{n}  (y_i (x_i W)- 1)  $\n",
    "    - 固定$\\alpha$，$L(W, \\alpha)= \\alpha (\\dfrac{1}{2} ||W||_2 - \\sum \\limits _{i=1} ^{n}  (y_i (x_i W)- 1))  $"
   ]
  },
  {
   "cell_type": "markdown",
   "metadata": {},
   "source": [
    "- 距离：\n",
    "    - 欧氏距离\n",
    "    - 其他距离"
   ]
  },
  {
   "cell_type": "markdown",
   "metadata": {},
   "source": [
    "- 求解\n",
    "    - 假设：$\\alpha_i= 常量$ ：问题就可以使用梯度下降法求解。\n",
    "    - 如果$\\alpha_i$如果不假设为常量，则需要通过数学推导，得到求解算法：SMO"
   ]
  },
  {
   "cell_type": "markdown",
   "metadata": {},
   "source": [
    "- 算法的种类：\n",
    "    - 基础算法（搜索，排序, .......）\n",
    "        - 直接基于容器算法\n",
    "    - 求值算法（数学推导，逻辑推导）\n",
    "        - 求解（数值分析/数值计算）\n",
    "    - 智能算法：机器学习算法：监督学习（预测，分类），无监督（K-Means，规则关联，PCA），半监督学习（马尔可夫链），强化学习\n",
    "        - 解决问题\n",
    "        \n",
    "        - 机器学习中的最成功的算法：神经网络\n",
    "            - 深度神经网络（深度学习）"
   ]
  },
  {
   "cell_type": "markdown",
   "metadata": {},
   "source": [
    "# Tensorflow"
   ]
  },
  {
   "cell_type": "markdown",
   "metadata": {},
   "source": [
    "## Tensorflow的基本编程模式（套路）\n",
    "\n",
    "- 图模式（张量Tensor流flow（Tensorflow）：计算节点的图：张量描述：张量：常量（参数），变量（训练系数），占位量）【非交互式】\n",
    "- 实时模式（直接计算，马上输出）：交互式计算模式"
   ]
  },
  {
   "cell_type": "markdown",
   "metadata": {},
   "source": [
    "- 固定参数：常量\n",
    "- 训练参数：变量\n",
    "- 输入数据：占位符\n",
    "\n",
    "- 按照算法啊，使用张量，实现算法实现\n",
    "\n",
    "- 执行：\n",
    "    - 初始化变量\n",
    "    - 执行操作"
   ]
  },
  {
   "cell_type": "code",
   "execution_count": 23,
   "metadata": {},
   "outputs": [
    {
     "name": "stdout",
     "output_type": "stream",
     "text": [
      "35.0\n"
     ]
    }
   ],
   "source": [
    "import numpy as np\n",
    "import tensorflow as tf\n",
    "import sklearn.datasets as ds\n",
    "\"\"\"\n",
    "Session的构造器\n",
    "__init__(\n",
    "    target='',\n",
    "    graph=None,\n",
    "    config=None\n",
    ")\n",
    "\n",
    "\n",
    "tf.constant(\n",
    "    value,\n",
    "    dtype=None,\n",
    "    shape=None,\n",
    "    name='Const',\n",
    "    verify_shape=False\n",
    ")\n",
    "# tf.Variable\n",
    "__init__(\n",
    "    initial_value=None,\n",
    "    trainable=True,\n",
    "    collections=None,\n",
    "    validate_shape=True,\n",
    "    caching_device=None,\n",
    "    name=None,\n",
    "    variable_def=None,\n",
    "    dtype=None,\n",
    "    expected_shape=None,\n",
    "    import_scope=None,\n",
    "    constraint=None,\n",
    "    use_resource=None,\n",
    "    synchronization=tf.VariableSynchronization.AUTO,\n",
    "    aggregation=tf.VariableAggregation.NONE\n",
    ")\n",
    "\n",
    "tf.placeholder(\n",
    "    dtype,\n",
    "    shape=None,\n",
    "    name=None\n",
    ")\n",
    "\n",
    "run(\n",
    "    fetches,      # 操作\n",
    "    feed_dict=None,  站位符的数据\n",
    "    options=None,\n",
    "    run_metadata=None\n",
    ")\n",
    "\"\"\"\n",
    "#  1. 构建执行会话环境\n",
    "session = tf.Session()\n",
    "\n",
    "\n",
    "# ---------------描述\n",
    "#  2. 描述量(常量，变量，占位符)\n",
    "\n",
    "# 常量\n",
    "a = tf.constant(5.0)\n",
    "b = tf.constant(15.0)\n",
    "\n",
    "# 变量\n",
    "v = tf.Variable(30.0)\n",
    "u = tf.Variable(56.0)\n",
    "\n",
    "# 站位符\n",
    "\n",
    "x = tf.placeholder(tf.float32, shape=None)   # 标量\n",
    "# x = tf.placeholder(tf.float32, shape=[None, ] )   #  变长数组（输入数据）\n",
    "\n",
    "\n",
    "#  3. 描述操作(遵循规则)\n",
    "c = a + x\n",
    "\n",
    "#  --------------计算\n",
    "#  4. 初始化所有量\n",
    "all_vars = tf.initializers.global_variables()    # 跟踪变量（与常量无关）\n",
    "\n",
    "re = session.run(all_vars)\n",
    "\n",
    "# 5. 执行操作（输入条件，输出结果）\n",
    "re = session.run(c, feed_dict={x: 30.0})\n",
    "print(re)\n"
   ]
  },
  {
   "cell_type": "markdown",
   "metadata": {},
   "source": [
    "## 线性回归tensorflow的实现"
   ]
  },
  {
   "cell_type": "markdown",
   "metadata": {},
   "source": [
    "### 线性回归的算法：\n",
    "\n",
    "- $ W = (X^T X)^{-1}X^T Y$"
   ]
  },
  {
   "cell_type": "code",
   "execution_count": 38,
   "metadata": {},
   "outputs": [
    {
     "data": {
      "image/png": "[encoded data removed]",
      "text/plain": [
       "<Figure size 576x432 with 1 Axes>"
      ]
     },
     "metadata": {
      "needs_background": "light"
     },
     "output_type": "display_data"
    }
   ],
   "source": [
    "# 引入模块环境\n",
    "%matplotlib inline\n",
    "import matplotlib.pyplot as plt\n",
    "import numpy as np\n",
    "import tensorflow as tf\n",
    "\n",
    "# 1. 描述变量(值需要定义两个占位符X, Y)\n",
    "X = tf.placeholder(dtype=tf.float32, shape=[None, 2])   # 数据是一维，加上解决 1\n",
    "Y = tf.placeholder(dtype=tf.float32, shape=[None, 1])\n",
    "\n",
    "# 2. 描述线性回归(线性求解公式)\n",
    "S1 = tf.transpose(X)     # 转置\n",
    "S2 = tf.matmul(S1, X)    # 内积\n",
    "S3 = tf.matrix_inverse(S2)   # 逆矩阵\n",
    "S4 = tf.matmul(S3, S1)    # 内积\n",
    "W = tf.matmul(S4, Y)   # 内积\n",
    "\n",
    "\n",
    "# 3. 构造会话环境\n",
    "session = tf.Session()\n",
    "\n",
    "# 4. 初始化变量\n",
    "all_vars = tf.global_variables_initializer()\n",
    "session.run(all_vars)\n",
    "# 5. 执行操作，得到结果（训练的线性系数）\n",
    "# 加载数据(数据格式：特别注意)\n",
    "x_data = np.loadtxt('ex2x.dat')\n",
    "y_data = np.loadtxt('ex2y.dat')\n",
    "\n",
    "# 数据格式化\n",
    "x = np.zeros(shape=[x_data.shape[0], 2] , dtype=np.float32)\n",
    "x[:, 0] = x_data\n",
    "x[:, 1] = 1 \n",
    "\n",
    "y = y_data.reshape([y_data.shape[0], 1])\n",
    "\n",
    "w = session.run(\n",
    "    W, \n",
    "    feed_dict={\n",
    "        X: x,\n",
    "        Y: y\n",
    "    }\n",
    ")\n",
    "\n",
    "# 6. 可视化分类效果（使用训练集看效果）\n",
    "figure = plt.figure('Tensorflow实现', figsize=(8, 6))\n",
    "ax = figure. add_axes([0.1, 0.1, 0.8, 0.8])\n",
    "\n",
    "# 可视化样本点\n",
    "ax.scatter(x_data, y_data, s=3**2, color='#FF0000' )\n",
    "ax.set_xlim(1, 10)\n",
    "ax.set_xticks([1,2,3,4,5,6,7,8,9,10])\n",
    "ax.set_xlabel('年龄',color=(1,0,0,1))\n",
    "\n",
    "# 可视化预测直线\n",
    "line_space = np.linspace(1,10, 100)\n",
    "line_x = np.zeros(shape=[100, 2] , dtype=np.float32)\n",
    "line_x[:, 0]=line_space\n",
    "line_x[:,  1] =1\n",
    "line_y = np.matmul(line_x, w)\n",
    "ax.plot(line_space, line_y, color='#0000FF', linewidth=3)\n",
    "\n",
    "plt.show()"
   ]
  },
  {
   "cell_type": "markdown",
   "metadata": {},
   "source": [
    "## 逻辑回归tensorflow的实现"
   ]
  },
  {
   "cell_type": "markdown",
   "metadata": {},
   "source": [
    "- 随机梯度下降：\n",
    "    - 分类模型\n",
    "        - $y = S(xW)$\n",
    "    - 损失模型(交叉熵)\n",
    "        - $L(W) = \\sum (y_1 log y_2 + (1-y_2) log(1-y_1) )$"
   ]
  },
  {
   "cell_type": "markdown",
   "metadata": {},
   "source": [
    "- Tensorflow封装编程模式\n",
    "    - 在分类模型下，损失函数最小\n",
    "         - 分类模型 + 训练样本的标签 -> 损失函数\n",
    "         - 优化器，使得损失函数最小（学习率）"
   ]
  },
  {
   "cell_type": "code",
   "execution_count": 37,
   "metadata": {},
   "outputs": [],
   "source": [
    "s = \"\"\"\n",
    "tf.losses.sigmoid_cross_entropy(\n",
    "    multi_class_labels,    # 训练样本的标签y（已知的分类）\n",
    "    logits,   # 使用逻辑回归分类模型计算出来的y\n",
    "    weights=1.0,\n",
    "    label_smoothing=0,\n",
    "    scope=None,\n",
    "    loss_collection=tf.GraphKeys.LOSSES,\n",
    "    reduction=Reduction.SUM_BY_NONZERO_WEIGHTS\n",
    ")\n",
    "\n",
    "#  tf.train.GradientDescentOptimizer  \n",
    "__init__(\n",
    "    learning_rate,        # 学习率\n",
    "    use_locking=False,   \n",
    "    name='GradientDescent'\n",
    ")\n",
    "\n",
    "minimize(\n",
    "    loss,                          # 损失函数\n",
    "    global_step=None,\n",
    "    var_list=None,\n",
    "    gate_gradients=GATE_OP,\n",
    "    aggregation_method=None,\n",
    "    colocate_gradients_with_ops=False,\n",
    "    name=None,\n",
    "    grad_loss=None\n",
    ")\n",
    "\n",
    "# S函数\n",
    "tf.math.sigmoid(\n",
    "    x,\n",
    "    name=None\n",
    ")\n",
    "\"\"\""
   ]
  },
  {
   "cell_type": "code",
   "execution_count": 61,
   "metadata": {},
   "outputs": [],
   "source": [
    "import numpy as np\n",
    "import sklearn.datasets as ds\n",
    "import tensorflow as tf\n",
    "\n",
    "# 鸢尾花\n",
    "\n",
    "FEATURE_NUM = 4    # 训练数据的特征\n",
    "OUTPUT_NUM = 1     # 输出特征（唯一分类样本的特征）\n",
    "# 1. 描述量（分类模型，损失函数，优化器）\n",
    "# 1.1.  y_o = S(xW+b)\n",
    "# 1.2. loss = f(y_o,  y)\n",
    "# 定义输入（样本集合，样本标签）\n",
    "x = tf.placeholder(dtype=tf.float32, shape=[None, FEATURE_NUM])\n",
    "y = tf.placeholder(dtype=tf.float32, shape=[None, OUTPUT_NUM])\n",
    "\n",
    "# w，b需要训练得到（首先初始化一个数据）: 常量\n",
    "w_v = tf.random_uniform(shape=[FEATURE_NUM, OUTPUT_NUM] , minval=-0.01, maxval=0.01, dtype=tf.float32)\n",
    "b_v = tf.random_uniform(shape=[OUTPUT_NUM], minval=-0.01, maxval=0.01, dtype=tf.float32)\n",
    "\n",
    "w = tf.Variable(w_v)     # 变量才可训练\n",
    "b = tf.Variable(b_v)\n",
    "# 2. 描述操作（分类模型，损失函数描述，优化器描述）\n",
    "y_o = tf.matmul(x, w) + b    # 线性输出\n",
    "\n",
    "# 预测输出(概率输出)\n",
    "y_p = tf.sigmoid(y_o)\n",
    "\n",
    "# 损失函数\n",
    "loss = tf.losses.sigmoid_cross_entropy(y, y_o)     # 可以使用y_p\n",
    "\n",
    "# 定义优化器\n",
    "optimizer = tf.train.GradientDescentOptimizer(0.02)\n",
    "# 训练操作\n",
    "trainer = optimizer.minimize(loss)\n",
    "\n",
    "# 3. 构建tensorflow执行环境\n",
    "session = tf.Session()\n",
    "\n",
    "# 4. 初始化全局变量\n",
    "all_vars = tf.initializers.global_variables()\n",
    "session.run(all_vars)\n",
    "\n",
    "# 5. 执行算法\n",
    "# 训练\\\n",
    "data, target = ds.load_iris(return_X_y=True)\n",
    "X = data[0:100, :]   # 取前面两类鸢尾花\n",
    "Y = target[0:100]\n",
    "\n",
    "# 一定要确保：输入数据与占位符shape保持一致\n",
    "Y = Y.reshape( (Y.shape[0],  OUTPUT_NUM))\n",
    "\n",
    "train_num =1000\n",
    "for i in range(train_num):\n",
    "    session.run(trainer, feed_dict={x:X, y:Y})    # 随机（不使用所有样本，而是使用样本的一部分）梯度\n",
    "    # 获取训练以后w与b\n",
    "    re_w = session.run(w)\n",
    "    re_b = session.run(b)\n",
    "    re_loss = session.run(loss, feed_dict={x: X, y: Y})\n",
    "#     print(F'第{i:04d}次训练:',re_w.T, '\\t', re_loss)\n"
   ]
  },
  {
   "cell_type": "code",
   "execution_count": 60,
   "metadata": {
    "scrolled": true
   },
   "outputs": [],
   "source": [
    "# 分类预测\n",
    "pre = session.run(y_p,feed_dict={x: X})\n",
    "# print(pre[0:50])\n",
    "# print('------------')\n",
    "# print(pre[50:100])\n",
    "# 6. 可视化"
   ]
  },
  {
   "cell_type": "markdown",
   "metadata": {},
   "source": [
    "- 随机梯度\n",
    "    "
   ]
  },
  {
   "cell_type": "code",
   "execution_count": 69,
   "metadata": {
    "scrolled": false
   },
   "outputs": [
    {
     "name": "stdout",
     "output_type": "stream",
     "text": [
      "第0200次训练: [[-2.2649932  4.8585267]] \t 0.007865484\n",
      "第0400次训练: [[-2.6091347  5.595785 ]] \t 0.004390023\n",
      "第0600次训练: [[-2.8163803  6.0450683]] \t 0.0031323617\n",
      "第0800次训练: [[-2.9667864  6.372842 ]] \t 0.0024674728\n",
      "第1000次训练: [[-3.0855992  6.6325393]] \t 0.0020512214\n"
     ]
    }
   ],
   "source": [
    "import numpy as np\n",
    "import sklearn.datasets as ds\n",
    "import tensorflow as tf\n",
    "\n",
    "# 鸢尾花\n",
    "\n",
    "FEATURE_NUM = 2    # 训练数据的特征\n",
    "OUTPUT_NUM = 1     # 输出特征（唯一分类样本的特征）\n",
    "# 1. 描述量（分类模型，损失函数，优化器）\n",
    "# 1.1.  y_o = S(xW+b)\n",
    "# 1.2. loss = f(y_o,  y)\n",
    "# 定义输入（样本集合，样本标签）\n",
    "x = tf.placeholder(dtype=tf.float32, shape=[None, FEATURE_NUM])\n",
    "y = tf.placeholder(dtype=tf.float32, shape=[None, OUTPUT_NUM])\n",
    "\n",
    "# w，b需要训练得到（首先初始化一个数据）: 常量\n",
    "w_v = tf.random_uniform(shape=[FEATURE_NUM, OUTPUT_NUM] , minval=-0.01, maxval=0.01, dtype=tf.float32)\n",
    "b_v = tf.random_uniform(shape=[OUTPUT_NUM], minval=-0.01, maxval=0.01, dtype=tf.float32)\n",
    "\n",
    "w = tf.Variable(w_v)     # 变量才可训练\n",
    "b = tf.Variable(b_v)\n",
    "# 2. 描述操作（分类模型，损失函数描述，优化器描述）\n",
    "y_o = tf.matmul(x, w) + b    # 线性输出\n",
    "\n",
    "# 预测输出(概率输出)\n",
    "y_p = tf.sigmoid(y_o)\n",
    "\n",
    "# 损失函数\n",
    "loss = tf.losses.sigmoid_cross_entropy(y, y_o)     # 可以使用y_p\n",
    "\n",
    "# 定义优化器\n",
    "optimizer = tf.train.GradientDescentOptimizer(0.1)\n",
    "# 训练操作\n",
    "trainer = optimizer.minimize(loss)\n",
    "\n",
    "# 3. 构建tensorflow执行环境\n",
    "session = tf.Session()\n",
    "\n",
    "# 4. 初始化全局变量\n",
    "all_vars = tf.initializers.global_variables()\n",
    "session.run(all_vars)\n",
    "\n",
    "# 5. 执行算法\n",
    "# 训练\\\n",
    "data, target = ds.load_iris(return_X_y=True)\n",
    "X = data[0:100, 0::2]   # 取前面两类鸢尾花\n",
    "Y = target[0:100]\n",
    "\n",
    "# 一定要确保：输入数据与占位符shape保持一致\n",
    "Y = Y.reshape( (Y.shape[0],  OUTPUT_NUM))\n",
    "\n",
    "epoch =1000\n",
    "batch = 10\n",
    "batch_num = len(X) // batch\n",
    "\n",
    "for ep in range(epoch):\n",
    "    # 对样本洗牌\n",
    "    # XY_ = np.random.permutation(zip(X,Y)）\n",
    "    # 分成10次训练，每次10个样本\n",
    "    for  n in  range(batch_num):\n",
    "        session.run(trainer, feed_dict={x: X[n*batch: (n+1)*batch],  y:Y[n*batch: (n+1)*batch] })\n",
    "    \n",
    "    if (ep+1)% 200 == 0:\n",
    "        re_w = session.run(w)\n",
    "        re_b = session.run(b)\n",
    "        re_loss = session.run(loss, feed_dict={x: X, y: Y})\n",
    "        print(F'第{ep+1:04d}次训练:',re_w.T, '\\t', re_loss)\n",
    "        if  re_loss < 10e-5:\n",
    "            print('损失精度已经合格，结束训练')\n",
    "            break;\n",
    "    \n",
    "\n"
   ]
  },
  {
   "cell_type": "code",
   "execution_count": 80,
   "metadata": {},
   "outputs": [],
   "source": [
    "# 分类预测\n",
    "pre = session.run(y_p,feed_dict={x: X})\n",
    "re_w = session.run(w)\n",
    "re_b = session.run(b)"
   ]
  },
  {
   "cell_type": "code",
   "execution_count": 90,
   "metadata": {},
   "outputs": [
    {
     "name": "stdout",
     "output_type": "stream",
     "text": [
      "[-1.2160509]\n"
     ]
    },
    {
     "data": {
      "image/png": "[encoded data removed]",
      "text/plain": [
       "<Figure size 576x432 with 1 Axes>"
      ]
     },
     "metadata": {
      "needs_background": "light"
     },
     "output_type": "display_data"
    }
   ],
   "source": [
    "%matplotlib inline\n",
    "import matplotlib.pyplot as plt\n",
    "import matplotlib as mlb \n",
    "\n",
    "figure = plt.figure('逻辑回归鸢尾花可视化', figsize=(8, 6))\n",
    "ax = figure.add_axes([0.1, 0.1, 0.8, 0.8])\n",
    "\n",
    "colors = mlb.colors.ListedColormap([(1, 0, 0, 1), (0, 0, 1, 1)])\n",
    "# 可视化样本点\n",
    "# 可视化分类边界（分类直线，区域, 对不同的输出值使用不同的颜色可视化）\n",
    "ax.scatter(X[:,0], X[:,1], s=3**2, marker='.', c=pre[:,0], cmap=colors)   # mlb.cm.get_cmap('cool')\n",
    "# 分类实现可视化\n",
    "print(re_b)\n",
    "xx = np.linspace(3, 7.5, 100)\n",
    "yy =- (xx * re_w[0, 0]  + re_b[0])/ re_w[1, 0]\n",
    "\n",
    "ax.plot(xx,yy, color=(1,0,1,1) ,linewidth=3)\n",
    "\n",
    "plt.show()"
   ]
  },
  {
   "cell_type": "markdown",
   "metadata": {},
   "source": [
    "## SVM的拉格朗日系数固定的情况的算法实现\n",
    "\n",
    "- 梯度下降\n",
    "    - 分类模型的函数\n",
    "    - 损失模型的函数"
   ]
  },
  {
   "cell_type": "markdown",
   "metadata": {},
   "source": [
    "- 提示\n",
    "    - 下面的SVM的算法，实际是固定$\\alpha$的梯度下降，严格意义不是SMO。\n",
    "    - 固定$\\alpha$，$L(W, \\alpha)= \\alpha (\\dfrac{1}{2} ||W||_2 - \\sum \\limits _{i=1} ^{n}  (y_i (x_i W)- 1))  $"
   ]
  },
  {
   "cell_type": "code",
   "execution_count": 107,
   "metadata": {},
   "outputs": [
    {
     "name": "stdout",
     "output_type": "stream",
     "text": [
      "[[-15.017571  21.01386 ]] [[-11.631323]]\n"
     ]
    }
   ],
   "source": [
    "%matplotlib inline\n",
    "import matplotlib.pyplot as plt\n",
    "import numpy as np\n",
    "import sklearn.datasets as ds\n",
    "import tensorflow as tf\n",
    "\n",
    "\n",
    "# 描述量\n",
    "alpha = tf.constant([1.0])\n",
    "# 输入数据\n",
    "x = tf.placeholder(shape=[None, 2], dtype=tf.float32)\n",
    "y = tf.placeholder(shape=[None,  1], dtype=tf.float32)\n",
    "\n",
    "w = tf.Variable(tf.random_normal(shape=[2, 1]))   # 权重随机取值\n",
    "b = tf.Variable(tf.random_normal(shape=[1, 1])) \n",
    "\n",
    "# 描述操作\n",
    "# 分类模型（线性分类模型）\n",
    "y_o = tf.add(tf.matmul(x, w) , b)\n",
    "\n",
    "# 损失函数模型\n",
    "l2 = tf.reduce_sum( tf.matmul(w, tf.transpose(w)) ) /2.0\n",
    "# l2 = tf.reduce_sum(tf.square(w)) / 2.0\n",
    "# o_sum = y_o * y\n",
    "o_sum =   tf.reduce_sum(tf.maximum(0.0, tf.subtract(1.0, tf.multiply(y_o, y))))    # 绝对值\n",
    "# o_sum =   tf.reduce_sum(tf.subtract(1.0, tf.multiply(y_o, y)))  \n",
    "loss = tf.add(l2, tf.multiply(alpha , o_sum))\n",
    "\n",
    "\n",
    "# 训练算法\n",
    "optimizer = tf.train.GradientDescentOptimizer(0.01)\n",
    "trainer = optimizer.minimize(loss)\n",
    "\n",
    "# 构建一个环境\n",
    "session =tf.Session()\n",
    "# 初始化变量\n",
    "all_vars = tf.global_variables_initializer()\n",
    "session.run(all_vars)\n",
    "\n",
    "# 执行训练过程\n",
    "data, target = ds.load_iris(return_X_y=True)\n",
    "\n",
    "# def F(P):\n",
    "#     # 函数运算\n",
    "#     return P\n",
    "\n",
    "X = data[50:150, [0,2]]    # 1::2\n",
    "# X = F(X)\n",
    "Y =target[0:100]   # 值0，1，改变成-1，1\n",
    "Y[Y==0] = -1\n",
    "Y = Y.reshape(Y.shape[0], 1)\n",
    "\n",
    "epoch = 10000\n",
    "for i in range(epoch):\n",
    "    session.run(trainer, feed_dict={\n",
    "        x: X,\n",
    "        y: Y\n",
    "    })\n",
    "\n",
    "w_ = session.run(w)\n",
    "b_ = session.run(b)\n",
    "print(w_.T, b_)"
   ]
  },
  {
   "cell_type": "code",
   "execution_count": 109,
   "metadata": {},
   "outputs": [
    {
     "data": {
      "image/png": "[encoded data removed]",
      "text/plain": [
       "<Figure size 576x432 with 1 Axes>"
      ]
     },
     "metadata": {
      "needs_background": "light"
     },
     "output_type": "display_data"
    }
   ],
   "source": [
    "%matplotlib inline\n",
    "import matplotlib.pyplot as plt\n",
    "import matplotlib as mlb \n",
    "\n",
    "figure = plt.figure('逻辑回归鸢尾花可视化', figsize=(8, 6))\n",
    "ax = figure.add_axes([0.1, 0.1, 0.8, 0.8])\n",
    "\n",
    "colors = mlb.colors.ListedColormap([(1, 0, 0, 1), (0, 0, 1, 1)])\n",
    "# 可视化样本点\n",
    "# 可视化分类边界（分类直线，区域, 对不同的输出值使用不同的颜色可视化）\n",
    "ax.scatter(X[:,0], X[:,1], s=3**2, marker='.', c=pre[:,0], cmap=colors)   # mlb.cm.get_cmap('cool')\n",
    "# 分类实现可视化\n",
    "xx = np.linspace(3, 7.5, 100)\n",
    "yy =- (xx * w_[0, 0]  + b_[0])/ w_[1, 0]\n",
    "\n",
    "ax.plot(xx,yy, color=(1,0,1,1) ,linewidth=3)\n",
    "\n",
    "plt.show()"
   ]
  },
  {
   "cell_type": "markdown",
   "metadata": {},
   "source": [
    "# SVM软件距离\n",
    "\n",
    "&emsp;&emsp;引入软距离来修正SVM优化问题。   \n",
    "&emsp;&emsp;&emsp;&emsp;|-找到分类平面，使得$ \\frac{1}{2}||W||_2^2 +C\\sum\\limits_{i=1}^{m}\\xi_i$最小     \n",
    "&emsp;&emsp;&emsp;&emsp;|-同时满足约束条件：     \n",
    "&emsp;&emsp;&emsp;&emsp;&emsp;&emsp;|-条件一：$ y_i(x_i W + b)  \\geq 1 - \\xi_i \\;\\;(i =1,2,...m)$           \n",
    "&emsp;&emsp;&emsp;&emsp;&emsp;&emsp;|-条件二：$\\xi_i \\geq 0 \\;\\;(i =1,2,...m)$   "
   ]
  },
  {
   "cell_type": "markdown",
   "metadata": {},
   "source": [
    "# SVM非线性可分"
   ]
  },
  {
   "cell_type": "markdown",
   "metadata": {},
   "source": [
    "- 低维投射高维空间\n",
    "    - 投射函数：Kernel（核）"
   ]
  },
  {
   "cell_type": "markdown",
   "metadata": {},
   "source": []
  }
 ],
 "metadata": {
  "kernelspec": {
   "display_name": "Python 3",
   "language": "python",
   "name": "python3"
  },
  "language_info": {
   "codemirror_mode": {
    "name": "ipython",
    "version": 3
   },
   "file_extension": ".py",
   "mimetype": "text/x-python",
   "name": "python",
   "nbconvert_exporter": "python",
   "pygments_lexer": "ipython3",
   "version": "3.6.6"
  },
  "toc": {
   "base_numbering": 1,
   "nav_menu": {},
   "number_sections": true,
   "sideBar": true,
   "skip_h1_title": false,
   "title_cell": "Table of Contents",
   "title_sidebar": "Contents",
   "toc_cell": false,
   "toc_position": {},
   "toc_section_display": true,
   "toc_window_display": false
  }
 },
 "nbformat": 4,
 "nbformat_minor": 2
}
