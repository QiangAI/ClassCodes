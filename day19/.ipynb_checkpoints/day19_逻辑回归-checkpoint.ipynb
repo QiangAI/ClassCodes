{
 "cells": [
  {
   "cell_type": "markdown",
   "metadata": {},
   "source": [
    "# 总结"
   ]
  },
  {
   "cell_type": "markdown",
   "metadata": {},
   "source": [
    "- 在自然界中，或者用户的需求中总是存在线性规律的现象与需求。\n",
    "\n",
    "- 数学的线性模型\n",
    "    - 1次多项式（$ w_n x_n + w_{n-1} x_{n-1} + \\dots + w_0 x_0 + 1  b = y$）\n",
    "        - 线性模型（在二维空间，1次多项式就是直线）\n",
    "    - 2次多项式（$ w_n x_n^2 + w_{n-1} x_{n-1}^2 + \\dots + w_0 x_0^2 + 1  b = y$）\n",
    "    \n",
    "    - ....\n",
    "    \n",
    "    - n次多项式\n",
    "    \n",
    "- 线性模型写成（向量（矩阵）表示）\n",
    "    - 首先提出了一个基本定义：内积$ w_n x_n + w_{n-1} x_{n-1} + \\dots + w_0 x_0 + 1  b  = WX$\n",
    "        - $W=(w_n , w_{n-1},\\dots,w_0, b)$\n",
    "        - $X=(x_n , x_{n-1},\\dots,x_0, 1)$\n",
    "        - $X\\circ  W=w_n x_n + w_{n-1} x_{n-1} + \\dots + w_0 x_0 + 1  b$：内积\n",
    "        \n",
    "    - $y_ = x_iW$其中i表示第i个样本\n",
    "        - 一元线性回归\n",
    "        - 多元线性回归"
   ]
  },
  {
   "cell_type": "markdown",
   "metadata": {},
   "source": [
    "- 在自然界真实的数据与理想数据存在误差$\\epsilon_i$。\n",
    "    - 样本的数据为真实数据，真实数据存在误差。\n",
    "        - 训练样本就是真实数据\n",
    "    - 理想数据：就是根据线性模型计算出来的数据，不存在误差。\n",
    "        - $y=xW $\n",
    "        "
   ]
  },
  {
   "cell_type": "markdown",
   "metadata": {},
   "source": [
    "- 建立误差模型\n",
    "    - $y = xW + \\epsilon$\n",
    "    \n",
    "- 假设$\\epsilon $产生的误差存在一种规律：误差越大，概率越小。\n",
    "    - 规律：Gauss总结规律：高斯分布：给定一个误差$\\epsilon$，直接得到这个误差产生的概率$p(\\epsilon)$,服从正态分，概率可以通过高斯公式计算出来$N(\\mu,\\sigma ^ 2)$"
   ]
  },
  {
   "cell_type": "markdown",
   "metadata": {},
   "source": [
    "- 给定的n个样本，所以u误差同时产生的概率；\n",
    "    - $L(W)$似然估计函数 = $\\prod \\limits _{i=1} ^n p(\\epsilon_i)$\n",
    "    - 认为这个似然概率是最大，找到$W$，使得似然概率最大。"
   ]
  },
  {
   "cell_type": "markdown",
   "metadata": {},
   "source": [
    "- 经过数学推导，得到一个表达式：损失函数，损失函数值最小。$loss =\\dfrac{1}{2} \\sum \\limits _{i=1}^n (y_i- x_iW) ^ 2$"
   ]
  },
  {
   "cell_type": "markdown",
   "metadata": {},
   "source": [
    "- 损失函数求解\n",
    "    - 最小二乘法（求导数，找极值点：W的求解公公式）\n",
    "    - 梯度下降法\n",
    "    - 坐标下降法\n",
    "    - 最小角法\n",
    "    - 牛顿迭代 "
   ]
  },
  {
   "cell_type": "markdown",
   "metadata": {},
   "source": [
    "- 线性回归中的问题：\n",
    "    - 最小二乘法的漏洞问题；\n",
    "        - $\\lambda I$\n",
    "            - 奇异值分解：$\\lambda>0$100%有解\n",
    "            - 倒推损失函数 L2范数惩罚项 -> 误差模型（仅仅对$W$进行概率约束：满足正态分布误差$\\tau ^ 2$）\n",
    "                - 惩罚项改进\n",
    "                    - LASSO线性回归（L1范数惩罚项）\n",
    "                    \n",
    "                - L0范数惩罚项\n",
    "                    - 权重系数不为0 的元素个数。（->L1范数）\n",
    "            \n",
    "            \n",
    "    - 线性回归分类问题；\n",
    "        - 逻辑回归\n",
    "   \n",
    "   \n",
    "    - 损失函数最小（过拟合现象）\n",
    "        - 拟合度（相关系数 R^2相关系数）\n",
    "        - 提出一种拟合度做小的算法：局部加权线性回归。\n",
    "        \n",
    "        bb"
   ]
  },
  {
   "cell_type": "markdown",
   "metadata": {},
   "source": [
    "# LASSO算法与岭回归算法的区别\n",
    "    - LASSO算法的调用\n",
    "    - L1有L2的区别\n",
    "    - 数据集标准化的概念"
   ]
  },
  {
   "cell_type": "markdown",
   "metadata": {},
   "source": [
    "## LASSO算法的实现"
   ]
  },
  {
   "cell_type": "markdown",
   "metadata": {},
   "source": [
    "1. 线性回归"
   ]
  },
  {
   "cell_type": "markdown",
   "metadata": {},
   "source": [
    "2. 岭回归"
   ]
  },
  {
   "cell_type": "markdown",
   "metadata": {},
   "source": [
    "3. LASSO回归"
   ]
  },
  {
   "cell_type": "code",
   "execution_count": 57,
   "metadata": {},
   "outputs": [
    {
     "name": "stdout",
     "output_type": "stream",
     "text": [
      "线性回归： [[0.06388117]] [0.75016254]\n",
      "岭回归： [[0.0638768]] [0.75018404]\n",
      "LASSO回归： [0.06046182] [0.76699795]\n"
     ]
    },
    {
     "data": {
      "image/png": "[encoded data removed]",
      "text/plain": [
       "<Figure size 576x432 with 1 Axes>"
      ]
     },
     "metadata": {
      "needs_background": "light"
     },
     "output_type": "display_data"
    }
   ],
   "source": [
    "%matplotlib inline\n",
    "\n",
    "import matplotlib.pyplot as plt\n",
    "import numpy as np\n",
    "import sklearn.datasets as ds\n",
    "import sklearn.linear_model as lm\n",
    "\n",
    "# 准备数据-格式（数据严格遵循矩阵）\n",
    "X_data = np.loadtxt('ex2x.dat')\n",
    "Y_data = np.loadtxt('ex2y.dat')\n",
    "# data = np.loadtxt('ex0.txt')\n",
    "# X_data = data[:, 1]\n",
    "# Y_data = data[:, 2]\n",
    "\n",
    "X =X_data.reshape(-1, 1) \n",
    "Y= Y_data.reshape(-1, 1)\n",
    "\n",
    "# 调用sklearn封装好的算法，计算线性模型：求W（斜率 + 截距）\n",
    "# 1. W_linear \n",
    "regression_linear = lm.LinearRegression()  # 没有参数\n",
    "regression_linear.fit(X,Y)\n",
    "# 2. W_ridge\n",
    "regression_ridge = lm.Ridge(alpha=0.01)   # \n",
    "regression_ridge.fit(X,Y)\n",
    "# 3. W_lasso\n",
    "regression_lasso = lm.Lasso(alpha=0.01)\n",
    "regression_lasso.fit(X,Y)\n",
    "\n",
    "print('线性回归：', regression_linear.coef_, regression_linear.intercept_)\n",
    "print('岭回归：', regression_ridge.coef_, regression_ridge.intercept_)\n",
    "print('LASSO回归：', regression_lasso.coef_, regression_lasso.intercept_)\n",
    "# 可视化\n",
    "# 1. 创建图\n",
    "figure = plt.figure('线性回归', figsize=(8, 6))\n",
    "# 2.创建坐标系\n",
    "ax = figure.add_axes([0.1, 0.1, 0.8, 0.8])\n",
    "# ax.set_ylim(0.6, 1.5)\n",
    "# ax.set_xlim(1, 9)\n",
    "# 3.绘制图形（散点，线图）\n",
    "ax.scatter(X_data, Y_data, s=4, c='r',marker='.')\n",
    "\n",
    "x_test = np.linspace(1, 9, 200)\n",
    "x_test = x_test.reshape(-1, 1)\n",
    "y_linear = regression_linear.predict(x_test)\n",
    "y_ridge = regression_ridge.predict(x_test)\n",
    "y_lasso = regression_lasso.predict(x_test)\n",
    "\n",
    "ax.plot(x_test, y_linear, color=(0, 1, 0, 1) , label='线性回归')\n",
    "ax.plot(x_test, y_ridge, color=(0, 0, 1, 1) , label='岭回归')\n",
    "ax.plot(x_test, y_lasso, color=(1, 0, 0, 1) , label='LASSO回归')\n",
    "\n",
    "ax.legend()\n",
    "plt.show()"
   ]
  },
  {
   "cell_type": "markdown",
   "metadata": {},
   "source": [
    "- Ridge与LASSO回归，其中权重系数的概率约束，由正态分布（Laplace分布）的方差决定，当方差=0就是线性回归。"
   ]
  },
  {
   "cell_type": "markdown",
   "metadata": {},
   "source": [
    "## Ridge与LASSO回归中$\\lambda$怎么影响权重系数W\n",
    "- 写一个程序，$\\lambda$从$10^2 \\to 10^{-10}$变化，计算出对应$\\lambda$的权重矩阵W，绘制一条线段，观察$\\lambda$对W的影响。\n",
    "\n",
    "- 鸢尾花数据特征是四维\n",
    "    - 特征选择"
   ]
  },
  {
   "cell_type": "code",
   "execution_count": 54,
   "metadata": {},
   "outputs": [
    {
     "data": {
      "image/png": "[encoded data removed]",
      "text/plain": [
       "<Figure size 576x432 with 1 Axes>"
      ]
     },
     "metadata": {
      "needs_background": "light"
     },
     "output_type": "display_data"
    },
    {
     "name": "stdout",
     "output_type": "stream",
     "text": [
      "[array([-0.02639767, -0.17076425,  0.19689835,  0.30223072]), array([-0.02639767, -0.17076425,  0.19689835,  0.30223072]), array([-0.02639767, -0.17076425,  0.19689835,  0.30223072]), array([-0.02639767, -0.17076425,  0.19689835,  0.30223072]), array([-0.02639767, -0.17076425,  0.19689835,  0.30223072]), array([-0.02639767, -0.17076425,  0.19689835,  0.30223072]), array([-0.02639767, -0.17076425,  0.19689835,  0.30223072]), array([-0.02639767, -0.17076425,  0.19689835,  0.30223072]), array([-0.02639767, -0.17076425,  0.19689835,  0.30223072]), array([-0.02639767, -0.17076425,  0.19689835,  0.30223072]), array([-0.02639767, -0.17076425,  0.19689835,  0.30223072]), array([-0.02639767, -0.17076425,  0.19689835,  0.30223072]), array([-0.02639767, -0.17076425,  0.19689835,  0.30223072]), array([-0.02639767, -0.17076425,  0.19689835,  0.30223072]), array([-0.02639767, -0.17076425,  0.19689835,  0.30223072]), array([-0.02639767, -0.17076425,  0.19689835,  0.30223072]), array([-0.02639767, -0.17076425,  0.19689835,  0.30223072]), array([-0.02639767, -0.17076425,  0.19689835,  0.30223072]), array([-0.02639767, -0.17076425,  0.19689835,  0.30223071]), array([-0.02639767, -0.17076425,  0.19689836,  0.30223071]), array([-0.02639767, -0.17076425,  0.19689836,  0.30223071]), array([-0.02639767, -0.17076425,  0.19689836,  0.3022307 ]), array([-0.02639767, -0.17076425,  0.19689836,  0.3022307 ]), array([-0.02639767, -0.17076425,  0.19689837,  0.30223069]), array([-0.02639767, -0.17076425,  0.19689837,  0.30223068]), array([-0.02639767, -0.17076425,  0.19689838,  0.30223066]), array([-0.02639767, -0.17076424,  0.19689839,  0.30223063]), array([-0.02639767, -0.17076424,  0.1968984 ,  0.3022306 ]), array([-0.02639768, -0.17076423,  0.19689842,  0.30223055]), array([-0.02639768, -0.17076422,  0.19689845,  0.30223049]), array([-0.02639768, -0.17076421,  0.19689849,  0.3022304 ]), array([-0.02639769, -0.1707642 ,  0.19689854,  0.30223028]), array([-0.0263977 , -0.17076418,  0.19689861,  0.30223011]), array([-0.02639771, -0.17076415,  0.19689871,  0.30222987]), array([-0.02639773, -0.17076411,  0.19689885,  0.30222954]), array([-0.02639775, -0.17076405,  0.19689904,  0.30222909]), array([-0.02639779, -0.17076397,  0.1968993 ,  0.30222847]), array([-0.02639784, -0.17076386,  0.19689967,  0.3022276 ]), array([-0.0263979 , -0.17076371,  0.19690017,  0.3022264 ]), array([-0.02639799, -0.17076351,  0.19690088,  0.30222473]), array([-0.02639812, -0.17076322,  0.19690185,  0.30222243]), array([-0.02639829, -0.17076282,  0.19690319,  0.30221924]), array([-0.02639853, -0.17076227,  0.19690505,  0.30221482]), array([-0.02639886, -0.1707615 ,  0.19690763,  0.3022087 ]), array([-0.02639932, -0.17076044,  0.19691121,  0.30220022]), array([-0.02639995, -0.17075898,  0.19691615,  0.30218848]), array([-0.02640083, -0.17075695,  0.196923  ,  0.30217223]), array([-0.02640205, -0.17075414,  0.19693248,  0.30214973]), array([-0.02640374, -0.17075025,  0.19694561,  0.30211858]), array([-0.02640607, -0.17074486,  0.19696378,  0.30207545]), array([-0.0264093 , -0.17073741,  0.19698894,  0.30201575]), array([-0.02641376, -0.1707271 ,  0.19702375,  0.30193314]), array([-0.02641993, -0.17071282,  0.1970719 ,  0.30181885]), array([-0.02642845, -0.17069308,  0.19713849,  0.30166079]), array([-0.02644021, -0.1706658 ,  0.19723052,  0.30144232]), array([-0.0264564 , -0.17062811,  0.19735761,  0.30114058]), array([-0.02647866, -0.17057611,  0.19753291,  0.30072425]), array([-0.02650918, -0.17050445,  0.19777437,  0.30015065]), array([-0.02655084, -0.17040588,  0.19810626,  0.29936188]), array([-0.02660743, -0.17027067,  0.19856114,  0.29828017]), array([-0.02668367, -0.17008584,  0.19918214,  0.29680216]), array([-0.02678532, -0.16983439,  0.20002543,  0.29479279]), array([-0.02691877, -0.16949455,  0.20116225,  0.29207958]), array([-0.02709026, -0.16903924,  0.20267977,  0.28844953]), array([-0.02730381, -0.16843628,  0.20467898,  0.283652  ]), array([-0.02755765, -0.16764972,  0.20726724,  0.27741302]), array([-0.02783805, -0.16664312,  0.21054269,  0.26946717]), array([-0.02811049, -0.1653849 ,  0.21456875,  0.25961128]), array([-0.02830861, -0.16385489,  0.2193401 ,  0.24777691]), array([-0.02832382, -0.16204941,  0.22474826,  0.23410434]), array([-0.0280001 , -0.15997992,  0.23056167,  0.21898616]), array([-0.02713967, -0.15766031,  0.23643647,  0.20304567]), array([-0.02552238, -0.15508177,  0.2419639 ,  0.18703733]), array([-0.02293675, -0.15218139,  0.24674142,  0.17169762]), array([-0.01921502, -0.14881825,  0.25043913,  0.15760493]), array([-0.01426429, -0.14477296,  0.2528355 ,  0.14510004]), array([-0.00808972, -0.13978177,  0.25381324,  0.13428104]), array([-0.00081133, -0.13360416,  0.25332483,  0.12505016]), array([ 0.00732199, -0.12610681,  0.25134617,  0.11717815]), array([ 0.01592392, -0.11733343,  0.24783425,  0.11036186]), array([ 0.02448071, -0.10752673,  0.24269745,  0.1042659 ]), array([ 0.03239489, -0.09708458,  0.23578184,  0.09854993]), array([ 0.03906442, -0.08646292,  0.22687699,  0.09288791]), array([ 0.04397774, -0.07606684,  0.21574884,  0.08698711]), array([ 0.04679526, -0.06617757,  0.20220681,  0.08061353]), array([ 0.04739794, -0.05694004,  0.186203  ,  0.07362557]), array([ 0.04589947, -0.04840183,  0.16794086,  0.06600944]), array([ 0.04262555, -0.04057212,  0.14794844,  0.0579006 ]), array([ 0.03806131, -0.03346719,  0.12706529,  0.0495727 ]), array([ 0.03276973, -0.02712461,  0.10631979,  0.04138563]), array([ 0.02729566, -0.02158839,  0.08672986,  0.03370516]), array([ 0.02208246, -0.01688263,  0.06910599,  0.02682455]), array([ 0.01742571, -0.01299231,  0.05393312,  0.0209172 ]), array([ 0.01347081, -0.00986008,  0.04135931,  0.01603079]), array([ 0.01024265, -0.00739673,  0.03126555,  0.0121131 ]), array([ 0.00768769, -0.00549733,  0.02336796,  0.00905048]), array([ 0.00571277, -0.00405598,  0.01731205,  0.00670346]), array([ 0.00421325, -0.00297586,  0.0127398 ,  0.0049322 ]), array([ 0.00308984, -0.00217418,  0.00932801,  0.00361089]), array([ 0.0022565 , -0.00158349,  0.0068044 ,  0.00263377])]\n"
     ]
    }
   ],
   "source": [
    "% matplotlib inline\n",
    "\n",
    "import matplotlib.pyplot as plt\n",
    "import numpy as np\n",
    "import sklearn.datasets as ds \n",
    "import sklearn.linear_model as lm\n",
    "\n",
    "\n",
    "# 1. 准备数据\n",
    "data, target = ds.load_iris(return_X_y=True)\n",
    "X = data[0: 100]\n",
    "Y = target[0: 100]\n",
    "\n",
    "# 2. 产生lambda数据序列（100 - 10 ^-10）\n",
    "num = 100\n",
    "alphas = np.logspace(-10, 4, num)\n",
    "'''\n",
    "上面含义等价于\n",
    "a = np.linspace(-4,2,num)\n",
    "alphas = np.log(a)\n",
    "'''\n",
    "W=[]\n",
    "regression = lm.Ridge(alpha= 1)\n",
    "# 3. 循环使用上面的lambda训练数据，得到线性模型W（4位置）\n",
    "for alpha in alphas:\n",
    "    # 开始训练\n",
    "    regression.set_params(alpha=alpha)\n",
    "    regression.fit( X, Y)\n",
    "    W.append(regression.coef_)\n",
    "\n",
    "# 4. 绘制lambda与W的关系的曲线图\n",
    "figure = plt.figure('系数与权重的关系',figsize=(8, 6))\n",
    "ax =figure.add_axes([0.1, 0.1, 0.8, 0.8])\n",
    "# 调整x轴与y轴\n",
    "ax.set_xscale('log')\n",
    "# ax.set_xlim( ax.get_xlim()[::-1] )\n",
    "ax.plot(alphas, W)\n",
    "\n",
    "ax.grid(b=True)\n",
    "plt.show()\n",
    "print(W)"
   ]
  },
  {
   "cell_type": "code",
   "execution_count": 53,
   "metadata": {},
   "outputs": [
    {
     "data": {
      "image/png": "[encoded data removed]",
      "text/plain": [
       "<Figure size 576x432 with 1 Axes>"
      ]
     },
     "metadata": {
      "needs_background": "light"
     },
     "output_type": "display_data"
    },
    {
     "name": "stdout",
     "output_type": "stream",
     "text": [
      "[array([-0.0263988 , -0.17075319,  0.19692958,  0.3021556 ]), array([-0.02639915, -0.1707511 ,  0.19693538,  0.30214182]), array([-0.02639918, -0.17074899,  0.19694148,  0.30212691]), array([-0.02639964, -0.17074611,  0.19694949,  0.30210787]), array([-0.02639967, -0.1707432 ,  0.19695791,  0.30208726]), array([-0.0264003 , -0.17073922,  0.19696897,  0.30206094]), array([-0.02640109, -0.17073449,  0.19698208,  0.3020298 ]), array([-0.02640117, -0.17072973,  0.19699586,  0.3019961 ]), array([-0.02640224, -0.1707232 ,  0.19701397,  0.30195307]), array([-0.02640231, -0.17071663,  0.197033  ,  0.30190651]), array([-0.02640375, -0.17070763,  0.19705799,  0.30184705]), array([-0.02640381, -0.17069857,  0.19708429,  0.3017827 ]), array([-0.02640575, -0.17068616,  0.19711878,  0.30170057]), array([-0.02640578, -0.17067367,  0.19715508,  0.30161165]), array([-0.02640559, -0.17065918,  0.19719739,  0.30150775]), array([-0.02640833, -0.17063934,  0.19725281,  0.30137533]), array([-0.02640798, -0.17061936,  0.19731121,  0.30123178]), array([-0.02640722, -0.17059619,  0.19737928,  0.30106406]), array([-0.026411  , -0.1705645 ,  0.19746829,  0.3008506 ]), array([-0.02640977, -0.17053257,  0.19756222,  0.30061892]), array([-0.02640776, -0.17049552,  0.19767167,  0.30034823]), array([-0.02640473, -0.17045255,  0.1977992 ,  0.30003196]), array([-0.02638283, -0.1704193 ,  0.19791427,  0.2997229 ]), array([-0.02633778, -0.17039837,  0.19801287,  0.29942555]), array([-0.02628478, -0.17037373,  0.19812891,  0.29907563]), array([-0.0262224 , -0.17034474,  0.19826546,  0.29866383]), array([-0.02614899, -0.17031062,  0.19842615,  0.29817923]), array([-0.0260626 , -0.17027046,  0.19861526,  0.29760894]), array([-0.02596094, -0.17022321,  0.1988378 ,  0.29693782]), array([-0.0258413 , -0.17016761,  0.1990997 ,  0.29614804]), array([-0.02570051, -0.17010217,  0.1994079 ,  0.29521862]), array([-0.02553483, -0.17002516,  0.19977059,  0.29412486]), array([-0.02533985, -0.16993454,  0.20019741,  0.29283771]), array([-0.02511039, -0.16982789,  0.20069969,  0.29132298]), array([-0.02484037, -0.16970238,  0.20129079,  0.28954042]), array([-0.0245226 , -0.16955469,  0.2019864 ,  0.28744269]), array([-0.02414865, -0.16938088,  0.202805  ,  0.28497405]), array([-0.02370857, -0.16917634,  0.20376834,  0.28206894]), array([-0.02319069, -0.16893563,  0.20490201,  0.27865016]), array([-0.02258124, -0.16865237,  0.20623613,  0.27462689]), array([-0.02186403, -0.16831902,  0.20780614,  0.26989227]), array([-0.0210274 , -0.16791975,  0.20966785,  0.26429508]), array([-0.02003392, -0.16745831,  0.21184169,  0.25773896]), array([-0.01886477, -0.16691529,  0.21439989,  0.25002363]), array([-0.01748891, -0.16627626,  0.21741041,  0.24094415]), array([-0.01587617, -0.16551821,  0.22096541,  0.23023733]), array([-0.01397617, -0.1646281 ,  0.22514498,  0.21764464]), array([-0.01175044, -0.16357097,  0.23008306,  0.20279024]), array([-0.00913834, -0.16232017,  0.23590792,  0.18528476]), array([-0.00605422, -0.16085782,  0.24274326,  0.16471912]), array([-0.00243694, -0.15912542,  0.25081039,  0.14047537]), array([-0.        , -0.15597874,  0.26146075,  0.11119844]), array([-0.        , -0.1504909 ,  0.27587429,  0.0754439 ]), array([-0.        , -0.14416029,  0.29226592,  0.0347357 ]), array([-0.        , -0.13717162,  0.30646126,  0.        ]), array([-0.        , -0.13070731,  0.30716692,  0.        ]), array([-0.        , -0.1230945 ,  0.30799843,  0.        ]), array([-0.        , -0.11414621,  0.3089749 ,  0.        ]), array([-0.        , -0.10360751,  0.31012564,  0.        ]), array([-0.        , -0.09121569,  0.31147783,  0.        ]), array([-0.        , -0.07662133,  0.31307136,  0.        ]), array([-0.        , -0.05945945,  0.31494412,  0.        ]), array([-0.        , -0.03924853,  0.31715086,  0.        ]), array([-0.        , -0.01546868,  0.31974688,  0.        ]), array([-0.        , -0.        ,  0.32035143,  0.        ]), array([-0.        , -0.        ,  0.31749875,  0.        ]), array([-0.        , -0.        ,  0.31414168,  0.        ]), array([ 0.        , -0.        ,  0.31019104,  0.        ]), array([ 0.        , -0.        ,  0.30554189,  0.        ]), array([ 0.       , -0.       ,  0.3000707,  0.       ]), array([ 0.        , -0.        ,  0.29363214,  0.        ]), array([ 0.        , -0.        ,  0.28605517,  0.        ]), array([ 0.       , -0.       ,  0.2771385,  0.       ]), array([ 0.        , -0.        ,  0.26664526,  0.        ]), array([ 0.        , -0.        ,  0.25429668,  0.        ]), array([ 0.        , -0.        ,  0.23976473,  0.        ]), array([ 0.        , -0.        ,  0.22266336,  0.        ]), array([ 0.        , -0.        ,  0.20253826,  0.        ]), array([ 0.       , -0.       ,  0.1788548,  0.       ]), array([ 0.        , -0.        ,  0.15098382,  0.        ]), array([ 0.        , -0.        ,  0.11818492,  0.        ]), array([ 0.        , -0.        ,  0.07958678,  0.        ]), array([ 0.        , -0.        ,  0.03416403,  0.        ]), array([ 0., -0.,  0.,  0.]), array([ 0., -0.,  0.,  0.]), array([ 0., -0.,  0.,  0.]), array([ 0., -0.,  0.,  0.]), array([ 0., -0.,  0.,  0.]), array([ 0., -0.,  0.,  0.]), array([ 0., -0.,  0.,  0.]), array([ 0., -0.,  0.,  0.]), array([ 0., -0.,  0.,  0.]), array([ 0., -0.,  0.,  0.]), array([ 0., -0.,  0.,  0.]), array([ 0., -0.,  0.,  0.]), array([ 0., -0.,  0.,  0.]), array([ 0., -0.,  0.,  0.]), array([ 0., -0.,  0.,  0.]), array([ 0., -0.,  0.,  0.]), array([ 0., -0.,  0.,  0.])]\n"
     ]
    }
   ],
   "source": [
    "% matplotlib inline\n",
    "\n",
    "import matplotlib.pyplot as plt\n",
    "import numpy as np\n",
    "import sklearn.datasets as ds \n",
    "import sklearn.linear_model as lm\n",
    "\n",
    "\n",
    "# 1. 准备数据\n",
    "data, target = ds.load_iris(return_X_y=True)\n",
    "X = data[0: 100]\n",
    "Y = target[0: 100]\n",
    "\n",
    "# 2. 产生lambda数据序列（100 - 10 ^-10）\n",
    "num = 100\n",
    "alphas = np.logspace(-6, 1, num)\n",
    "'''\n",
    "上面含义等价于\n",
    "a = np.linspace(-4,2,num)\n",
    "alphas = np.log(a)\n",
    "'''\n",
    "W=[]\n",
    "regression = lm.Lasso(alpha= 1)\n",
    "# 3. 循环使用上面的lambda训练数据，得到线性模型W（4位置）\n",
    "for alpha in alphas:\n",
    "    # 开始训练\n",
    "    regression.set_params(alpha=alpha)\n",
    "    regression.fit( X, Y)\n",
    "    W.append(regression.coef_)\n",
    "\n",
    "# 4. 绘制lambda与W的关系的曲线图\n",
    "figure = plt.figure('系数与权重的关系',figsize=(8, 6))\n",
    "ax =figure.add_axes([0.1, 0.1, 0.8, 0.8])\n",
    "# 调整x轴与y轴\n",
    "ax.set_xscale('log')\n",
    "# ax.set_xlim( ax.get_xlim()[::-1] )\n",
    "ax.plot(alphas, W)\n",
    "\n",
    "ax.grid(b=True)\n",
    "plt.show()\n",
    "print(W)\n"
   ]
  },
  {
   "cell_type": "markdown",
   "metadata": {},
   "source": [
    "$\\lambda = \\dfrac{1}{\\sigma ^2}$"
   ]
  },
  {
   "cell_type": "markdown",
   "metadata": {},
   "source": [
    "$\\sigma$是权重系数的约束概率分布的方差"
   ]
  },
  {
   "cell_type": "markdown",
   "metadata": {},
   "source": [
    "- $\\lambda$越大，就意味着权重系数的分布的方差$\\sigma$越小。$W$的每个元素趋近于0\n",
    "    - 岭回归，不会等于0，但无线趋近0\n",
    "    - LASSO，到一定程度，系数直接等于0.\n",
    "    \n",
    "    - `[ 0.        , -0.        ,  0.03416403,   0.        ]`\n",
    "    "
   ]
  },
  {
   "cell_type": "markdown",
   "metadata": {},
   "source": [
    "- 特征方程\n",
    "    - 假设有一个矩阵$M$，如果存在$\\lambda$与向量$v$，使得$Mv = \\lambda v$\n",
    "        - $\\lambda$称为特征值， $v$称为特征向量。\n",
    "        \n",
    "        - $M [v_1, v_2, \\dots, v_n] = [\\lambda_1 v_1, \\lambda_2 v_2, \\dots, \\lambda_n v_n]$\n",
    "        \n",
    "        - $\\lambda $越大，对应的特征向量越重要，这个，或者一组特征向量代表M这组样本的特征"
   ]
  },
  {
   "cell_type": "markdown",
   "metadata": {},
   "source": [
    "- 求解出来的W的分量$w_,w_2,w_3,w_4$决定了每个特征的决策重要性。\n",
    "\n",
    "    - 使用这LASSO算法，做特征选择。\n",
    "    "
   ]
  },
  {
   "cell_type": "markdown",
   "metadata": {},
   "source": [
    "- 因为Ridge与LASSO算法，在$\\lambda$值越来越大的情况下，某些特征会消失（指的是权重系数为0），由于测量的缘故，某些值先天比较大，在训练过程占优势，不容易消失。为了保证所有重要的特征公平的训练，强烈建议对数据做标准化处理（做中心化处理）\n",
    "    - 标准化数据：\n",
    "        1. 均值=0\n",
    "        2. 放差=1"
   ]
  },
  {
   "cell_type": "markdown",
   "metadata": {},
   "source": [
    "## 标准化的处理\n",
    "\n",
    "- 算法的步骤\n",
    "    - 计算均值 $\\mu$\n",
    "    - 计算偏差 $\\sigma$\n",
    "    - $\\bar{x}= \\dfrac{x-\\mu}{\\sigma}$"
   ]
  },
  {
   "cell_type": "markdown",
   "metadata": {},
   "source": [
    "- sklearn 提供预处理模块，专门用来标准化数据"
   ]
  },
  {
   "cell_type": "code",
   "execution_count": 59,
   "metadata": {},
   "outputs": [
    {
     "name": "stdout",
     "output_type": "stream",
     "text": [
      "[[-9.00681170e-01  1.03205722e+00 -1.34127240e+00 -1.31297673e+00]\n",
      " [-1.14301691e+00 -1.24957601e-01 -1.34127240e+00 -1.31297673e+00]\n",
      " [-1.38535265e+00  3.37848329e-01 -1.39813811e+00 -1.31297673e+00]\n",
      " [-1.50652052e+00  1.06445364e-01 -1.28440670e+00 -1.31297673e+00]\n",
      " [-1.02184904e+00  1.26346019e+00 -1.34127240e+00 -1.31297673e+00]\n",
      " [-5.37177559e-01  1.95766909e+00 -1.17067529e+00 -1.05003079e+00]\n",
      " [-1.50652052e+00  8.00654259e-01 -1.34127240e+00 -1.18150376e+00]\n",
      " [-1.02184904e+00  8.00654259e-01 -1.28440670e+00 -1.31297673e+00]\n",
      " [-1.74885626e+00 -3.56360566e-01 -1.34127240e+00 -1.31297673e+00]\n",
      " [-1.14301691e+00  1.06445364e-01 -1.28440670e+00 -1.44444970e+00]\n",
      " [-5.37177559e-01  1.49486315e+00 -1.28440670e+00 -1.31297673e+00]\n",
      " [-1.26418478e+00  8.00654259e-01 -1.22754100e+00 -1.31297673e+00]\n",
      " [-1.26418478e+00 -1.24957601e-01 -1.34127240e+00 -1.44444970e+00]\n",
      " [-1.87002413e+00 -1.24957601e-01 -1.51186952e+00 -1.44444970e+00]\n",
      " [-5.25060772e-02  2.18907205e+00 -1.45500381e+00 -1.31297673e+00]\n",
      " [-1.73673948e-01  3.11468391e+00 -1.28440670e+00 -1.05003079e+00]\n",
      " [-5.37177559e-01  1.95766909e+00 -1.39813811e+00 -1.05003079e+00]\n",
      " [-9.00681170e-01  1.03205722e+00 -1.34127240e+00 -1.18150376e+00]\n",
      " [-1.73673948e-01  1.72626612e+00 -1.17067529e+00 -1.18150376e+00]\n",
      " [-9.00681170e-01  1.72626612e+00 -1.28440670e+00 -1.18150376e+00]\n",
      " [-5.37177559e-01  8.00654259e-01 -1.17067529e+00 -1.31297673e+00]\n",
      " [-9.00681170e-01  1.49486315e+00 -1.28440670e+00 -1.05003079e+00]\n",
      " [-1.50652052e+00  1.26346019e+00 -1.56873522e+00 -1.31297673e+00]\n",
      " [-9.00681170e-01  5.69251294e-01 -1.17067529e+00 -9.18557817e-01]\n",
      " [-1.26418478e+00  8.00654259e-01 -1.05694388e+00 -1.31297673e+00]\n",
      " [-1.02184904e+00 -1.24957601e-01 -1.22754100e+00 -1.31297673e+00]\n",
      " [-1.02184904e+00  8.00654259e-01 -1.22754100e+00 -1.05003079e+00]\n",
      " [-7.79513300e-01  1.03205722e+00 -1.28440670e+00 -1.31297673e+00]\n",
      " [-7.79513300e-01  8.00654259e-01 -1.34127240e+00 -1.31297673e+00]\n",
      " [-1.38535265e+00  3.37848329e-01 -1.22754100e+00 -1.31297673e+00]\n",
      " [-1.26418478e+00  1.06445364e-01 -1.22754100e+00 -1.31297673e+00]\n",
      " [-5.37177559e-01  8.00654259e-01 -1.28440670e+00 -1.05003079e+00]\n",
      " [-7.79513300e-01  2.42047502e+00 -1.28440670e+00 -1.44444970e+00]\n",
      " [-4.16009689e-01  2.65187798e+00 -1.34127240e+00 -1.31297673e+00]\n",
      " [-1.14301691e+00  1.06445364e-01 -1.28440670e+00 -1.44444970e+00]\n",
      " [-1.02184904e+00  3.37848329e-01 -1.45500381e+00 -1.31297673e+00]\n",
      " [-4.16009689e-01  1.03205722e+00 -1.39813811e+00 -1.31297673e+00]\n",
      " [-1.14301691e+00  1.06445364e-01 -1.28440670e+00 -1.44444970e+00]\n",
      " [-1.74885626e+00 -1.24957601e-01 -1.39813811e+00 -1.31297673e+00]\n",
      " [-9.00681170e-01  8.00654259e-01 -1.28440670e+00 -1.31297673e+00]\n",
      " [-1.02184904e+00  1.03205722e+00 -1.39813811e+00 -1.18150376e+00]\n",
      " [-1.62768839e+00 -1.74477836e+00 -1.39813811e+00 -1.18150376e+00]\n",
      " [-1.74885626e+00  3.37848329e-01 -1.39813811e+00 -1.31297673e+00]\n",
      " [-1.02184904e+00  1.03205722e+00 -1.22754100e+00 -7.87084847e-01]\n",
      " [-9.00681170e-01  1.72626612e+00 -1.05694388e+00 -1.05003079e+00]\n",
      " [-1.26418478e+00 -1.24957601e-01 -1.34127240e+00 -1.18150376e+00]\n",
      " [-9.00681170e-01  1.72626612e+00 -1.22754100e+00 -1.31297673e+00]\n",
      " [-1.50652052e+00  3.37848329e-01 -1.34127240e+00 -1.31297673e+00]\n",
      " [-6.58345429e-01  1.49486315e+00 -1.28440670e+00 -1.31297673e+00]\n",
      " [-1.02184904e+00  5.69251294e-01 -1.34127240e+00 -1.31297673e+00]\n",
      " [ 1.40150837e+00  3.37848329e-01  5.35295827e-01  2.64698913e-01]\n",
      " [ 6.74501145e-01  3.37848329e-01  4.21564419e-01  3.96171883e-01]\n",
      " [ 1.28034050e+00  1.06445364e-01  6.49027235e-01  3.96171883e-01]\n",
      " [-4.16009689e-01 -1.74477836e+00  1.37235899e-01  1.33225943e-01]\n",
      " [ 7.95669016e-01 -5.87763531e-01  4.78430123e-01  3.96171883e-01]\n",
      " [-1.73673948e-01 -5.87763531e-01  4.21564419e-01  1.33225943e-01]\n",
      " [ 5.53333275e-01  5.69251294e-01  5.35295827e-01  5.27644853e-01]\n",
      " [-1.14301691e+00 -1.51337539e+00 -2.60824029e-01 -2.61192967e-01]\n",
      " [ 9.16836886e-01 -3.56360566e-01  4.78430123e-01  1.33225943e-01]\n",
      " [-7.79513300e-01 -8.19166497e-01  8.03701950e-02  2.64698913e-01]\n",
      " [-1.02184904e+00 -2.43898725e+00 -1.47092621e-01 -2.61192967e-01]\n",
      " [ 6.86617933e-02 -1.24957601e-01  2.50967307e-01  3.96171883e-01]\n",
      " [ 1.89829664e-01 -1.97618132e+00  1.37235899e-01 -2.61192967e-01]\n",
      " [ 3.10997534e-01 -3.56360566e-01  5.35295827e-01  2.64698913e-01]\n",
      " [-2.94841818e-01 -3.56360566e-01 -9.02269170e-02  1.33225943e-01]\n",
      " [ 1.03800476e+00  1.06445364e-01  3.64698715e-01  2.64698913e-01]\n",
      " [-2.94841818e-01 -1.24957601e-01  4.21564419e-01  3.96171883e-01]\n",
      " [-5.25060772e-02 -8.19166497e-01  1.94101603e-01 -2.61192967e-01]\n",
      " [ 4.32165405e-01 -1.97618132e+00  4.21564419e-01  3.96171883e-01]\n",
      " [-2.94841818e-01 -1.28197243e+00  8.03701950e-02 -1.29719997e-01]\n",
      " [ 6.86617933e-02  3.37848329e-01  5.92161531e-01  7.90590793e-01]\n",
      " [ 3.10997534e-01 -5.87763531e-01  1.37235899e-01  1.33225943e-01]\n",
      " [ 5.53333275e-01 -1.28197243e+00  6.49027235e-01  3.96171883e-01]\n",
      " [ 3.10997534e-01 -5.87763531e-01  5.35295827e-01  1.75297293e-03]\n",
      " [ 6.74501145e-01 -3.56360566e-01  3.07833011e-01  1.33225943e-01]\n",
      " [ 9.16836886e-01 -1.24957601e-01  3.64698715e-01  2.64698913e-01]\n",
      " [ 1.15917263e+00 -5.87763531e-01  5.92161531e-01  2.64698913e-01]\n",
      " [ 1.03800476e+00 -1.24957601e-01  7.05892939e-01  6.59117823e-01]\n",
      " [ 1.89829664e-01 -3.56360566e-01  4.21564419e-01  3.96171883e-01]\n",
      " [-1.73673948e-01 -1.05056946e+00 -1.47092621e-01 -2.61192967e-01]\n",
      " [-4.16009689e-01 -1.51337539e+00  2.35044910e-02 -1.29719997e-01]\n",
      " [-4.16009689e-01 -1.51337539e+00 -3.33612130e-02 -2.61192967e-01]\n",
      " [-5.25060772e-02 -8.19166497e-01  8.03701950e-02  1.75297293e-03]\n",
      " [ 1.89829664e-01 -8.19166497e-01  7.62758643e-01  5.27644853e-01]\n",
      " [-5.37177559e-01 -1.24957601e-01  4.21564419e-01  3.96171883e-01]\n",
      " [ 1.89829664e-01  8.00654259e-01  4.21564419e-01  5.27644853e-01]\n",
      " [ 1.03800476e+00  1.06445364e-01  5.35295827e-01  3.96171883e-01]\n",
      " [ 5.53333275e-01 -1.74477836e+00  3.64698715e-01  1.33225943e-01]\n",
      " [-2.94841818e-01 -1.24957601e-01  1.94101603e-01  1.33225943e-01]\n",
      " [-4.16009689e-01 -1.28197243e+00  1.37235899e-01  1.33225943e-01]\n",
      " [-4.16009689e-01 -1.05056946e+00  3.64698715e-01  1.75297293e-03]\n",
      " [ 3.10997534e-01 -1.24957601e-01  4.78430123e-01  2.64698913e-01]\n",
      " [-5.25060772e-02 -1.05056946e+00  1.37235899e-01  1.75297293e-03]\n",
      " [-1.02184904e+00 -1.74477836e+00 -2.60824029e-01 -2.61192967e-01]\n",
      " [-2.94841818e-01 -8.19166497e-01  2.50967307e-01  1.33225943e-01]\n",
      " [-1.73673948e-01 -1.24957601e-01  2.50967307e-01  1.75297293e-03]\n",
      " [-1.73673948e-01 -3.56360566e-01  2.50967307e-01  1.33225943e-01]\n",
      " [ 4.32165405e-01 -3.56360566e-01  3.07833011e-01  1.33225943e-01]\n",
      " [-9.00681170e-01 -1.28197243e+00 -4.31421141e-01 -1.29719997e-01]\n",
      " [-1.73673948e-01 -5.87763531e-01  1.94101603e-01  1.33225943e-01]\n",
      " [ 5.53333275e-01  5.69251294e-01  1.27454998e+00  1.71090158e+00]\n",
      " [-5.25060772e-02 -8.19166497e-01  7.62758643e-01  9.22063763e-01]\n",
      " [ 1.52267624e+00 -1.24957601e-01  1.21768427e+00  1.18500970e+00]\n",
      " [ 5.53333275e-01 -3.56360566e-01  1.04708716e+00  7.90590793e-01]\n",
      " [ 7.95669016e-01 -1.24957601e-01  1.16081857e+00  1.31648267e+00]\n",
      " [ 2.12851559e+00 -1.24957601e-01  1.61574420e+00  1.18500970e+00]\n",
      " [-1.14301691e+00 -1.28197243e+00  4.21564419e-01  6.59117823e-01]\n",
      " [ 1.76501198e+00 -3.56360566e-01  1.44514709e+00  7.90590793e-01]\n",
      " [ 1.03800476e+00 -1.28197243e+00  1.16081857e+00  7.90590793e-01]\n",
      " [ 1.64384411e+00  1.26346019e+00  1.33141568e+00  1.71090158e+00]\n",
      " [ 7.95669016e-01  3.37848329e-01  7.62758643e-01  1.05353673e+00]\n",
      " [ 6.74501145e-01 -8.19166497e-01  8.76490051e-01  9.22063763e-01]\n",
      " [ 1.15917263e+00 -1.24957601e-01  9.90221459e-01  1.18500970e+00]\n",
      " [-1.73673948e-01 -1.28197243e+00  7.05892939e-01  1.05353673e+00]\n",
      " [-5.25060772e-02 -5.87763531e-01  7.62758643e-01  1.57942861e+00]\n",
      " [ 6.74501145e-01  3.37848329e-01  8.76490051e-01  1.44795564e+00]\n",
      " [ 7.95669016e-01 -1.24957601e-01  9.90221459e-01  7.90590793e-01]\n",
      " [ 2.24968346e+00  1.72626612e+00  1.67260991e+00  1.31648267e+00]\n",
      " [ 2.24968346e+00 -1.05056946e+00  1.78634131e+00  1.44795564e+00]\n",
      " [ 1.89829664e-01 -1.97618132e+00  7.05892939e-01  3.96171883e-01]\n",
      " [ 1.28034050e+00  3.37848329e-01  1.10395287e+00  1.44795564e+00]\n",
      " [-2.94841818e-01 -5.87763531e-01  6.49027235e-01  1.05353673e+00]\n",
      " [ 2.24968346e+00 -5.87763531e-01  1.67260991e+00  1.05353673e+00]\n",
      " [ 5.53333275e-01 -8.19166497e-01  6.49027235e-01  7.90590793e-01]\n",
      " [ 1.03800476e+00  5.69251294e-01  1.10395287e+00  1.18500970e+00]\n",
      " [ 1.64384411e+00  3.37848329e-01  1.27454998e+00  7.90590793e-01]\n",
      " [ 4.32165405e-01 -5.87763531e-01  5.92161531e-01  7.90590793e-01]\n",
      " [ 3.10997534e-01 -1.24957601e-01  6.49027235e-01  7.90590793e-01]\n",
      " [ 6.74501145e-01 -5.87763531e-01  1.04708716e+00  1.18500970e+00]\n",
      " [ 1.64384411e+00 -1.24957601e-01  1.16081857e+00  5.27644853e-01]\n",
      " [ 1.88617985e+00 -5.87763531e-01  1.33141568e+00  9.22063763e-01]\n",
      " [ 2.49201920e+00  1.72626612e+00  1.50201279e+00  1.05353673e+00]\n",
      " [ 6.74501145e-01 -5.87763531e-01  1.04708716e+00  1.31648267e+00]\n",
      " [ 5.53333275e-01 -5.87763531e-01  7.62758643e-01  3.96171883e-01]\n",
      " [ 3.10997534e-01 -1.05056946e+00  1.04708716e+00  2.64698913e-01]\n",
      " [ 2.24968346e+00 -1.24957601e-01  1.33141568e+00  1.44795564e+00]\n",
      " [ 5.53333275e-01  8.00654259e-01  1.04708716e+00  1.57942861e+00]\n",
      " [ 6.74501145e-01  1.06445364e-01  9.90221459e-01  7.90590793e-01]\n",
      " [ 1.89829664e-01 -1.24957601e-01  5.92161531e-01  7.90590793e-01]\n",
      " [ 1.28034050e+00  1.06445364e-01  9.33355755e-01  1.18500970e+00]\n",
      " [ 1.03800476e+00  1.06445364e-01  1.04708716e+00  1.57942861e+00]\n",
      " [ 1.28034050e+00  1.06445364e-01  7.62758643e-01  1.44795564e+00]\n",
      " [-5.25060772e-02 -8.19166497e-01  7.62758643e-01  9.22063763e-01]\n",
      " [ 1.15917263e+00  3.37848329e-01  1.21768427e+00  1.44795564e+00]\n",
      " [ 1.03800476e+00  5.69251294e-01  1.10395287e+00  1.71090158e+00]\n",
      " [ 1.03800476e+00 -1.24957601e-01  8.19624347e-01  1.44795564e+00]\n",
      " [ 5.53333275e-01 -1.28197243e+00  7.05892939e-01  9.22063763e-01]\n",
      " [ 7.95669016e-01 -1.24957601e-01  8.19624347e-01  1.05353673e+00]\n",
      " [ 4.32165405e-01  8.00654259e-01  9.33355755e-01  1.44795564e+00]\n",
      " [ 6.86617933e-02 -1.24957601e-01  7.62758643e-01  7.90590793e-01]]\n"
     ]
    }
   ],
   "source": [
    "import sklearn.preprocessing as pp\n",
    "import sklearn.datasets as ds\n",
    "data, _ = ds.load_iris(return_X_y=True)\n",
    "\n",
    "new_data = pp.scale(data)\n",
    "print(new_data)"
   ]
  },
  {
   "cell_type": "markdown",
   "metadata": {},
   "source": [
    "# 用来分类的线性回归\n",
    "\n",
    "- 逻辑回归\n"
   ]
  },
  {
   "cell_type": "markdown",
   "metadata": {},
   "source": [
    "- 尽管在某些时候，使用线性回归可以来分类\n",
    "    - 缺少数学理论，所以使用线性回归做分类，不被认可。\n",
    "    \n",
    "- 线性回归的数学理论依据\n"
   ]
  },
  {
   "cell_type": "markdown",
   "metadata": {},
   "source": [
    "- 一个样本，在二分类情况下：A，B\n",
    "    - 要么$x \\in A $，要没有$x \\in B$"
   ]
  },
  {
   "cell_type": "markdown",
   "metadata": {},
   "source": [
    "- A、B分类\n",
    "    - $p_A$表示x属于A的概率\n",
    "    - $p_B$表示x属于B的概率\n",
    "    \n",
    "    - 在二类分类的情况：$p_A + p_B = 1$"
   ]
  },
  {
   "cell_type": "markdown",
   "metadata": {},
   "source": [
    "- 概率的计算：\n",
    "    - 假设概率$p_A, p_B$满足的线性规律\n",
    "        - $p_A= x W_A$\n",
    "        - $p_B= x W_B$\n",
    "    "
   ]
  },
  {
   "cell_type": "markdown",
   "metadata": {},
   "source": [
    "- 从概率得到分类规则：假设（人类普遍规律）\n",
    "    - A类：$p_A>p_B$\n",
    "    - B类：$p_A <= p_B$"
   ]
  },
  {
   "cell_type": "markdown",
   "metadata": {},
   "source": [
    "- 从概率得到分类规则：假设（人类普遍规律）\n",
    "    - 0：$p_A>p_B$\n",
    "    - 1：$p_A <= p_B$"
   ]
  },
  {
   "cell_type": "markdown",
   "metadata": {},
   "source": [
    "- $ y = \\begin{cases}\n",
    "0,\\quad p_A > p_B\\\\\n",
    "1,\\quad p_A <= p_B\\\\\n",
    "\\end{cases}$"
   ]
  },
  {
   "cell_type": "markdown",
   "metadata": {},
   "source": [
    "- 关键点：计算$p_A, p_B$概率"
   ]
  },
  {
   "cell_type": "markdown",
   "metadata": {},
   "source": [
    "## 逻辑回归的分类模型\n",
    "\n",
    "- $ y = \\begin{cases}\n",
    "0,\\quad p_A - p_B > 0\\\\\n",
    "1,\\quad p_A - p_B <= 0 \\\\\n",
    "\\end{cases}$"
   ]
  },
  {
   "cell_type": "markdown",
   "metadata": {},
   "source": [
    "## 概率的计算推导（概率计算模型）"
   ]
  },
  {
   "cell_type": "markdown",
   "metadata": {},
   "source": [
    "- 假设\n",
    "    - $p_A \\text{概率与样本}x\\text{是线性的关系}$\n",
    "    - $p_B \\text{概率与样本}x\\text{是线性的关系}$"
   ]
  },
  {
   "cell_type": "markdown",
   "metadata": {},
   "source": [
    "- 概率的线性关系表达为矩阵的公式\n",
    "    - $p_A = xW_A$\n",
    "    - $p_B = xW_B$"
   ]
  },
  {
   "cell_type": "markdown",
   "metadata": {},
   "source": [
    "- 假设这个概率计算存在误差\n",
    "    - $p_A = xW_A + \\epsilon_A$\n",
    "    - $p_B = xW_B + \\epsilon_B$"
   ]
  },
  {
   "cell_type": "markdown",
   "metadata": {},
   "source": [
    "- 分类模型使用概率计算\n",
    "\n",
    "\n",
    "- $ y = \\begin{cases}\n",
    "0,\\quad xW_A + \\epsilon_A - xW_B - \\epsilon_B > 0\\\\\n",
    "1,\\quad xW_A + \\epsilon_A - xW_B - \\epsilon_B <= 0 \\\\\n",
    "\\end{cases}$"
   ]
  },
  {
   "cell_type": "markdown",
   "metadata": {},
   "source": [
    "- 记：\n",
    "    - $W_A - W_B = W$\n",
    "    - $\\epsilon_A - \\epsilon_B = \\epsilon$"
   ]
  },
  {
   "cell_type": "markdown",
   "metadata": {},
   "source": [
    "- $ y = \\begin{cases}\n",
    "0,\\quad xW + \\epsilon> 0\\\\\n",
    "1,\\quad xW + \\epsilon<= 0 \\\\\n",
    "\\end{cases}$"
   ]
  },
  {
   "cell_type": "markdown",
   "metadata": {},
   "source": [
    "- $\\epsilon$依然满足正态分布"
   ]
  },
  {
   "cell_type": "markdown",
   "metadata": {},
   "source": [
    "## 逻辑回归的误差模型"
   ]
  },
  {
   "cell_type": "markdown",
   "metadata": {},
   "source": [
    "- x样本属于A类的概率：$p(y=0) = p(xW +\\epsilon  > 0) = p(\\epsilon > -xW) $"
   ]
  },
  {
   "cell_type": "markdown",
   "metadata": {},
   "source": [
    "-  $p(\\epsilon > -xW)$ 就是概率累积函数的模型"
   ]
  },
  {
   "cell_type": "markdown",
   "metadata": {},
   "source": [
    "- $p(\\epsilon > -xW) = 1- p(\\epsilon <= -xW) = 1- F(-xW)$"
   ]
  },
  {
   "cell_type": "markdown",
   "metadata": {},
   "source": [
    "- F就是p函数的累积分布函数"
   ]
  },
  {
   "cell_type": "markdown",
   "metadata": {},
   "source": [
    "- $F(-xW) = \\int _{-\\infty} ^ {-xW}  N(\\mu,\\sigma ^2)  d \\epsilon $"
   ]
  },
  {
   "cell_type": "markdown",
   "metadata": {},
   "source": [
    "- $p(y=0) = F(-xW)$"
   ]
  },
  {
   "cell_type": "markdown",
   "metadata": {},
   "source": [
    "- 怎么求W，因为已知训练样本100（要么0：属于A类，要么1：属于类）\n",
    "    - 训练样本的标签不属于\\[0,1\\]之间，这种训练样本不合格。"
   ]
  },
  {
   "cell_type": "markdown",
   "metadata": {},
   "source": [
    "- x属于A类的概率模型\n",
    "- 二项分布的累积分布：$p(y) =  p(y=0)^{1-y} p(y=1)^{y}$"
   ]
  },
  {
   "cell_type": "markdown",
   "metadata": {},
   "source": [
    "-每个样本当成独立样本\n",
    "    - 所有样本的概率：\n",
    "- 似然函数$ L(W) =  \\prod \\limits _{i=1} ^ {n} p(y_i=0)^{1-y_i} p(y_i=1)^{y_i}$"
   ]
  },
  {
   "cell_type": "markdown",
   "metadata": {},
   "source": [
    "- 误差小（概率的计算误差），概率大。\n"
   ]
  },
  {
   "cell_type": "markdown",
   "metadata": {},
   "source": [
    "- $ln L(W) = ln  (\\prod \\limits _{i=1} ^ {n} p(y_i=0)^{1-y_i} p(y_i=1)^{y_i})$"
   ]
  },
  {
   "cell_type": "markdown",
   "metadata": {},
   "source": [
    "- $ln L(W) = \\sum \\limits _{i=1} ^n ln(p(y_i=0)^{1-y_i} p(y_i=1)^{y_i} )$"
   ]
  },
  {
   "cell_type": "markdown",
   "metadata": {},
   "source": [
    "- $ln L(W) = \\sum \\limits _{i=1} ^n ln(p(y_i=0)^{1-y_i}) + ln( p(y_i=1)^{y_i} )$"
   ]
  },
  {
   "cell_type": "markdown",
   "metadata": {},
   "source": [
    "- $ln L(W) = \\sum \\limits _{i=1} ^n (1-y_i)ln(p(y_i=0)) + (y_i)ln( p(y_i=1) )$"
   ]
  },
  {
   "cell_type": "markdown",
   "metadata": {},
   "source": [
    "- $-ln L(W)$求最小值 = 称呼为交叉熵函数"
   ]
  },
  {
   "cell_type": "markdown",
   "metadata": {},
   "source": [
    "- 上面损失函数的最小值，无法使用最小二乘法：\n",
    "    - 梯度下降法"
   ]
  },
  {
   "cell_type": "markdown",
   "metadata": {},
   "source": [
    "# 总结\n",
    "\n",
    "1. 线性回归不适合分类。\n",
    "\n",
    "2. 我们的样本的线性函数返回的值应该概率。\n",
    "    - $y_A = xW$\n",
    "    - $y_B = xW_B$"
   ]
  },
  {
   "cell_type": "markdown",
   "metadata": {},
   "source": [
    "3. 根据概率，建立分类模型"
   ]
  },
  {
   "cell_type": "markdown",
   "metadata": {},
   "source": [
    "4. 分析：\n",
    "    - 误差的模型（正态分布）：概率误差是正态分布\n",
    "    - 概率的计算模型（二项分布）： p(y_A)是二项分布"
   ]
  },
  {
   "cell_type": "markdown",
   "metadata": {},
   "source": [
    "5. 建模似然函数模型\n",
    "    - 建议写写一下这个公式。"
   ]
  },
  {
   "cell_type": "markdown",
   "metadata": {},
   "source": [
    "6. 通过求自然对数，简化城一个代数式，对代数式取负值，得到交叉熵损失函数\n",
    "    - 写出这个公式。"
   ]
  },
  {
   "cell_type": "markdown",
   "metadata": {},
   "source": [
    "7. 最小二乘法能否求出交叉熵的最小值？"
   ]
  },
  {
   "cell_type": "markdown",
   "metadata": {},
   "source": []
  }
 ],
 "metadata": {
  "kernelspec": {
   "display_name": "Python 3",
   "language": "python",
   "name": "python3"
  },
  "language_info": {
   "codemirror_mode": {
    "name": "ipython",
    "version": 3
   },
   "file_extension": ".py",
   "mimetype": "text/x-python",
   "name": "python",
   "nbconvert_exporter": "python",
   "pygments_lexer": "ipython3",
   "version": "3.6.6"
  },
  "toc": {
   "base_numbering": 1,
   "nav_menu": {},
   "number_sections": true,
   "sideBar": true,
   "skip_h1_title": false,
   "title_cell": "Table of Contents",
   "title_sidebar": "Contents",
   "toc_cell": false,
   "toc_position": {},
   "toc_section_display": true,
   "toc_window_display": false
  }
 },
 "nbformat": 4,
 "nbformat_minor": 2
}
