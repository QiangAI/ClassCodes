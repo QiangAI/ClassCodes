{
 "cells": [
  {
   "cell_type": "markdown",
   "metadata": {},
   "source": [
    "# KNN算法的实现"
   ]
  },
  {
   "cell_type": "code",
   "execution_count": 9,
   "metadata": {},
   "outputs": [
    {
     "data": {
      "text/plain": [
       "1"
      ]
     },
     "execution_count": 9,
     "metadata": {},
     "output_type": "execute_result"
    }
   ],
   "source": [
    "# 向量版本：使用numpy的矩阵运算与向量（使用内存块的操作技术，）\n",
    "import numpy as np\n",
    "import sklearn.datasets as ds\n",
    "\n",
    "def knn(train_data, train_label, sample,  k):\n",
    "    \n",
    "    # 计算待分类的样本到所有训练样本的距离\n",
    "    diff = ((sample - train_data)**2).sum(axis =1 )\n",
    "    distances = np.sqrt(diff)   # 每个距离索引对应样本的位置\n",
    "    #  print(distances)\n",
    "    # 排序\n",
    "    sorted_index = distances.argsort()   # 从小到大\n",
    "    # 取k个最小的,顺便统计每个类的统计数量\n",
    "    categories = {}  # key=类别，value=所在类别的统计量\n",
    "    for i in range(k):\n",
    "        # 取类别\n",
    "        category = train_label[sorted_index[i]]\n",
    "        categories[category] = categories.get(category, 0) + 1  # 编程技巧\n",
    "    # print(categories)\n",
    "    # 统计k中样本所在类别的数量，数量最大的就是分类\n",
    "    # 对字典categories按照值排序，取出一个的key就是类别\n",
    "    sorted_categories = sorted(categories.items(),  key=lambda x: x[1], reverse=True)  # 排序返回列表\n",
    "    \n",
    "    return sorted_categories[0][0]\n",
    "\n",
    "\n",
    "data, target = ds.load_iris(return_X_y=True)\n",
    "c = knn(data, target, data[50], 20)\n",
    "c"
   ]
  },
  {
   "cell_type": "markdown",
   "metadata": {},
   "source": [
    "# KNN中k的选择\n",
    "\n",
    "- 一般选择比较小的k。k选择比较小是指样本少。"
   ]
  },
  {
   "cell_type": "markdown",
   "metadata": {},
   "source": [
    "- 通过程序，从1-n（n是样本容量）选择k，分析它的识别率。\n",
    "    - 选择识别率比较高的k"
   ]
  },
  {
   "cell_type": "markdown",
   "metadata": {},
   "source": [
    "- 参数选择：\n",
    "    - 参数的调优：很多算法的参数都是用户决定。\n",
    "        1. 懂算法，预估处参数的范围。\n",
    "        2. 一般采用交叉验证的方式，寻找最优参数。\n",
    "            - 样本分成两个部分：A：训练集，B：测试集\n",
    "                - A,B的切分有很多切分方法。\n",
    "            - 对两个部分训练与测试反复多次（训练与测试比较均匀）。 \n",
    "            \n",
    "            - 结果：\n",
    "                - 累加和最好的作为选优的结果\n",
    "                - 平均值最好的作为选优的结果"
   ]
  },
  {
   "cell_type": "code",
   "execution_count": 28,
   "metadata": {},
   "outputs": [
    {
     "name": "stdout",
     "output_type": "stream",
     "text": [
      "13\n"
     ]
    },
    {
     "data": {
      "image/png": "[encoded data removed]",
      "text/plain": [
       "<Figure size 576x432 with 1 Axes>"
      ]
     },
     "metadata": {
      "needs_background": "light"
     },
     "output_type": "display_data"
    }
   ],
   "source": [
    "%matplotlib inline\n",
    "import matplotlib.pyplot as plt\n",
    "import numpy as np\n",
    "import sklearn.datasets as ds\n",
    "from sklearn.model_selection  import KFold, ShuffleSplit\n",
    "\n",
    "K = 120\n",
    "#  对训练数据集进行切分：随机切分，K折切分。（5个交叉验证数据集）\n",
    "ss = ShuffleSplit(n_splits=100, test_size=0.2)\n",
    "data, target = ds.load_iris(return_X_y=True)\n",
    "result_split = ss.split(data)\n",
    "\n",
    "# 定义字典用来保存，每个k的测试效果的累加\n",
    "k_rate = {}\n",
    "# 对交叉的雅正数据集循环训练，并测试，累加测试正确识别数量（可能是时间）。\n",
    "for idx_train,  idx_test in result_split:\n",
    "    # 根据下标获取训练与测试数据集\n",
    "    data_train = data.take(idx_train, axis=0)     # 训练集\n",
    "    target_train = target.take(idx_train, axis=0) # 训练标签\n",
    "    \n",
    "    data_test = data.take(idx_test, axis=0)    # 测试集\n",
    "    target_test = target.take(idx_test, axis=0)   # 测试标签\n",
    "    # 对测试集循环测试\n",
    "    for  idx in  idx_test:\n",
    "        sample = data[idx]   # 取出测试样本\n",
    "        # 在[1，n]中取一个数m，（n样本数量），循环mc次，来训练与测试\n",
    "        for  k in range(1, K+1):   # 采用不同的k对一个样本训练，用于比较k的测试结果\n",
    "            c = knn(data_train, target_train, sample, k)     # 类别\n",
    "            if c == target[idx]:\n",
    "                k_rate[k] = k_rate.get(k, 0) + 1 \n",
    "    \n",
    "# 得到准确数最多的k就是最优的k。\n",
    "k_rate_sorted = sorted(k_rate.items(), key=lambda x : x[1], reverse=True)\n",
    "# 可以使用可视化选择最优（模型分析可视化，用户数据可视化）。\n",
    "# k_rate\n",
    "best_k = k_rate_sorted[0][0]\n",
    "print(best_k)\n",
    "# k的选择与识别正确数的可视化\n",
    "figure = plt.figure('K调优',  figsize=(8, 6))\n",
    "ax = figure.add_axes([0.1, 0.1, 0.8, 0.8])\n",
    "\n",
    "# 对统计的结果按照k排序\n",
    "dict_sorted = dict(sorted(k_rate.items(), key=lambda x: x[0], reverse=False))\n",
    "\n",
    "ax.plot(dict_sorted.keys(), dict_sorted.values(), color=(1,0,0,1))\n",
    "\n",
    "plt.show()\n"
   ]
  },
  {
   "cell_type": "markdown",
   "metadata": {},
   "source": [
    "# sklearn的KNN算法应用"
   ]
  },
  {
   "cell_type": "code",
   "execution_count": 38,
   "metadata": {},
   "outputs": [
    {
     "name": "stdout",
     "output_type": "stream",
     "text": [
      "测试样本总数：30，识别正确数：29，识别正确率： 96.67%\n",
      "测试样本总数：30，识别正确数：28，识别正确率： 93.33%\n",
      "测试样本总数：30，识别正确数：28，识别正确率： 93.33%\n",
      "测试样本总数：30，识别正确数：28，识别正确率： 93.33%\n",
      "测试样本总数：30，识别正确数：28，识别正确率： 93.33%\n"
     ]
    }
   ],
   "source": [
    "from sklearn.neighbors import KNeighborsClassifier\n",
    "import numpy as np\n",
    "import sklearn.datasets as ds\n",
    "from sklearn.model_selection  import KFold, ShuffleSplit\n",
    "\n",
    "\n",
    "\n",
    "\n",
    "ss = ShuffleSplit(n_splits=5, test_size=0.2)\n",
    "data, target = ds.load_iris(return_X_y=True)\n",
    "result_split = ss.split(data)\n",
    "\n",
    "\n",
    "for idx_train,  idx_test in result_split:\n",
    "    # 根据下标获取训练与测试数据集\n",
    "    data_train = data.take(idx_train, axis=0)     # 训练集\n",
    "    target_train = target.take(idx_train, axis=0) # 训练标签\n",
    "    \n",
    "    data_test = data.take(idx_test, axis=0)    # 测试集\n",
    "    target_test = target.take(idx_test, axis=0)   # 测试标签\n",
    "    \n",
    "    classifier = KNeighborsClassifier(n_neighbors=10)\n",
    "    # 训练\n",
    "    classifier.fit(data_train, target_train) \n",
    "    # 识别\n",
    "    pre = classifier.predict(data_test)\n",
    "    correct_num = (pre ==target_test).sum()\n",
    "    # 打印结果\n",
    "    print(F'测试样本总数：{len(target_test)}，识别正确数：{correct_num}，识别正确率：{100.0* correct_num/len(target_test):6.2f}%')\n",
    "    \n",
    "    \n"
   ]
  },
  {
   "cell_type": "markdown",
   "metadata": {},
   "source": []
  },
  {
   "cell_type": "code",
   "execution_count": null,
   "metadata": {},
   "outputs": [],
   "source": []
  }
 ],
 "metadata": {
  "kernelspec": {
   "display_name": "Python 3",
   "language": "python",
   "name": "python3"
  },
  "language_info": {
   "codemirror_mode": {
    "name": "ipython",
    "version": 3
   },
   "file_extension": ".py",
   "mimetype": "text/x-python",
   "name": "python",
   "nbconvert_exporter": "python",
   "pygments_lexer": "ipython3",
   "version": "3.6.6"
  },
  "toc": {
   "base_numbering": 1,
   "nav_menu": {},
   "number_sections": true,
   "sideBar": true,
   "skip_h1_title": false,
   "title_cell": "Table of Contents",
   "title_sidebar": "Contents",
   "toc_cell": false,
   "toc_position": {},
   "toc_section_display": true,
   "toc_window_display": false
  }
 },
 "nbformat": 4,
 "nbformat_minor": 2
}
