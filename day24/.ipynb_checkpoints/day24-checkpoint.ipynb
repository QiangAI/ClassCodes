{
 "cells": [
  {
   "cell_type": "markdown",
   "metadata": {},
   "source": [
    "# 机器学习算法分类\n",
    "\n",
    "1. 监督学习\n",
    "    - 训练样本：带标签或者期望值；\n",
    "        - 线性回归\n",
    "            - 局部加权\n",
    "            - Ridge回归\n",
    "            - LASSO回归\n",
    "        - Logistic回归\n",
    "            - 正则化（L1，L2惩罚项）\n",
    "        - SVM\n",
    "            - SVC【lassfier】\n",
    "            - SVR【egression】\n",
    "        - 决策树\n",
    "            - 随机森林\n",
    "            - XGBoost\n",
    "        - **Naive Bayes分类朴素贝叶斯分类**\n",
    "        \n",
    "        - KNN算法\n",
    "            \n",
    "        - **集成学习**\n",
    "            - ....\n",
    "            \n",
    "        - 神经网络\n",
    "            - .....（深度学习）\n",
    "\n",
    "2. 无监督学习\n",
    "    - 训练样本不带标签与期望值；\n",
    "        - 降维算法\n",
    "            - PCA\n",
    "            - FA\n",
    "            - ICA\n",
    "            - 核PCA\n",
    "        - 聚类算法\n",
    "            - K均值\n",
    "        - 规则关联\n",
    "            - **Apriori**    \n",
    "            \n",
    "3. 半监督学习\n",
    "    - 少量样本带标签\n",
    "    - 部分样本不带标签\n",
    "    \n",
    "\n",
    "4. 强化学习\n",
    "    - 惩罚或者奖励学习\n",
    "            "
   ]
  },
  {
   "cell_type": "markdown",
   "metadata": {},
   "source": [
    "# K均值算法\n",
    "\n",
    "- 聚类\n",
    "    - 基于人类的直觉形成的一个算法"
   ]
  },
  {
   "cell_type": "markdown",
   "metadata": {},
   "source": [
    "- 算法过程：\n",
    "    - 假设样本集$X=[x_1,x_2,\\dots,x_n]$, 准备分成K类\n",
    "    \n",
    "    - 1. 在样本集中，随机选择K个质心点。\n",
    "    - 2. 循环计算训练样本到K个质心点的距离（欧氏距离，马氏距离，.....）\n",
    "    - 3. 每个样本点，具有K个距离，把样本点划分为吉距离最小的质心类别。\n",
    "    - 4. 每个一样本可以划分到k个质心所在类别。\n",
    "    \n",
    "    \n",
    "    - 5. 重新对新的类别，计算均值，得到K个质心点。然后重复上面的步骤。\n",
    "    \n",
    "    - 6. 算法结束：\n",
    "        - 质心点比较稳定：\n",
    "            - 下一次与上一次质心完全相等（在某个误差范围内，我们认为完全相等）。\n",
    "            - 指定迭代次数。"
   ]
  },
  {
   "cell_type": "markdown",
   "metadata": {},
   "source": [
    "## sklearn算法的应用"
   ]
  },
  {
   "cell_type": "code",
   "execution_count": 26,
   "metadata": {},
   "outputs": [
    {
     "name": "stderr",
     "output_type": "stream",
     "text": [
      "/Library/Frameworks/Python.framework/Versions/3.6/lib/python3.6/site-packages/sklearn/cluster/k_means_.py:896: RuntimeWarning: Explicit initial center position passed: performing only one init in k-means instead of n_init=10\n",
      "  return_n_iter=True)\n"
     ]
    },
    {
     "name": "stdout",
     "output_type": "stream",
     "text": [
      "[0 0 0 0 0 0 0 0 0 0 0 0 0 0 0 0 0 0 0 0 0 0 0 0 0 0 0 0 0 0 0 0 0 0 0 0 0\n",
      " 0 0 0 0 0 0 0 0 0 0 0 0 0 2 1 2 1 1 1 1 1 1 1 1 1 1 1 1 1 1 1 1 1 1 1 1 1\n",
      " 1 1 2 2 1 1 1 1 1 1 1 1 1 1 1 1 1 1 1 1 1 1 1 1 0 1 2 1 2 2 2 2 1 2 2 2 2\n",
      " 2 2 1 1 2 2 2 2 1 2 1 2 1 2 2 1 1 2 2 2 2 2 2 2 2 2 2 1 2 2 2 1 2 2 2 1 2\n",
      " 2 1]\n"
     ]
    },
    {
     "data": {
      "image/png": "[encoded data removed]",
      "text/plain": [
       "<Figure size 576x432 with 1 Axes>"
      ]
     },
     "metadata": {
      "needs_background": "light"
     },
     "output_type": "display_data"
    },
    {
     "name": "stdout",
     "output_type": "stream",
     "text": [
      "132\n"
     ]
    }
   ],
   "source": [
    "% matplotlib inline\n",
    "import matplotlib.pyplot as plt\n",
    "import matplotlib as mlp\n",
    "import sklearn.datasets as ds\n",
    "from sklearn.cluster import KMeans\n",
    "import numpy as np\n",
    "\n",
    "\n",
    "# 数据集：鸢尾花\n",
    "data, target = ds.load_iris(return_X_y=True)\n",
    "\n",
    "data = data[:, [0, 2]]\n",
    "\n",
    "init = np.zeros(shape=(3, data.shape[1]), dtype=np.float32)\n",
    "\n",
    "init[0] = data[1]\n",
    "init[1] = data[51]\n",
    "init[2] =data[120]\n",
    "\n",
    "# 聚类\n",
    "cluster = KMeans(n_clusters=3, init= init)   # 选择初始质心点在不同的对应类别，计算结果的类别标号基本上就不会变。\n",
    "cluster.fit(data)    # 聚类过程：均值点（质心点），分类后的数据集\n",
    "\n",
    "# 使用样本测试分类效果\n",
    "labels = cluster.predict(data)\n",
    "print(labels)\n",
    "# 可视化\n",
    "figure = plt.figure('K均值', figsize=[8, 6])\n",
    "ax =figure.add_axes([0.1, 0.1, 0.8, 0.8])\n",
    "\n",
    "# 样本点\n",
    "colors = mlp.colors.ListedColormap([(1,0,0),(0,1,0),(0,0,1)])\n",
    "\n",
    "ax.scatter(data[:50, 0], data[:50, 1], c=labels[0:50],   cmap=colors, marker='v')\n",
    "ax.scatter(data[50:100, 0], data[50:100, 1], c=labels[50:100],   cmap=colors, marker='>')\n",
    "ax.scatter(data[100:150, 0], data[100:150, 1], c=labels[100:150],   cmap=colors, marker='^')\n",
    "# 质心点\n",
    "ax.scatter(cluster.cluster_centers_[:,0], cluster.cluster_centers_[:,1], color=(0,1,1))\n",
    "\n",
    "plt.show()\n",
    "print(((labels- target)==0).sum())   # \n"
   ]
  },
  {
   "cell_type": "markdown",
   "metadata": {},
   "source": [
    "## 算法实现\n",
    "\n",
    "- 数值计算"
   ]
  },
  {
   "cell_type": "code",
   "execution_count": 61,
   "metadata": {},
   "outputs": [
    {
     "name": "stdout",
     "output_type": "stream",
     "text": [
      "[0, 0, 0, 0, 0, 0, 0, 0, 0, 0, 0, 0, 0, 0, 0, 0, 0, 0, 0, 0, 0, 0, 0, 0, 0, 0, 0, 0, 0, 0, 0, 0, 0, 0, 0, 0, 0, 0, 0, 0, 0, 0, 0, 0, 0, 0, 0, 0, 0, 0, 2, 1, 2, 1, 1, 1, 1, 1, 1, 1, 1, 1, 1, 1, 1, 1, 1, 1, 1, 1, 1, 1, 1, 1, 1, 1, 1, 2, 1, 1, 1, 1, 1, 1, 1, 1, 1, 1, 1, 1, 1, 1, 1, 1, 1, 1, 1, 1, 1, 1, 2, 1, 2, 2, 2, 2, 1, 2, 2, 2, 2, 2, 2, 1, 1, 2, 2, 2, 2, 1, 2, 1, 2, 1, 2, 2, 1, 1, 2, 2, 2, 2, 2, 1, 2, 2, 2, 2, 1, 2, 2, 2, 1, 2, 2, 2, 1, 2, 2, 1]\n"
     ]
    }
   ],
   "source": [
    "% matplotlib inline\n",
    "import matplotlib.pyplot as plt\n",
    "from matplotlib.colors import ListedColormap\n",
    "import sklearn.datasets as ds\n",
    "import numpy as np\n",
    "\n",
    "# 加载数据\n",
    "data, _ = ds.load_iris(return_X_y=True)\n",
    "# 1.随机选择初始质心点\n",
    "tol = 0.0001   # 质心点稳定的误差\n",
    "cluster_num = 3  # 聚类的类别（经验 + 人的分析）、\n",
    "\n",
    "# 输出与中间数据缓冲\n",
    "# 质心点\n",
    "clusters = []   # 存放的是均值中心shape= (3, 4)\n",
    "\n",
    "#  聚类的样本集\n",
    "cls_clusters = {}   # 字典格式：{类别下标(0,1,2): [存放样本的下标] }     # 类别下标对应质心的下标\n",
    "\n",
    "# 质心初始化（在data中随机选择三个点）\n",
    "idx = np.random.choice( range(0, len(data)), cluster_num)\n",
    "for i in idx:\n",
    "    clusters.append(data[i])   # 取三个样本点作为随机质心点\n",
    "    # 聚类样本集的初始化\n",
    "\n",
    "for i in range(cluster_num): \n",
    "    cls_clusters[i] = []   # 初始化空的list\n",
    "\n",
    "is_cluster = True\n",
    "\n",
    "while is_cluster:\n",
    "    # 重新初始化聚类的样本集\n",
    "    cls_clusters = {}\n",
    "    for i in range(cluster_num): \n",
    "        cls_clusters[i] = []   # 初始化空的list\n",
    "        \n",
    "    # 2. 对样本点循环，计算到质心点的距离\n",
    "    for sample_idx in  range(len(data)):\n",
    "        # 计算到所有质心点的距离\n",
    "        # 保存到质心点的距离\n",
    "        distances = []\n",
    "        for cluster in clusters:\n",
    "            # 计算距离\n",
    "            # distance =  np.sqrt(np.dot(data[sample_idx] - cluster, data[sample_idx] - cluster))    # 计算两个样本的差\n",
    "            diff = (data[sample_idx] - cluster) **2\n",
    "            diff =diff.sum()\n",
    "            distance = np.sqrt(diff)\n",
    "            distances.append(distance)\n",
    "        # 3. 根据最小原则，对样本点进行聚类\n",
    "        # 找出最小值的下标(聚类的类别下标)\n",
    "        min_idx = np.argmin(distances)\n",
    "        cls_clusters[min_idx].append( sample_idx )\n",
    "    # print(cls_clusters)    \n",
    "    # 4. 重新计算质心点，从第2步开始重复（误差值，固定的循环步骤）\n",
    "    new_clusters = []     # 存放新的质心点\n",
    "\n",
    "    # 循环字典，计算新的聚类的质心点\n",
    "    for cls in cls_clusters:   # cls是字典的key，就是类别\n",
    "        # 取出对应类别的样本集的下标\n",
    "        data_cls_idx =  cls_clusters[cls]\n",
    "        # print(data_cls_idx)\n",
    "        # 根据聚类的下标计算均值\n",
    "        # 根据下标取样本\n",
    "        data_cls = data.take(data_cls_idx, axis=0)\n",
    "        cls_mean = data_cls.mean(axis=0)\n",
    "        # 产生新的质心点\n",
    "        new_clusters.append(cls_mean)\n",
    "\n",
    "    # 是否质心点稳定\n",
    "    # 计算新旧质心点的距离（误差）是否小于tol\n",
    "    is_cluster=False\n",
    "    for i in range(len(new_clusters)):\n",
    "        # 计算质心点的距离\n",
    "        delta = np.sqrt(((clusters[i] - new_clusters[i])**2).sum())\n",
    "        if delta > tol:\n",
    "            is_cluster = True\n",
    "            break\n",
    "    # 跟新新的质心点\n",
    "    clusters = new_clusters\n",
    "\n",
    "    \n",
    "# print(delta)\n",
    "# print('聚类结束')\n",
    "# print(cls_clusters[0])\n",
    "# print(cls_clusters[1])\n",
    "# print(cls_clusters[2])\n",
    "# 分类\n",
    "categories = []\n",
    "for i in range(len(data)):\n",
    "    # 判定样本点，在哪个类别\n",
    "    for category in cls_clusters:\n",
    "        if  i in cls_clusters[category]:\n",
    "            categories.append(category)\n",
    "            break\n",
    "            \n",
    "print(categories)\n",
    "# 可视化"
   ]
  },
  {
   "cell_type": "code",
   "execution_count": 86,
   "metadata": {},
   "outputs": [
    {
     "name": "stdout",
     "output_type": "stream",
     "text": [
      "[2, 2, 2, 2, 2, 0, 2, 2, 2, 2, 0, 2, 2, 2, 0, 0, 0, 2, 0, 0, 0, 0, 2, 0, 0, 0, 0, 0, 0, 2, 2, 0, 0, 0, 2, 2, 0, 2, 2, 0, 2, 2, 2, 0, 0, 2, 0, 2, 0, 2, 1, 1, 1, 1, 1, 1, 1, 0, 1, 1, 0, 1, 1, 1, 1, 1, 1, 1, 1, 1, 1, 1, 1, 1, 1, 1, 1, 1, 1, 1, 1, 1, 1, 1, 1, 1, 1, 1, 1, 1, 1, 1, 1, 0, 1, 1, 1, 1, 0, 1, 1, 1, 1, 1, 1, 1, 1, 1, 1, 1, 1, 1, 1, 1, 1, 1, 1, 1, 1, 1, 1, 1, 1, 1, 1, 1, 1, 1, 1, 1, 1, 1, 1, 1, 1, 1, 1, 1, 1, 1, 1, 1, 1, 1, 1, 1, 1, 1, 1, 1]\n"
     ]
    },
    {
     "data": {
      "image/png": "[encoded data removed]",
      "text/plain": [
       "<Figure size 576x432 with 1 Axes>"
      ]
     },
     "metadata": {
      "needs_background": "light"
     },
     "output_type": "display_data"
    },
    {
     "name": "stdout",
     "output_type": "stream",
     "text": [
      "70\n"
     ]
    }
   ],
   "source": [
    "% matplotlib inline\n",
    "import matplotlib.pyplot as plt\n",
    "from matplotlib.colors import ListedColormap\n",
    "import sklearn.datasets as ds\n",
    "import numpy as np\n",
    "\n",
    "# 加载数据\n",
    "data, target = ds.load_iris(return_X_y=True)\n",
    "data = data[:, [0, 2]] \n",
    "# 1.随机选择初始质心点\n",
    "tol = 0.0001   # 质心点稳定的误差\n",
    "cluster_num = 3  # 聚类的类别（经验 + 人的分析）、\n",
    "\n",
    "# 输出与中间数据缓冲\n",
    "# 质心点\n",
    "clusters = []   # 存放的是均值中心shape= (3, 4)\n",
    "\n",
    "#  聚类的样本集\n",
    "cls_clusters = {}   # 字典格式：{类别下标(0,1,2): [存放样本的下标] }     # 类别下标对应质心的下标\n",
    "\n",
    "# 质心初始化（在data中随机选择三个点）\n",
    "idx = np.random.choice( range(0, len(data)), cluster_num)\n",
    "for i in idx:\n",
    "    clusters.append(data[i])   # 取三个样本点作为随机质心点\n",
    "    # 聚类样本集的初始化\n",
    "\n",
    "for i in range(cluster_num): \n",
    "    cls_clusters[i] = []   # 初始化空的list\n",
    "\n",
    "is_cluster = True\n",
    "\n",
    "while is_cluster:\n",
    "    # 重新初始化聚类的样本集\n",
    "    cls_clusters = {}\n",
    "    for i in range(cluster_num): \n",
    "        cls_clusters[i] = []   # 初始化空的list\n",
    "        \n",
    "    # 2. 对样本点循环，计算到质心点的距离\n",
    "    for sample_idx in  range(len(data)):\n",
    "        # 计算到所有质心点的距离\n",
    "        # 保存到质心点的距离\n",
    "        distances = []\n",
    "        for cluster in clusters:\n",
    "            # 计算距离\n",
    "            # distance =  np.sqrt(np.dot(data[sample_idx] - cluster, data[sample_idx] - cluster))    # 计算两个样本的差\n",
    "            diff = (data[sample_idx] - cluster) **2\n",
    "            diff =diff.sum()\n",
    "            distance = np.sqrt(diff)\n",
    "            distances.append(distance)\n",
    "        # 3. 根据最小原则，对样本点进行聚类\n",
    "        # 找出最小值的下标(聚类的类别下标)\n",
    "        min_idx = np.argmin(distances)\n",
    "        cls_clusters[min_idx].append( sample_idx )\n",
    "    # print(cls_clusters)    \n",
    "    # 4. 重新计算质心点，从第2步开始重复（误差值，固定的循环步骤）\n",
    "    new_clusters = []     # 存放新的质心点\n",
    "\n",
    "    # 循环字典，计算新的聚类的质心点\n",
    "    for cls in cls_clusters:   # cls是字典的key，就是类别\n",
    "        # 取出对应类别的样本集的下标\n",
    "        data_cls_idx =  cls_clusters[cls]\n",
    "        # print(data_cls_idx)\n",
    "        # 根据聚类的下标计算均值\n",
    "        # 根据下标取样本\n",
    "        data_cls = data.take(data_cls_idx, axis=0)\n",
    "        cls_mean = data_cls.mean(axis=0)\n",
    "        # 产生新的质心点\n",
    "        new_clusters.append(cls_mean)\n",
    "\n",
    "    # 是否质心点稳定\n",
    "    # 计算新旧质心点的距离（误差）是否小于tol\n",
    "    is_cluster=False\n",
    "    for i in range(len(new_clusters)):\n",
    "        # 计算质心点的距离\n",
    "        delta = np.sqrt(((clusters[i] - new_clusters[i])**2).sum())\n",
    "        if delta > tol:\n",
    "            is_cluster = True\n",
    "            break\n",
    "    # 跟新新的质心点\n",
    "    clusters = new_clusters\n",
    "\n",
    "    \n",
    "# print(delta)\n",
    "# print('聚类结束')\n",
    "# print(cls_clusters[0])\n",
    "# print(cls_clusters[1])\n",
    "# print(cls_clusters[2])\n",
    "# 分类\n",
    "categories = []\n",
    "for i in range(len(data)):\n",
    "    # 判定样本点，在哪个类别\n",
    "    for category in cls_clusters:\n",
    "        if  i in cls_clusters[category]:\n",
    "            categories.append(category)\n",
    "            break\n",
    "            \n",
    "print(categories)\n",
    "\n",
    "# 可视化\n",
    "figure = plt.figure('K均值-2', figsize=[8, 6])\n",
    "ax =figure.add_axes([0.1, 0.1, 0.8, 0.8])\n",
    "\n",
    "# 样本点\n",
    "colors = mlp.colors.ListedColormap([(1,0,0),(0,1,0),(0,0,1)])\n",
    "\n",
    "ax.scatter(data[:50, 0], data[:50, 1], c=categories[0:50],   cmap=colors, marker='v')\n",
    "ax.scatter(data[50:100, 0], data[50:100, 1], c=categories[50:100],   cmap=colors, marker='>')\n",
    "ax.scatter(data[100:150, 0], data[100:150, 1], c=categories[100:150],   cmap=colors, marker='^')\n",
    "# 质心点\n",
    "clusters = np.array(clusters)\n",
    "\n",
    "ax.scatter(clusters[:,0], clusters[:,1], color=(0,1,1))\n",
    "\n",
    "plt.show()\n",
    "\n",
    "print(((categories- target)==0).sum())   # \n",
    "\n"
   ]
  },
  {
   "cell_type": "markdown",
   "metadata": {},
   "source": [
    "# 决策树"
   ]
  },
  {
   "cell_type": "markdown",
   "metadata": {},
   "source": [
    "## 使用sklearn体验应用"
   ]
  },
  {
   "cell_type": "markdown",
   "metadata": {},
   "source": [
    "### 分类"
   ]
  },
  {
   "cell_type": "code",
   "execution_count": 108,
   "metadata": {},
   "outputs": [
    {
     "name": "stdout",
     "output_type": "stream",
     "text": [
      "[0 0 0 0 0 0 0 0 0 0 0 0 0 0 0 0 0 0 0 0 0 0 0 0 0 0 0 0 0 0 0 0 0 0 0 0 0\n",
      " 0 0 0 0 0 0 0 0 0 0 0 0 0 1 1 1 1 1 1 1 1 1 1 1 1 1 1 1 1 1 1 1 1 1 1 1 1\n",
      " 1 1 1 1 1 1 1 1 1 1 1 1 1 1 1 1 1 1 1 1 1 1 1 1 1 1 2 2 2 2 2 2 2 2 2 2 2\n",
      " 2 2 2 2 2 2 2 2 2 2 2 2 2 2 2 2 2 2 2 2 2 2 2 2 2 2 2 2 2 2 2 2 2 2 2 2 2\n",
      " 2 2]\n"
     ]
    },
    {
     "data": {
      "text/plain": [
       "150"
      ]
     },
     "execution_count": 108,
     "metadata": {},
     "output_type": "execute_result"
    }
   ],
   "source": [
    "import numpy as np\n",
    "import sklearn.datasets as ds\n",
    "from sklearn.tree import DecisionTreeClassifier\n",
    "\n",
    "# 1. 加载数据\n",
    "# data, target = ds.load_wine(return_X_y=True)\n",
    "data, target = ds.load_iris(return_X_y=True)\n",
    "\n",
    "# print((target==0).sum())\n",
    "# print((target==1).sum())\n",
    "# print((target==2).sum())\n",
    "# 2. 创建一个决策树分类器\n",
    "classifier = DecisionTreeClassifier()    # 采用默认参数\n",
    "# 3. 训练\n",
    "classifier.fit(data, target)\n",
    "# 4. 分类测试结果\n",
    "pre = classifier.predict(data)\n",
    "print(pre)\n",
    "(pre == target).sum()    # 过拟合现象"
   ]
  },
  {
   "cell_type": "code",
   "execution_count": null,
   "metadata": {},
   "outputs": [],
   "source": [
    "# re = ds.load_iris()\n",
    "# for item in re:\n",
    "#     print(item, re[item])"
   ]
  },
  {
   "cell_type": "markdown",
   "metadata": {},
   "source": [
    "### 回归\n",
    "\n",
    "- 多元回归"
   ]
  },
  {
   "cell_type": "code",
   "execution_count": 117,
   "metadata": {},
   "outputs": [
    {
     "name": "stdout",
     "output_type": "stream",
     "text": [
      "(17, 3) (17, 3)\n"
     ]
    },
    {
     "data": {
      "text/plain": [
       "(array([154.,  34.,  64.]), array([156.,  33.,  54.]))"
      ]
     },
     "execution_count": 117,
     "metadata": {},
     "output_type": "execute_result"
    }
   ],
   "source": [
    "import numpy as np\n",
    "import sklearn.datasets as ds\n",
    "from sklearn.tree import DecisionTreeRegressor    # 回归\n",
    "\n",
    "# 1. 加载数据\n",
    "data1, target1 = ds.load_linnerud(return_X_y=True)\n",
    "data = data1[0:17]\n",
    "target= target1[0:17]\n",
    "print(data.shape, target.shape)\n",
    "# 2. 创建一个决策树分类器\n",
    "regressor =  DecisionTreeRegressor()\n",
    "# 3. 训练\n",
    "regressor.fit(data, target)\n",
    "\n",
    "# 4. 预测测试结果\n",
    "pre = regressor.predict(data1)\n",
    "\n",
    "pre[18], target1[18]"
   ]
  },
  {
   "cell_type": "markdown",
   "metadata": {},
   "source": [
    "- 决策树：\n",
    "    - 不管分类与预测，对训练样本都是100%正确。过拟合现象"
   ]
  },
  {
   "cell_type": "code",
   "execution_count": 161,
   "metadata": {},
   "outputs": [
    {
     "name": "stdout",
     "output_type": "stream",
     "text": [
      "1\n"
     ]
    }
   ],
   "source": [
    "%matplotlib inline\n",
    "\n",
    "# 引入模块（安装）\n",
    "# 决策树的过程可视化\n",
    "import numpy\n",
    "from sklearn.tree import DecisionTreeClassifier\n",
    "from sklearn import  tree\n",
    "from sklearn.externals.six import StringIO\n",
    "import matplotlib.pyplot as plt\n",
    "import pydot    # 单独安转\n",
    "import sklearn.datasets as ds\n",
    "\n",
    "# 训练决策树\n",
    "data, target = ds.load_iris(return_X_y=True)\n",
    "\n",
    "classifier = DecisionTreeClassifier(criterion='entropy')\n",
    "classifier.fit(data, target)    # 训练过程生成决策树\n",
    "\n",
    "# 根据决策树，绘制图形（模式）\n",
    "# 创建一个缓冲，存储输出\n",
    "buff = StringIO()    # 生成的图像数据\n",
    "\n",
    "# 把决策树导出为图像（IO缓冲）\n",
    "tree.export_graphviz(\n",
    "    classifier,  \n",
    "    out_file=buff,  \n",
    "    feature_names=['特征1', '特征2', '特征3', '特征4'], \n",
    "    class_names=['A类','B类','C类'],\n",
    "    filled=True,\n",
    "    rounded=True\n",
    ")\n",
    "\n",
    "# 保存为图像\n",
    "graphics = pydot.graph_from_dot_data(buff.getvalue())   # 把缓冲转换为图像对象\n",
    "print(len(graphics))\n",
    "graphics[0].write_svg('iris_tree.svg')\n",
    "\n"
   ]
  },
  {
   "cell_type": "markdown",
   "metadata": {},
   "source": [
    "## 决策树的数学基础"
   ]
  },
  {
   "cell_type": "markdown",
   "metadata": {},
   "source": [
    "### 思路\n",
    "- 任何的数据多个维度的特征。\n",
    "    - 根据特征的重要性，选择一个重要特征\n",
    "        - 特征重要性的选择标准（衡量标准）\n",
    "    - 根据重要特征的值，对样本进行决策\n",
    "        - 边界值的计算公式"
   ]
  },
  {
   "cell_type": "markdown",
   "metadata": {},
   "source": [
    "### 信息论的基本概念\n",
    "- 信息论Shannon\n",
    "    - 根据样本计算的一个值：信息熵\n",
    "    \n",
    "- 信息论在决策树中提供两个核心值得计算理论依据：\n",
    "    - 特征选择\n",
    "    - 分类阈值"
   ]
  },
  {
   "cell_type": "markdown",
   "metadata": {},
   "source": [
    "- 不纯度（Impurity）\n",
    "    - 不纯的度量：\n",
    "        - 基尼指数  Gini\n",
    "        - 信息熵\n",
    "        - 分类误差\n",
    "\n",
    "- 疑问：\n",
    "    - 能度量不纯？"
   ]
  },
  {
   "cell_type": "markdown",
   "metadata": {},
   "source": [
    "- 信息熵（Entropy）"
   ]
  },
  {
   "cell_type": "markdown",
   "metadata": {},
   "source": [
    "- 假设样本$X$， 假设类别数是$m$, 每个类别的集合$[x_{i0}, x_{i1},\\dots,x_{in}]  , \\qquad  ,i \\in [0, 1,2,\\dots, m-1]$\n",
    "- $I _E = - \\sum \\limits _{i=1} ^ m p_i log(p_i) $"
   ]
  },
  {
   "cell_type": "markdown",
   "metadata": {},
   "source": [
    "- $p_i = \\dfrac{N_i}{M} $, $N_i$标识i类的样本个数，$N$样本总数"
   ]
  },
  {
   "cell_type": "code",
   "execution_count": 133,
   "metadata": {},
   "outputs": [
    {
     "name": "stdout",
     "output_type": "stream",
     "text": [
      "-22.95904245935251\n"
     ]
    }
   ],
   "source": [
    "import math\n",
    "E= [1500, 1, 1]\n",
    "\n",
    "I_E = 0\n",
    "\n",
    "for e in E:\n",
    "    I_E -= e/150.0 * math.log(e/150.0)\n",
    "\n",
    "print(I_E)"
   ]
  },
  {
   "cell_type": "markdown",
   "metadata": {},
   "source": [
    "- 基尼指数（Gini Index）"
   ]
  },
  {
   "cell_type": "markdown",
   "metadata": {},
   "source": [
    "- $ I_G  = \\sum \\limits _{i=1}^m p_i (1- p_i) = \\sum \\limits _{i=1} ^m (p_i  - {p_i}^2) = 1- \\sum \\limits _{i=1} ^ m  {p_i}^2$"
   ]
  },
  {
   "cell_type": "markdown",
   "metadata": {},
   "source": [
    "- 分类误差(Classification Error)"
   ]
  },
  {
   "cell_type": "markdown",
   "metadata": {},
   "source": [
    "- $I _C = 1 - \\overset{m} { \\underset{i=1} {\\text{Max}}} \\  p_i$"
   ]
  },
  {
   "cell_type": "markdown",
   "metadata": {},
   "source": [
    "### 信息增益\n",
    "    - 用来分类阈值"
   ]
  },
  {
   "cell_type": "markdown",
   "metadata": {},
   "source": [
    "### 决策树的数学模型"
   ]
  },
  {
   "cell_type": "markdown",
   "metadata": {},
   "source": [
    "1. 样本总体信息熵 - 分类信息熵\n",
    "    - 按照总体样本中每个类别的样本数来计算信息熵：样本总体信息熵\n",
    "    - $I_H = - p_A log(p_A) - p_B log(p_B) - p_C log(p_C)$"
   ]
  },
  {
   "cell_type": "code",
   "execution_count": 152,
   "metadata": {},
   "outputs": [
    {
     "data": {
      "text/plain": [
       "1.584962500721156"
      ]
     },
     "execution_count": 152,
     "metadata": {},
     "output_type": "execute_result"
    }
   ],
   "source": [
    "import sklearn.datasets as ds\n",
    "import numpy as np\n",
    "\n",
    "# 总体信息熵的计算函数封装\n",
    "def  calcute_total_entropy( train_labels):\n",
    "    \"\"\"\n",
    "    param: train_labels 训练样本的标签数据集\n",
    "    \n",
    "    return: 返回总体信息熵\n",
    "    \"\"\"\n",
    "    # 1. 统计每个类别的样本总数\n",
    "    label_num = {}   # key 种类的索引，value：类别总数\n",
    "    total_num = len(train_labels)   # 总得样本数\n",
    "    \n",
    "    # 统计每个标签值的总数量\n",
    "    for label in  train_labels:\n",
    "        if label not  in label_num:\n",
    "            label_num[label] = 0\n",
    "        label_num[label] += 1\n",
    "    \n",
    "    # print(label_num)    \n",
    "    #  根据统计结果，计算信息熵\n",
    "    entropy = 0.0\n",
    "    for  _, num in  label_num.items():\n",
    "        # 计算概率\n",
    "        p = num / total_num\n",
    "        entropy -= p * np.log2(p)       # 自然对数，采用的是2为底的对数\n",
    "    return entropy\n",
    "    # 2. 计算每个类别占比 = 类别的概率\n",
    "    \n",
    "    # 3. 根据信息熵公式，计算出总体样本信息熵。\n",
    "    \n",
    "data, target = ds.load_iris(return_X_y=True)\n",
    "\n",
    "t_entropy = calcute_total_entropy(target)\n",
    "t_entropy"
   ]
  },
  {
   "cell_type": "code",
   "execution_count": 147,
   "metadata": {},
   "outputs": [
    {
     "data": {
      "text/plain": [
       "array([1.5849625 , 0.        , 1.        , 0.44506486, 0.14609425,\n",
       "       0.        , 0.        , 0.91829583, 0.        , 0.91829583,\n",
       "       0.        , 0.        , 0.15109697, 0.91829583, 0.        ,\n",
       "       0.        , 0.        ])"
      ]
     },
     "execution_count": 147,
     "metadata": {},
     "output_type": "execute_result"
    }
   ],
   "source": [
    "# 训练决策树\n",
    "data, target = ds.load_iris(return_X_y=True)\n",
    "\n",
    "classifier = DecisionTreeClassifier(criterion='entropy')\n",
    "classifier.fit(data, target)    # 训练过程生成决策树\n",
    "classifier.tree_.impurity\n",
    "# help(classifier.tree_)"
   ]
  },
  {
   "cell_type": "code",
   "execution_count": 150,
   "metadata": {},
   "outputs": [
    {
     "data": {
      "text/plain": [
       "0.6666666666666667"
      ]
     },
     "execution_count": 150,
     "metadata": {},
     "output_type": "execute_result"
    }
   ],
   "source": [
    "import sklearn.datasets as ds\n",
    "import numpy as np\n",
    "\n",
    "# 总体信息熵的计算函数封装\n",
    "def  calcute_total_gini( train_labels):\n",
    "    \"\"\"\n",
    "    param: train_labels 训练样本的标签数据集\n",
    "    \n",
    "    return: 返回总体信息熵\n",
    "    \"\"\"\n",
    "    # 1. 统计每个类别的样本总数\n",
    "    label_num = {}   # key 种类的索引，value：类别总数\n",
    "    total_num = len(train_labels)   # 总得样本数\n",
    "    \n",
    "    # 统计每个标签值的总数量\n",
    "    for label in  train_labels:\n",
    "        if label not  in label_num:\n",
    "            label_num[label] = 0\n",
    "        label_num[label] += 1\n",
    "    \n",
    "    # print(label_num)    \n",
    "    #  根据统计结果，计算信息熵\n",
    "    gini = 0.0\n",
    "    for  _, num in  label_num.items():\n",
    "        # 计算概率\n",
    "        p = num / total_num\n",
    "        gini += p * (1.0 - p)        # 基尼指数\n",
    "    return gini\n",
    "    # 2. 计算每个类别占比 = 类别的概率\n",
    "    \n",
    "    # 3. 根据信息熵公式，计算出总体样本信息熵。\n",
    "    \n",
    "data, target = ds.load_iris(return_X_y=True)\n",
    "\n",
    "t_entropy = calcute_total_gini(target)\n",
    "t_entropy"
   ]
  },
  {
   "cell_type": "markdown",
   "metadata": {},
   "source": [
    "2. 特征值信息熵\n",
    "    - 某个特征的信息不同\n",
    "    - 概率的计算的方式b\n",
    "    \n",
    "    - 计算某个特征的某个值的信息熵。"
   ]
  },
  {
   "cell_type": "code",
   "execution_count": 159,
   "metadata": {},
   "outputs": [
    {
     "data": {
      "text/plain": [
       "0.5032583347756457"
      ]
     },
     "execution_count": 159,
     "metadata": {},
     "output_type": "execute_result"
    }
   ],
   "source": [
    "import sklearn.datasets as ds\n",
    "import numpy as np\n",
    "\n",
    "def calcute_value_entropy(train_data,  train_label, index,  value):\n",
    "    #  统计： 值出现的总频次，每个类别中出现的频次\n",
    "    total_num = 0  # 值value出现的总得频次\n",
    "    label_num = {}  # value出现在每个类别中的频次key：类别，value：频次\n",
    "    \n",
    "    # 开始循环统计(对index指定的特征值循环)\n",
    "    idx = 0  # 下标记录器\n",
    "    \n",
    "    for  v  in train_data[:, index]:\n",
    "        # 值出现才处理\n",
    "        if v == value:\n",
    "            total_num += 1\n",
    "            \n",
    "            # 下面分类计数\n",
    "            label = train_label[idx]   # 使用下标取出类别标签0，1，2\n",
    "            if label in  label_num:\n",
    "                label_num[label] += 1\n",
    "            else:\n",
    "                label_num[label] = 1  \n",
    "        idx += 1  # 随着循环，下标计数器需要递增 \n",
    "    \n",
    "    # print(label_num, total_num)\n",
    "    # 计算信息熵\n",
    "    entropy = 0.0\n",
    "    for _, num in label_num.items():\n",
    "        p = num / total_num\n",
    "        entropy -= p * np.log2(p)\n",
    "    \n",
    "    return entropy\n",
    "\n",
    "\n",
    "data,  target = ds.load_iris(return_X_y=True)\n",
    "v_entropy = calcute_value_entropy(data, target, 0,  5.1)  # 计算地哦一个特征中值为5.1的信息熵\n",
    "v_entropy"
   ]
  },
  {
   "cell_type": "markdown",
   "metadata": {},
   "source": [
    "- 某个特征的所有特征值的信息熵"
   ]
  },
  {
   "cell_type": "code",
   "execution_count": 160,
   "metadata": {},
   "outputs": [
    {
     "data": {
      "text/plain": [
       "{4.3: 0.0,\n",
       " 4.4: 0.0,\n",
       " 4.5: 0.0,\n",
       " 4.6: 0.0,\n",
       " 4.7: 0.0,\n",
       " 4.8: 0.0,\n",
       " 4.9: 1.2516291673878228,\n",
       " 5.0: 0.7219280948873623,\n",
       " 5.1: 0.5032583347756457,\n",
       " 5.2: 0.8112781244591328,\n",
       " 5.3: 0.0,\n",
       " 5.4: 0.6500224216483541,\n",
       " 5.5: 0.863120568566631,\n",
       " 5.6: 0.6500224216483541,\n",
       " 5.7: 1.2987949406953985,\n",
       " 5.8: 1.4488156357251847,\n",
       " 5.9: 0.9182958340544896,\n",
       " 6.0: 0.9182958340544896,\n",
       " 6.1: 0.9182958340544896,\n",
       " 6.2: 1.0,\n",
       " 6.3: 0.9182958340544896,\n",
       " 6.4: 0.863120568566631,\n",
       " 6.5: 0.7219280948873623,\n",
       " 6.6: 0.0,\n",
       " 6.7: 0.954434002924965,\n",
       " 6.8: 0.9182958340544896,\n",
       " 6.9: 0.8112781244591328,\n",
       " 7.0: 0.0,\n",
       " 7.1: 0.0,\n",
       " 7.2: 0.0,\n",
       " 7.3: 0.0,\n",
       " 7.4: 0.0,\n",
       " 7.6: 0.0,\n",
       " 7.7: 0.0,\n",
       " 7.9: 0.0}"
      ]
     },
     "execution_count": 160,
     "metadata": {},
     "output_type": "execute_result"
    }
   ],
   "source": [
    "# 某个特征的所有值信息熵\n",
    "def calcute_feature_values_entropy(train_data, train_label, index):\n",
    "    # 定义一个结构存储输出\n",
    "    fvs_entropy = {}  #  key:特征值，value：特征值信息熵\n",
    "    # 对指定特征的数据进行循环\n",
    "    for v in  train_data[:, index]:\n",
    "        # 如果已经计算，就直接下一条数据\n",
    "        if v not in fvs_entropy:   # 不出现，就计算信息熵， 出现则不计算。\n",
    "            entropy = calcute_value_entropy(train_data, train_label, index, v)\n",
    "            fvs_entropy[v] = entropy\n",
    "    return fvs_entropy\n",
    "            \n",
    "    \n",
    "    \n",
    "data,  target = ds.load_iris(return_X_y=True)\n",
    "f_vs_entropy= calcute_feature_values_entropy(data, target, 0)\n",
    "f_vs_entropy"
   ]
  },
  {
   "cell_type": "markdown",
   "metadata": {},
   "source": [
    "3. 条件熵\n",
    "    - 一个特征的所有值得信息熵"
   ]
  },
  {
   "cell_type": "markdown",
   "metadata": {},
   "source": [
    "4. 特征信息增益值"
   ]
  },
  {
   "cell_type": "markdown",
   "metadata": {},
   "source": [
    "5. 计算分类的阈值"
   ]
  },
  {
   "cell_type": "markdown",
   "metadata": {},
   "source": [
    "- 选择特征\n",
    "    - 计算信息增益值\n",
    "        - 特征的信息熵计算\n",
    "            - 特征的某个值得信息熵\n",
    "        - 样本总体信息熵\n",
    "        \n",
    "- 不纯度\n",
    "    - 基尼计数\n",
    "    - 分类误差\n",
    "    - 熵            "
   ]
  },
  {
   "cell_type": "markdown",
   "metadata": {},
   "source": [
    "# 决策树总结"
   ]
  },
  {
   "cell_type": "markdown",
   "metadata": {},
   "source": [
    "## 总体的思路\n",
    "\n",
    "-  样本多个特征找到一个重要分类特征。\n",
    "    - 选择特征的标准值\n",
    "        - 特征值的信息熵    ：5.1在A类，B类，C类中的占比\n",
    "        - 特征的信息熵：5.1出现次数30， 150，占比：30/150=p_5.1  * 特征值的信息熵\n",
    "           - 信息增益比：   总体样本信息熵 - 特征信息熵：特征选择\n",
    "- 按照特征进行分类\n",
    "    - 分类阈值\n",
    "        - 按照信息增益比来分类：\n",
    "            - 多叉树\n",
    "                - 每个特征值分成类\n",
    "                    - 信息增益比非0，继续分类\n",
    "    \n",
    "    \n",
    "- 上面两个操作是相互关联\n",
    "\n",
    "- 信息熵\n",
    "    - 均衡度\n",
    "- 基尼指数\n",
    "\n",
    "- 分类误差（使用比较少）"
   ]
  },
  {
   "cell_type": "code",
   "execution_count": 2,
   "metadata": {},
   "outputs": [
    {
     "data": {
      "text/plain": [
       "array([[5.1, 3.5, 1.4, 0.2],\n",
       "       [4.9, 3. , 1.4, 0.2],\n",
       "       [4.7, 3.2, 1.3, 0.2],\n",
       "       [4.6, 3.1, 1.5, 0.2],\n",
       "       [5. , 3.6, 1.4, 0.2],\n",
       "       [5.4, 3.9, 1.7, 0.4],\n",
       "       [4.6, 3.4, 1.4, 0.3],\n",
       "       [5. , 3.4, 1.5, 0.2],\n",
       "       [4.4, 2.9, 1.4, 0.2],\n",
       "       [4.9, 3.1, 1.5, 0.1],\n",
       "       [5.4, 3.7, 1.5, 0.2],\n",
       "       [4.8, 3.4, 1.6, 0.2],\n",
       "       [4.8, 3. , 1.4, 0.1],\n",
       "       [4.3, 3. , 1.1, 0.1],\n",
       "       [5.8, 4. , 1.2, 0.2],\n",
       "       [5.7, 4.4, 1.5, 0.4],\n",
       "       [5.4, 3.9, 1.3, 0.4],\n",
       "       [5.1, 3.5, 1.4, 0.3],\n",
       "       [5.7, 3.8, 1.7, 0.3],\n",
       "       [5.1, 3.8, 1.5, 0.3],\n",
       "       [5.4, 3.4, 1.7, 0.2],\n",
       "       [5.1, 3.7, 1.5, 0.4],\n",
       "       [4.6, 3.6, 1. , 0.2],\n",
       "       [5.1, 3.3, 1.7, 0.5],\n",
       "       [4.8, 3.4, 1.9, 0.2],\n",
       "       [5. , 3. , 1.6, 0.2],\n",
       "       [5. , 3.4, 1.6, 0.4],\n",
       "       [5.2, 3.5, 1.5, 0.2],\n",
       "       [5.2, 3.4, 1.4, 0.2],\n",
       "       [4.7, 3.2, 1.6, 0.2],\n",
       "       [4.8, 3.1, 1.6, 0.2],\n",
       "       [5.4, 3.4, 1.5, 0.4],\n",
       "       [5.2, 4.1, 1.5, 0.1],\n",
       "       [5.5, 4.2, 1.4, 0.2],\n",
       "       [4.9, 3.1, 1.5, 0.1],\n",
       "       [5. , 3.2, 1.2, 0.2],\n",
       "       [5.5, 3.5, 1.3, 0.2],\n",
       "       [4.9, 3.1, 1.5, 0.1],\n",
       "       [4.4, 3. , 1.3, 0.2],\n",
       "       [5.1, 3.4, 1.5, 0.2],\n",
       "       [5. , 3.5, 1.3, 0.3],\n",
       "       [4.5, 2.3, 1.3, 0.3],\n",
       "       [4.4, 3.2, 1.3, 0.2],\n",
       "       [5. , 3.5, 1.6, 0.6],\n",
       "       [5.1, 3.8, 1.9, 0.4],\n",
       "       [4.8, 3. , 1.4, 0.3],\n",
       "       [5.1, 3.8, 1.6, 0.2],\n",
       "       [4.6, 3.2, 1.4, 0.2],\n",
       "       [5.3, 3.7, 1.5, 0.2],\n",
       "       [5. , 3.3, 1.4, 0.2],\n",
       "       [7. , 3.2, 4.7, 1.4],\n",
       "       [6.4, 3.2, 4.5, 1.5],\n",
       "       [6.9, 3.1, 4.9, 1.5],\n",
       "       [5.5, 2.3, 4. , 1.3],\n",
       "       [6.5, 2.8, 4.6, 1.5],\n",
       "       [5.7, 2.8, 4.5, 1.3],\n",
       "       [6.3, 3.3, 4.7, 1.6],\n",
       "       [4.9, 2.4, 3.3, 1. ],\n",
       "       [6.6, 2.9, 4.6, 1.3],\n",
       "       [5.2, 2.7, 3.9, 1.4],\n",
       "       [5. , 2. , 3.5, 1. ],\n",
       "       [5.9, 3. , 4.2, 1.5],\n",
       "       [6. , 2.2, 4. , 1. ],\n",
       "       [6.1, 2.9, 4.7, 1.4],\n",
       "       [5.6, 2.9, 3.6, 1.3],\n",
       "       [6.7, 3.1, 4.4, 1.4],\n",
       "       [5.6, 3. , 4.5, 1.5],\n",
       "       [5.8, 2.7, 4.1, 1. ],\n",
       "       [6.2, 2.2, 4.5, 1.5],\n",
       "       [5.6, 2.5, 3.9, 1.1],\n",
       "       [5.9, 3.2, 4.8, 1.8],\n",
       "       [6.1, 2.8, 4. , 1.3],\n",
       "       [6.3, 2.5, 4.9, 1.5],\n",
       "       [6.1, 2.8, 4.7, 1.2],\n",
       "       [6.4, 2.9, 4.3, 1.3],\n",
       "       [6.6, 3. , 4.4, 1.4],\n",
       "       [6.8, 2.8, 4.8, 1.4],\n",
       "       [6.7, 3. , 5. , 1.7],\n",
       "       [6. , 2.9, 4.5, 1.5],\n",
       "       [5.7, 2.6, 3.5, 1. ],\n",
       "       [5.5, 2.4, 3.8, 1.1],\n",
       "       [5.5, 2.4, 3.7, 1. ],\n",
       "       [5.8, 2.7, 3.9, 1.2],\n",
       "       [6. , 2.7, 5.1, 1.6],\n",
       "       [5.4, 3. , 4.5, 1.5],\n",
       "       [6. , 3.4, 4.5, 1.6],\n",
       "       [6.7, 3.1, 4.7, 1.5],\n",
       "       [6.3, 2.3, 4.4, 1.3],\n",
       "       [5.6, 3. , 4.1, 1.3],\n",
       "       [5.5, 2.5, 4. , 1.3],\n",
       "       [5.5, 2.6, 4.4, 1.2],\n",
       "       [6.1, 3. , 4.6, 1.4],\n",
       "       [5.8, 2.6, 4. , 1.2],\n",
       "       [5. , 2.3, 3.3, 1. ],\n",
       "       [5.6, 2.7, 4.2, 1.3],\n",
       "       [5.7, 3. , 4.2, 1.2],\n",
       "       [5.7, 2.9, 4.2, 1.3],\n",
       "       [6.2, 2.9, 4.3, 1.3],\n",
       "       [5.1, 2.5, 3. , 1.1],\n",
       "       [5.7, 2.8, 4.1, 1.3],\n",
       "       [6.3, 3.3, 6. , 2.5],\n",
       "       [5.8, 2.7, 5.1, 1.9],\n",
       "       [7.1, 3. , 5.9, 2.1],\n",
       "       [6.3, 2.9, 5.6, 1.8],\n",
       "       [6.5, 3. , 5.8, 2.2],\n",
       "       [7.6, 3. , 6.6, 2.1],\n",
       "       [4.9, 2.5, 4.5, 1.7],\n",
       "       [7.3, 2.9, 6.3, 1.8],\n",
       "       [6.7, 2.5, 5.8, 1.8],\n",
       "       [7.2, 3.6, 6.1, 2.5],\n",
       "       [6.5, 3.2, 5.1, 2. ],\n",
       "       [6.4, 2.7, 5.3, 1.9],\n",
       "       [6.8, 3. , 5.5, 2.1],\n",
       "       [5.7, 2.5, 5. , 2. ],\n",
       "       [5.8, 2.8, 5.1, 2.4],\n",
       "       [6.4, 3.2, 5.3, 2.3],\n",
       "       [6.5, 3. , 5.5, 1.8],\n",
       "       [7.7, 3.8, 6.7, 2.2],\n",
       "       [7.7, 2.6, 6.9, 2.3],\n",
       "       [6. , 2.2, 5. , 1.5],\n",
       "       [6.9, 3.2, 5.7, 2.3],\n",
       "       [5.6, 2.8, 4.9, 2. ],\n",
       "       [7.7, 2.8, 6.7, 2. ],\n",
       "       [6.3, 2.7, 4.9, 1.8],\n",
       "       [6.7, 3.3, 5.7, 2.1],\n",
       "       [7.2, 3.2, 6. , 1.8],\n",
       "       [6.2, 2.8, 4.8, 1.8],\n",
       "       [6.1, 3. , 4.9, 1.8],\n",
       "       [6.4, 2.8, 5.6, 2.1],\n",
       "       [7.2, 3. , 5.8, 1.6],\n",
       "       [7.4, 2.8, 6.1, 1.9],\n",
       "       [7.9, 3.8, 6.4, 2. ],\n",
       "       [6.4, 2.8, 5.6, 2.2],\n",
       "       [6.3, 2.8, 5.1, 1.5],\n",
       "       [6.1, 2.6, 5.6, 1.4],\n",
       "       [7.7, 3. , 6.1, 2.3],\n",
       "       [6.3, 3.4, 5.6, 2.4],\n",
       "       [6.4, 3.1, 5.5, 1.8],\n",
       "       [6. , 3. , 4.8, 1.8],\n",
       "       [6.9, 3.1, 5.4, 2.1],\n",
       "       [6.7, 3.1, 5.6, 2.4],\n",
       "       [6.9, 3.1, 5.1, 2.3],\n",
       "       [5.8, 2.7, 5.1, 1.9],\n",
       "       [6.8, 3.2, 5.9, 2.3],\n",
       "       [6.7, 3.3, 5.7, 2.5],\n",
       "       [6.7, 3. , 5.2, 2.3],\n",
       "       [6.3, 2.5, 5. , 1.9],\n",
       "       [6.5, 3. , 5.2, 2. ],\n",
       "       [6.2, 3.4, 5.4, 2.3],\n",
       "       [5.9, 3. , 5.1, 1.8]])"
      ]
     },
     "execution_count": 2,
     "metadata": {},
     "output_type": "execute_result"
    }
   ],
   "source": [
    "import sklearn.datasets as ds\n",
    "\n",
    "data,target = ds.load_iris(return_X_y=True)\n",
    "data"
   ]
  },
  {
   "cell_type": "markdown",
   "metadata": {},
   "source": [
    "## 算法"
   ]
  },
  {
   "cell_type": "markdown",
   "metadata": {},
   "source": [
    "- ID3算法\n",
    "    - 选择特征的算法：\n",
    "        - 特征信息熵：根据多个特征的信息熵，选择具有最大特征信息熵的特征作为分类特征。\n",
    "        - 计算公式：$I =  \\sum p_i  H_i$，其中的$i$是每一个特征值。$H_i$就是谬个特征值信息熵，$p_i$是特征值的占比（近似概率）\n",
    "    - 分类阈值\n",
    "        - 信息增益比\n",
    "        - 公式：$I =  I_T  - I_F$\n",
    "- C4.5算法\n",
    "- CART算法"
   ]
  },
  {
   "cell_type": "markdown",
   "metadata": {},
   "source": [
    "## 决策的实现"
   ]
  },
  {
   "cell_type": "markdown",
   "metadata": {},
   "source": [
    "### 算法"
   ]
  },
  {
   "cell_type": "markdown",
   "metadata": {},
   "source": [
    "- 理解纯度与信息熵"
   ]
  },
  {
   "cell_type": "code",
   "execution_count": 6,
   "metadata": {},
   "outputs": [
    {
     "name": "stdout",
     "output_type": "stream",
     "text": [
      "[1.5849625  0.         1.         0.44506486 0.14609425 0.\n",
      " 0.         0.91829583 0.         0.91829583 0.         0.\n",
      " 0.15109697 0.91829583 0.         0.         0.        ]\n",
      "17\n"
     ]
    }
   ],
   "source": [
    "#  鸢尾花，观察sklearn决策树产生的树 \n",
    "import sklearn.datasets as ds\n",
    "import numpy as np\n",
    "from sklearn.tree import DecisionTreeClassifier\n",
    "\n",
    "# 创建决策树模型\n",
    "classifier  =  DecisionTreeClassifier(criterion='entropy')\n",
    "# 加载数据，训练\n",
    "data, target = ds.load_iris(return_X_y=True)\n",
    "classifier.fit(data, target)\n",
    "\n",
    "# 观察训练产生的二叉树\n",
    "tree = classifier.tree_\n",
    "print(tree.impurity)\n",
    "print(len(tree.impurity))"
   ]
  },
  {
   "cell_type": "code",
   "execution_count": 7,
   "metadata": {},
   "outputs": [],
   "source": [
    "# help(tree)"
   ]
  },
  {
   "cell_type": "code",
   "execution_count": 8,
   "metadata": {},
   "outputs": [
    {
     "data": {
      "text/plain": [
       "1.584962500721156"
      ]
     },
     "execution_count": 8,
     "metadata": {},
     "output_type": "execute_result"
    }
   ],
   "source": [
    "import sklearn.datasets as ds\n",
    "import numpy as np\n",
    "\n",
    "# 总体信息熵的计算函数封装\n",
    "def  calcute_total_entropy( train_labels):\n",
    "    \"\"\"\n",
    "    param: train_labels 训练样本的标签数据集\n",
    "    \n",
    "    return: 返回总体信息熵\n",
    "    \"\"\"\n",
    "    # 1. 统计每个类别的样本总数\n",
    "    label_num = {}   # key 种类的索引，value：类别总数\n",
    "    total_num = len(train_labels)   # 总得样本数\n",
    "    \n",
    "    # 统计每个标签值的总数量\n",
    "    for label in  train_labels:\n",
    "        if label not  in label_num:\n",
    "            label_num[label] = 0\n",
    "        label_num[label] += 1\n",
    "    \n",
    "    # print(label_num)    \n",
    "    #  根据统计结果，计算信息熵\n",
    "    entropy = 0.0\n",
    "    for  _, num in  label_num.items():\n",
    "        # 计算概率\n",
    "        p = num / total_num\n",
    "        entropy -= p * np.log2(p)       # 自然对数，采用的是2为底的对数\n",
    "    return entropy\n",
    "    # 2. 计算每个类别占比 = 类别的概率\n",
    "    \n",
    "    # 3. 根据信息熵公式，计算出总体样本信息熵。\n",
    "\n",
    "# 计算不纯度 = 信息熵\n",
    "data, target = ds.load_iris(return_X_y=True)\n",
    "\n",
    "t_entropy = calcute_total_entropy(target)\n",
    "t_entropy\n",
    "\n",
    "\n",
    "\n",
    "\n"
   ]
  },
  {
   "cell_type": "code",
   "execution_count": 31,
   "metadata": {},
   "outputs": [
    {
     "name": "stdout",
     "output_type": "stream",
     "text": [
      "2.1626441180472606\n"
     ]
    },
    {
     "data": {
      "text/plain": [
       "0.0"
      ]
     },
     "execution_count": 31,
     "metadata": {},
     "output_type": "execute_result"
    }
   ],
   "source": [
    "# 信息熵的公式\n",
    "nums = np.array([60, 60, 60, 20, 20])    # 不纯度，度量的是分类的均衡度\n",
    "t = nums.sum()\n",
    "e = 0\n",
    "for n in nums:\n",
    "    if  n != 0:\n",
    "        p = n / t\n",
    "        e -= p * np.log2(p)\n",
    "    \n",
    "print(e)\n",
    "\n",
    "1.0 * np.log2(1.0)\n",
    "\n",
    "# 分类来说：信息熵越大，越均衡，约不可分，这个特征不是我们的选择"
   ]
  },
  {
   "cell_type": "markdown",
   "metadata": {},
   "source": [
    "- 样本总体信息熵\n",
    "    - 假设样本总数是$N$，类别有$m$个，每个类别的样本数$N_1, N_2, \\dots, N_m$，存在如下关系$N= \\sum \\limits _{i=1} ^ m N_i$\n",
    "    - $I_T = \\sum \\limits _{i=1} ^ m  \\dfrac{N_i}{N} \\  log (\\dfrac{N_i}{N})$\n",
    "    \n",
    "    - 如果使用概率的形式：$I_T = \\sum \\limits _{i=1} ^ m  p_i \\  log (p_i)$"
   ]
  },
  {
   "cell_type": "markdown",
   "metadata": {},
   "source": [
    "- 能否计算每个特征的信息熵(所有特征值的信息熵的和【加权的（出现的频率）】)\n",
    "    - **特征值**信息熵\n",
    "    - **特征**信息熵"
   ]
  },
  {
   "cell_type": "markdown",
   "metadata": {},
   "source": [
    "- 特征值信息熵\n",
    "    - 假设特征值$v$，特征值可能重复,总的数量是$N$，重复特征值也属于多个类别，类别数假设是$m$, 且假设每个类别数量$N_1,N_2,\\dots, N_m$\n",
    "    - 计算特征值的信息熵的公式：$I_V = \\sum \\limits _{i=1} ^ m  \\dfrac{N_i}{N} \\  log (\\dfrac{N_i}{N})$"
   ]
  },
  {
   "cell_type": "code",
   "execution_count": 35,
   "metadata": {},
   "outputs": [
    {
     "data": {
      "text/plain": [
       "0.5032583347756457"
      ]
     },
     "execution_count": 35,
     "metadata": {},
     "output_type": "execute_result"
    }
   ],
   "source": [
    "import sklearn.datasets as ds\n",
    "import numpy as np\n",
    "\n",
    "def calcute_value_entropy(train_data,  train_label, index,  value):\n",
    "    #  统计： 值出现的总频次，每个类别中出现的频次\n",
    "    total_num = 0  # 值value出现的总得频次\n",
    "    label_num = {}  # value出现在每个类别中的频次key：类别，value：频次\n",
    "    \n",
    "    # 开始循环统计(对index指定的特征值循环)\n",
    "    idx = 0  # 下标记录器\n",
    "    \n",
    "    for  v  in train_data[:, index]:\n",
    "        # 值出现才处理\n",
    "        if v == value:\n",
    "            total_num += 1\n",
    "            \n",
    "            # 下面分类计数\n",
    "            label = train_label[idx]   # 使用下标取出类别标签0，1，2\n",
    "            if label in  label_num:\n",
    "                label_num[label] += 1\n",
    "            else:\n",
    "                label_num[label] = 1  \n",
    "        idx += 1  # 随着循环，下标计数器需要递增 \n",
    "    \n",
    "#     print(label_num, total_num)\n",
    "    # 计算信息熵\n",
    "    entropy = 0.0\n",
    "    for _, num in label_num.items():\n",
    "        p = num / total_num\n",
    "        entropy -= p * np.log2(p)\n",
    "    \n",
    "    return entropy\n",
    "\n",
    "\n",
    "data,  target = ds.load_iris(return_X_y=True)\n",
    "v_entropy = calcute_value_entropy(data, target, 0,  5.1)  # 计算地哦一个特征中值为5.1的信息熵\n",
    "v_entropy"
   ]
  },
  {
   "cell_type": "code",
   "execution_count": 33,
   "metadata": {},
   "outputs": [
    {
     "name": "stdout",
     "output_type": "stream",
     "text": [
      "0.5032583347756457\n"
     ]
    },
    {
     "data": {
      "text/plain": [
       "0.0"
      ]
     },
     "execution_count": 33,
     "metadata": {},
     "output_type": "execute_result"
    }
   ],
   "source": [
    "# 信息熵的公式\n",
    "nums = np.array([8, 1])    # 不纯度，度量的是分类的均衡度\n",
    "t = nums.sum()\n",
    "e = 0\n",
    "for n in nums:\n",
    "    if  n != 0:\n",
    "        p = n / t\n",
    "        e -= p * np.log2(p)\n",
    "    \n",
    "print(e)\n",
    "\n",
    "1.0 * np.log2(1.0)\n",
    "\n",
    "# 分类来说：信息熵越大，越均衡，约不可分，这个特征不是我们的选择"
   ]
  },
  {
   "cell_type": "markdown",
   "metadata": {},
   "source": [
    "- 特征信息熵\n",
    "    - 假设某个特征，它的值有$[ v_1, v_2, \\dots, v_k ]$\n",
    "    - 假设每个值出现的次数$[N_1, N_2,\\dots, N_k]$, 总得次数$\\sum \\limits _{i=1} ^ k N_i = N$,$N$就是样本总数。\n",
    "    - 假设每个值得信息熵$[I_{v_1}, I_{v_2},\\dots, I_{v_k}]$"
   ]
  },
  {
   "cell_type": "markdown",
   "metadata": {},
   "source": [
    "- 特征的信息熵计算公式\n",
    "    - $I_F = \\dfrac{N_1}{N}  I_{v_1} + \\dfrac{N_2}{N} I_{v_2} + \\dots +  \\dfrac{N_k}{N} I_{v_k}$\n",
    "    - $I_F = \\sum \\limits _{i=1} ^k  \\dfrac{N_i}{N} I_{v_i}$\n",
    "    - $I_F = p_1  I_{v_1} + p_2 I_{v_2} + \\dots +  p_k I_{v_k}$\n",
    "    - $I_F = \\sum \\limits _{i=1} ^ k p_i  I_{v_i} $"
   ]
  },
  {
   "cell_type": "code",
   "execution_count": 36,
   "metadata": {
    "scrolled": true
   },
   "outputs": [
    {
     "data": {
      "text/plain": [
       "{4.3: 0.0,\n",
       " 4.4: 0.0,\n",
       " 4.5: 0.0,\n",
       " 4.6: 0.0,\n",
       " 4.7: 0.0,\n",
       " 4.8: 0.0,\n",
       " 4.9: 1.2516291673878228,\n",
       " 5.0: 0.7219280948873623,\n",
       " 5.1: 0.5032583347756457,\n",
       " 5.2: 0.8112781244591328,\n",
       " 5.3: 0.0,\n",
       " 5.4: 0.6500224216483541,\n",
       " 5.5: 0.863120568566631,\n",
       " 5.6: 0.6500224216483541,\n",
       " 5.7: 1.2987949406953985,\n",
       " 5.8: 1.4488156357251847,\n",
       " 5.9: 0.9182958340544896,\n",
       " 6.0: 0.9182958340544896,\n",
       " 6.1: 0.9182958340544896,\n",
       " 6.2: 1.0,\n",
       " 6.3: 0.9182958340544896,\n",
       " 6.4: 0.863120568566631,\n",
       " 6.5: 0.7219280948873623,\n",
       " 6.6: 0.0,\n",
       " 6.7: 0.954434002924965,\n",
       " 6.8: 0.9182958340544896,\n",
       " 6.9: 0.8112781244591328,\n",
       " 7.0: 0.0,\n",
       " 7.1: 0.0,\n",
       " 7.2: 0.0,\n",
       " 7.3: 0.0,\n",
       " 7.4: 0.0,\n",
       " 7.6: 0.0,\n",
       " 7.7: 0.0,\n",
       " 7.9: 0.0}"
      ]
     },
     "execution_count": 36,
     "metadata": {},
     "output_type": "execute_result"
    }
   ],
   "source": [
    "# 计算每个值得信息熵，就可以计算出特征的信息熵\n",
    "# 某个特征的所有值信息熵\n",
    "def calcute_feature_values_entropy(train_data, train_label, index):\n",
    "    # 定义一个结构存储输出\n",
    "    fvs_entropy = {}  #  key:特征值，value：特征值信息熵\n",
    "    # 对指定特征的数据进行循环\n",
    "    for v in  train_data[:, index]:\n",
    "        # 如果已经计算，就直接下一条数据\n",
    "        if v not in fvs_entropy:   # 不出现，就计算信息熵， 出现则不计算。\n",
    "            entropy = calcute_value_entropy(train_data, train_label, index, v)\n",
    "            fvs_entropy[v] = entropy\n",
    "    return fvs_entropy\n",
    "            \n",
    "    \n",
    "    \n",
    "data,  target = ds.load_iris(return_X_y=True)\n",
    "f_vs_entropy= calcute_feature_values_entropy(data, target, 0)\n",
    "f_vs_entropy"
   ]
  },
  {
   "cell_type": "markdown",
   "metadata": {},
   "source": [
    "- 特征的信息熵"
   ]
  },
  {
   "cell_type": "code",
   "execution_count": 45,
   "metadata": {},
   "outputs": [
    {
     "data": {
      "text/plain": [
       "[0.8769376208910578, 0.5108699641236061, 1.4463165236458, 1.4358978386754417]"
      ]
     },
     "execution_count": 45,
     "metadata": {},
     "output_type": "execute_result"
    }
   ],
   "source": [
    "# 计算特征信息熵\n",
    "\n",
    "def calculate_feature_entropy(data_, target_, index):\n",
    "    # 1. 计算出所有特征值的信息熵，只是利用上面的结果\n",
    "    f_vs_entropy= calcute_feature_values_entropy(data_, target_, index)\n",
    "    # 2. 根据每个值，统计出现的次数\n",
    "    total_num = len(target_)\n",
    "    entropy_ = 0.0\n",
    "    for  v_, e_ in f_vs_entropy.items():\n",
    "        # 统计v_出现的次数\n",
    "        v_num = (data[:, index] == v_).sum()\n",
    "        p = v_num / total_num\n",
    "        entropy_ +=  p * e_\n",
    "    return entropy_\n",
    "\n",
    "        \n",
    "def calcute_gain_entropy(data_, target_, index):\n",
    "    f_e = calculate_feature_entropy(data_, target_, index)\n",
    "    t_entropy = calcute_total_entropy(target)\n",
    "    return t_entropy - f_e   # 特征增益\n",
    "\n",
    "\n",
    "data,  target = ds.load_iris(return_X_y=True)\n",
    "all_gain = []\n",
    "for i in range(4):\n",
    "    all_gain.append(calcute_gain_entropy(data, target, i))\n",
    "all_gain"
   ]
  },
  {
   "cell_type": "markdown",
   "metadata": {},
   "source": [
    "- 特征的信息增益值\n",
    "    - $I_ R =  I_T - I _F$\n",
    "    - 选择最大增益值"
   ]
  },
  {
   "cell_type": "markdown",
   "metadata": {},
   "source": [
    "- ID3的算法：\n",
    "    1. 假设样本集$X$，类别数m类。\n",
    "    2. 计算所有特征的信息熵（信息增益值），\n",
    "    3. 根据信息熵（信息增益值）选择决策树的分类（分叉）特征，如果是特征信息熵，则选在最小信息熵的特征，如果是增益值，选择最大。\n",
    "    4. 对分类特征的所有特征值，按照特征值的个数（假设是k个）进行分叉，形成k个子节点数据集（k类数据集），每一个值有一个信息熵。\n",
    "    5. 开始对k个节点的数据集分别重复2的步骤，器重复条件，其对应值得信息熵不等于0。\n",
    "        - 当节点的样本集数量，小于某个数的时候，分叉就会失去意义，可以设置节点的分叉的最小数量。"
   ]
  },
  {
   "cell_type": "markdown",
   "metadata": {},
   "source": [
    "- ID3算法存在局限性\n",
    "    - 如果有一个待分类样本$(x_0, x_1,x_2,x_3)$，在已经训练出一个决策树的条件，进行分类判别：\n",
    "        - 已知决策树第一层，是特征3，使用待分类样本的特征的值$x_2$，匹配每个子节点。匹配成功，决策成功。如果匹配不成功，就无法分类。\n",
    "        - 问题的本质：\n",
    "            - 算法是连续（子节点分叉，理论上是无穷），实际上真实数据是离散的。\n",
    "        - 改进ID3，就必须离散化。\n",
    "            - 离散化：二分方式：形成二叉树。"
   ]
  },
  {
   "cell_type": "markdown",
   "metadata": {},
   "source": [
    "## C4.5"
   ]
  },
  {
   "cell_type": "markdown",
   "metadata": {},
   "source": [
    "- 分裂信息熵（特征）\n",
    "    - 特征分裂信息熵\n",
    "\n",
    "    - 注意：对应名词：特征信息熵\n",
    "        - 特征信息熵：$I _ F = \\sum p_i  I _{v_i} $\n",
    "        - 分裂信息熵：$I _ CF = \\sum  p_i log(p_i)$"
   ]
  },
  {
   "cell_type": "markdown",
   "metadata": {},
   "source": [
    "- 信息增益比\n",
    "    - 信息增益比就是信息增益值与分裂信息熵的比值：    $IR_{X}=\\dfrac{I_G(X)} {I_S(X)} = \\dfrac{I_C - I_F(X) }{I_S(X)}$        \n"
   ]
  },
  {
   "cell_type": "markdown",
   "metadata": {},
   "source": [
    "- 使用增益比选择分类特征"
   ]
  },
  {
   "cell_type": "markdown",
   "metadata": {},
   "source": [
    "- 分类增益值\n",
    "    - 某个特征的值分成两个部分$A, B$， 计算出$A，B$样本集的特征信息熵,，并计算出增益值；\n",
    "    - 分类增益值$I _R = \\dfrac{N_A}{N} I_{G_A} +  \\dfrac{N_B}{N} I_{G_B}$"
   ]
  },
  {
   "cell_type": "markdown",
   "metadata": {},
   "source": [
    "- 离散化\n",
    "    - 特征的特征值排序（升序），不同特征值的个数是N\n",
    "    - 特征值两两取均值，得到N-1平均值，\n",
    "    - 使用平均值作为阈值，把样本分成2类A，B\n",
    "    - 计算AB两类的分类增益值\n",
    "    - 选择最大的作为最终特征的分类阈值。\n",
    "    "
   ]
  },
  {
   "cell_type": "markdown",
   "metadata": {},
   "source": [
    "- 算法步骤\n",
    "    - 选择特征\n",
    "        - 特征的信息增益比\n",
    "            - 计算所以特征的信息增益值\n",
    "                - 计算某个特征的信息增益值\n",
    "                    1. 计算特征信息熵\n",
    "                        - 计算特征值的信息熵\n",
    "                    2. 计算样本的总体信息熵\n",
    "\n",
    "            - 计算所有特征的分裂信息熵\n",
    "                - 计算某个特征的分离信息熵\n",
    "                \n",
    "        - 结果：\n",
    "            - 使用最大的信息增益比作为特征选择的标准。\n",
    "        \n",
    "    - 计算阈值（争对某个特征）\n",
    "        - 离散化处理过程\n",
    "            - 特征的特征值排序（升序），不同特征值的个数是N\n",
    "            - 特征值两两取均值，得到N-1平均值，\n",
    "            - 使用平均值作为阈值，把样本分成2类A，B\n",
    "            - 计算AB两类的分类增益值\n",
    "            - 选择最大的作为最终特征的分类阈值。"
   ]
  },
  {
   "cell_type": "markdown",
   "metadata": {},
   "source": [
    "- CART\n",
    "    - 在C4.5算法基础上，采用基尼指数代替信息熵。"
   ]
  },
  {
   "cell_type": "markdown",
   "metadata": {},
   "source": [
    "### 代码"
   ]
  },
  {
   "cell_type": "markdown",
   "metadata": {},
   "source": [
    "- 作业：\n",
    "    - 阅读"
   ]
  },
  {
   "cell_type": "markdown",
   "metadata": {},
   "source": [
    "# Matplotlib Web可视化"
   ]
  },
  {
   "cell_type": "markdown",
   "metadata": {},
   "source": [
    "- 创建一个Django项目"
   ]
  },
  {
   "cell_type": "markdown",
   "metadata": {},
   "source": [
    "- 配置运行环境\n",
    "    - runserver   ip:port  \n",
    "    - 启动web服务\n",
    "    "
   ]
  },
  {
   "cell_type": "markdown",
   "metadata": {},
   "source": [
    "- 配置前端资源路径\n",
    "    - 创建目录\n",
    "    - 配置\n",
    "        - url\n",
    "        - 资源存放目录"
   ]
  },
  {
   "cell_type": "markdown",
   "metadata": {},
   "source": [
    "- 配置后端资源配置\n",
    "    - 代码代码开发\n",
    "    - urls配置"
   ]
  },
  {
   "cell_type": "markdown",
   "metadata": {},
   "source": [
    "- 在前端调用后端\n",
    "    - matplotlib产生图像。"
   ]
  }
 ],
 "metadata": {
  "kernelspec": {
   "display_name": "Python 3",
   "language": "python",
   "name": "python3"
  },
  "language_info": {
   "codemirror_mode": {
    "name": "ipython",
    "version": 3
   },
   "file_extension": ".py",
   "mimetype": "text/x-python",
   "name": "python",
   "nbconvert_exporter": "python",
   "pygments_lexer": "ipython3",
   "version": "3.6.6"
  },
  "toc": {
   "base_numbering": 1,
   "nav_menu": {},
   "number_sections": true,
   "sideBar": true,
   "skip_h1_title": false,
   "title_cell": "Table of Contents",
   "title_sidebar": "Contents",
   "toc_cell": false,
   "toc_position": {},
   "toc_section_display": true,
   "toc_window_display": false
  }
 },
 "nbformat": 4,
 "nbformat_minor": 2
}
