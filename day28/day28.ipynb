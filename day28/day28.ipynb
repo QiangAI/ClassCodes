{
 "cells": [
  {
   "cell_type": "markdown",
   "metadata": {},
   "source": [
    "# 算法回顾"
   ]
  },
  {
   "cell_type": "markdown",
   "metadata": {},
   "source": [
    "## 监督学习算法"
   ]
  },
  {
   "cell_type": "markdown",
   "metadata": {},
   "source": [
    "1. 线性回归\n",
    "    - （MSE）-求值算法\n",
    "    - Ridge回归\n",
    "    - LASSO回归\n",
    "    - 局部加权回归\n",
    "    - L1，L2正则化\n",
    "2. 逻辑回归（分类）\n",
    "    - 梯度下降\n",
    "3. SVM\n",
    "    - （SMO算法）求值算法\n",
    "6. 决策树\n",
    "    - ID3\n",
    "    - C4.5\n",
    "    - CART\n",
    "7. K-NN近邻算法\n",
    "8. 集成学习算法\n",
    "    - Bagging算法\n",
    "        - 随机森林算法\n",
    "    - Boosting算法\n",
    "        - Adaboosting算法\n",
    "        - GradientBoosting算法\n",
    "            - XGBoost算法\n",
    "    - Stacking算法\n",
    "    \n",
    "9. 贝叶斯分类算法\n",
    "    - 实战\n",
    "\n",
    "11. 神经网络（学习：AI：NN）\n",
    "    - 感知器\n",
    "    - 前馈神经网络FCNN\n",
    "    - 卷积神经网络CNN\n",
    "    - 循环神经网络RNN\n",
    "    - 递归神经网络RNN\n",
    "        - 长短时记忆网络\n",
    "    - ......"
   ]
  },
  {
   "cell_type": "markdown",
   "metadata": {},
   "source": [
    "## 无监督学习算法\n",
    "4. 聚类算法：\n",
    "    - K-均值算法\n",
    "5. 降维与特征选择算法\n",
    "    - PCA降维算法\n",
    "\n",
    "10. 关联规则分析\n",
    "    - Aprioir算法\n",
    "        - 实战"
   ]
  },
  {
   "cell_type": "markdown",
   "metadata": {},
   "source": [
    "## 其他算法\n",
    "\n",
    "- 半监督学习算法\n",
    "- 强化学习算法\n",
    "    - 这几年比较潮流。"
   ]
  },
  {
   "cell_type": "markdown",
   "metadata": {},
   "source": [
    "# 关联规则分析算法\n",
    "\n",
    "- 场景\n",
    "    - 商品推荐\n",
    "        - 购买的商品->关联的商品"
   ]
  },
  {
   "cell_type": "markdown",
   "metadata": {},
   "source": [
    "## 算法的思路与数据基础"
   ]
  },
  {
   "cell_type": "markdown",
   "metadata": {},
   "source": [
    "- 名词；\n",
    "    - 概率：概率：先验概率（边缘概率），后验概率，条件概率，似然概率，\n",
    "    - 项\n",
    "    - 项集\n",
    "    - 频繁项集：\n",
    "        - 度量：支持度（先验概率，边缘概率）\n",
    "            - $P(X) = \\dfrac{项集出现的次数}{总的样本数}$\n",
    "        - 支持度划分频繁与非频繁：支持度阈值（用户根据场景指定）：相对度量\n",
    "        \n",
    "    - 关联规则\n",
    "        - 度量：置信度：条件概率（似然概率）\n",
    "            - $P(X | Y) =  \\dfrac{P(X,Y)}{P(Y)}$\n",
    "        - 关联规则的判定阈值：用户指定，根据阈值划分为\n",
    "            - 强关联规则（支持度与置信度同时满足最低值）\n",
    "            - 弱关联规则（如果只满足一个，或者都不满足\n",
    "        - 把一个项集分成2个部分：\n",
    "            - 左边部分：先导，LHS(Left Hand Side)antecedent\n",
    "            - 右边部分：后继，RHS ：consequent 后件\n",
    "                - 1-后继\n",
    "                - 2-后继\n",
    "                - n-后继"
   ]
  },
  {
   "cell_type": "markdown",
   "metadata": {},
   "source": [
    "- 算法的特点：\n",
    "    - 一般适合与大样本的数据集。\n",
    "    - 计算量特别大。"
   ]
  },
  {
   "cell_type": "markdown",
   "metadata": {},
   "source": [
    "## 关联规则分析的算法过程"
   ]
  },
  {
   "cell_type": "markdown",
   "metadata": {},
   "source": [
    "### 得到所有频繁项集\n",
    "- 核心：项集的拆分，计算支持度"
   ]
  },
  {
   "cell_type": "markdown",
   "metadata": {},
   "source": [
    "1. 算法过程\n",
    "    - k=1， 数据项集合：\n",
    "        1. 构建备选项集列表：C_k；（难点）\n",
    "        2. 计算C_k每个项集的支持度；\n",
    "        3. 保留支持度高的项集；\n",
    "        4. k = k + 1, 循环从第1步重复执行，直到C_k为空\n"
   ]
  },
  {
   "cell_type": "markdown",
   "metadata": {},
   "source": [
    "2. 代码实现"
   ]
  },
  {
   "cell_type": "code",
   "execution_count": 2,
   "metadata": {},
   "outputs": [],
   "source": [
    "# 数据集\n",
    "import numpy as np\n",
    "data = np.array(\n",
    "    [\n",
    "        ['豆奶', '莴苣'],\n",
    "        ['莴苣', '尿布', '葡萄汁', '甜菜'],\n",
    "        ['豆奶', '尿布', '葡萄汁', '橙汁'],\n",
    "        ['莴苣', '豆奶', '尿布', '葡萄汁'],\n",
    "        ['莴苣', '豆奶', '尿布', '橙汁']\n",
    "    ]\n",
    ")"
   ]
  },
  {
   "cell_type": "code",
   "execution_count": 7,
   "metadata": {},
   "outputs": [
    {
     "data": {
      "text/plain": [
       "{frozenset({'尿布', '橙汁', '甜菜', '莴苣', '葡萄汁', '豆奶'}): 1}"
      ]
     },
     "execution_count": 7,
     "metadata": {},
     "output_type": "execute_result"
    }
   ],
   "source": [
    "# 构建集合\n",
    "S =  frozenset()  # 稳定集合与非稳定集合的区别 frozenset与set的区别：\n",
    "# frozenset可以作为字典的key使用，set不能作为字典的key（堆的数据无法hashable）\n",
    "for item in data:\n",
    "    S = S | frozenset(item)\n",
    "\n",
    "S,type(S)\n",
    "# Dic = {}\n",
    "# Dic[S] = 1\n",
    "# Dic"
   ]
  },
  {
   "cell_type": "code",
   "execution_count": 23,
   "metadata": {
    "scrolled": true
   },
   "outputs": [
    {
     "data": {
      "text/plain": [
       "[frozenset({'橙汁'}),\n",
       " frozenset({'莴苣'}),\n",
       " frozenset({'豆奶'}),\n",
       " frozenset({'葡萄汁'}),\n",
       " frozenset({'甜菜'}),\n",
       " frozenset({'尿布'})]"
      ]
     },
     "execution_count": 23,
     "metadata": {},
     "output_type": "execute_result"
    }
   ],
   "source": [
    "# 初始化的备选项集列表C_1()直接把所有的数据做成集合，使用集合形成长度为1备选项集。\n",
    "C_1 = []\n",
    "for s in S:\n",
    "    C_1.append(frozenset([s]))\n",
    "\n",
    "    \n",
    "# C_1 = list(map(frozenset, S))\n",
    "C_1"
   ]
  },
  {
   "cell_type": "code",
   "execution_count": 15,
   "metadata": {},
   "outputs": [
    {
     "data": {
      "text/plain": [
       "[frozenset({'橙汁', '莴苣'}),\n",
       " frozenset({'橙汁', '豆奶'}),\n",
       " frozenset({'橙汁', '葡萄汁'}),\n",
       " frozenset({'橙汁', '甜菜'}),\n",
       " frozenset({'尿布', '橙汁'}),\n",
       " frozenset({'莴苣', '豆奶'}),\n",
       " frozenset({'莴苣', '葡萄汁'}),\n",
       " frozenset({'甜菜', '莴苣'}),\n",
       " frozenset({'尿布', '莴苣'}),\n",
       " frozenset({'葡萄汁', '豆奶'}),\n",
       " frozenset({'甜菜', '豆奶'}),\n",
       " frozenset({'尿布', '豆奶'}),\n",
       " frozenset({'甜菜', '葡萄汁'}),\n",
       " frozenset({'尿布', '葡萄汁'}),\n",
       " frozenset({'尿布', '甜菜'})]"
      ]
     },
     "execution_count": 15,
     "metadata": {},
     "output_type": "execute_result"
    }
   ],
   "source": [
    "# 生成C_2的备箱项集（从C_1）\n",
    "C_2 = []\n",
    "\n",
    "len_C = len(C_1) \n",
    "for i in range(len_C):\n",
    "    for j in range(i+1, len_C):\n",
    "        C_2.append(C_1[i] |  C_1[j])\n",
    "\n",
    "\n",
    "C_2       "
   ]
  },
  {
   "cell_type": "code",
   "execution_count": 24,
   "metadata": {
    "scrolled": true
   },
   "outputs": [
    {
     "data": {
      "text/plain": [
       "[frozenset({'橙汁', '莴苣', '豆奶'}),\n",
       " frozenset({'橙汁', '莴苣', '葡萄汁'}),\n",
       " frozenset({'橙汁', '甜菜', '莴苣'}),\n",
       " frozenset({'尿布', '橙汁', '莴苣'}),\n",
       " frozenset({'橙汁', '葡萄汁', '豆奶'}),\n",
       " frozenset({'橙汁', '甜菜', '豆奶'}),\n",
       " frozenset({'尿布', '橙汁', '豆奶'}),\n",
       " frozenset({'橙汁', '甜菜', '葡萄汁'}),\n",
       " frozenset({'尿布', '橙汁', '葡萄汁'}),\n",
       " frozenset({'尿布', '橙汁', '甜菜'}),\n",
       " frozenset({'莴苣', '葡萄汁', '豆奶'}),\n",
       " frozenset({'甜菜', '莴苣', '葡萄汁'}),\n",
       " frozenset({'尿布', '莴苣', '葡萄汁'}),\n",
       " frozenset({'甜菜', '莴苣', '豆奶'}),\n",
       " frozenset({'尿布', '甜菜', '莴苣'}),\n",
       " frozenset({'尿布', '莴苣', '豆奶'}),\n",
       " frozenset({'甜菜', '葡萄汁', '豆奶'}),\n",
       " frozenset({'尿布', '葡萄汁', '豆奶'}),\n",
       " frozenset({'尿布', '甜菜', '豆奶'}),\n",
       " frozenset({'尿布', '甜菜', '葡萄汁'})]"
      ]
     },
     "execution_count": 24,
     "metadata": {},
     "output_type": "execute_result"
    }
   ],
   "source": [
    "# 从C2到C3，最后C4绝对不会漏掉，在C3不出现的，C4绝对不出现\n",
    "# 从C2 -> C3\n",
    "C_3 = []\n",
    "len_C = len(C_2)\n",
    "for i in range(len_C):\n",
    "    c_outer = list(C_2[i])\n",
    "    # 取前面2-1（3-2）\n",
    "    for j in range(i+1, len_C):\n",
    "        c_inner =list(C_2[j])\n",
    "        \n",
    "        outer_3_2 = c_outer[0:3-2]\n",
    "        inner_3_2 = c_inner[0:3-2]\n",
    "        \n",
    "        # 为了比较的准确性，最好排序（为了防止值同，但顺序不同的情况）\n",
    "        outer_3_2.sort()\n",
    "        inner_3_2.sort()\n",
    "        if  outer_3_2 == inner_3_2:\n",
    "            # 过滤长度为是4的项集\n",
    "            C_3.append(C_2[i] |  C_2[j])\n",
    "        \n",
    "\n",
    "C_3"
   ]
  },
  {
   "cell_type": "code",
   "execution_count": 28,
   "metadata": {},
   "outputs": [],
   "source": [
    "def generate_item_sets(C_k_1, k):\n",
    "    C_k = []\n",
    "    len_C = len(C_k_1)\n",
    "    for i in range(len_C):\n",
    "        c_outer = list(C_k_1[i])\n",
    "        # 取前面2-1（3-2）\n",
    "        for j in range(i+1, len_C):\n",
    "            c_inner =list(C_k_1[j])\n",
    "\n",
    "            outer_k_2 = c_outer[0: k-2]\n",
    "            inner_k_2 = c_inner[0: k-2]\n",
    "\n",
    "            # 为了比较的准确性，最好排序（为了防止值同，但顺序不同的情况）\n",
    "            outer_k_2.sort()\n",
    "            inner_k_2.sort()\n",
    "            if  outer_k_2 == inner_k_2:\n",
    "                # 过滤长度为是4的项集\n",
    "                C_k.append(C_k_1[i] |  C_k_1[j])\n",
    "    return C_k\n",
    "\n"
   ]
  },
  {
   "cell_type": "code",
   "execution_count": 37,
   "metadata": {},
   "outputs": [
    {
     "data": {
      "text/plain": [
       "[]"
      ]
     },
     "execution_count": 37,
     "metadata": {},
     "output_type": "execute_result"
    }
   ],
   "source": [
    "C_2 = generate_item_sets(C_1, 2)\n",
    "C_3 = generate_item_sets(C_2, 3)\n",
    "C_4 =  generate_item_sets(C_3, 4)\n",
    "C_5 = generate_item_sets(C_4, 5)\n",
    "C_6 = generate_item_sets(C_5, 6)\n",
    "C_7 = generate_item_sets(C_6, 7)\n",
    "C_7"
   ]
  },
  {
   "cell_type": "code",
   "execution_count": 39,
   "metadata": {
    "scrolled": true
   },
   "outputs": [
    {
     "data": {
      "text/plain": [
       "{frozenset({'橙汁', '莴苣', '豆奶'}): 1,\n",
       " frozenset({'尿布', '橙汁', '莴苣'}): 1,\n",
       " frozenset({'橙汁', '葡萄汁', '豆奶'}): 1,\n",
       " frozenset({'尿布', '橙汁', '豆奶'}): 2,\n",
       " frozenset({'尿布', '橙汁', '葡萄汁'}): 1,\n",
       " frozenset({'莴苣', '葡萄汁', '豆奶'}): 1,\n",
       " frozenset({'甜菜', '莴苣', '葡萄汁'}): 1,\n",
       " frozenset({'尿布', '莴苣', '葡萄汁'}): 2,\n",
       " frozenset({'尿布', '甜菜', '莴苣'}): 1,\n",
       " frozenset({'尿布', '莴苣', '豆奶'}): 2,\n",
       " frozenset({'尿布', '葡萄汁', '豆奶'}): 2,\n",
       " frozenset({'尿布', '甜菜', '葡萄汁'}): 1}"
      ]
     },
     "execution_count": 39,
     "metadata": {},
     "output_type": "execute_result"
    }
   ],
   "source": [
    "#  循环统计每个项集在总得数据集中出现的次数\n",
    "data = np.array(\n",
    "    [\n",
    "        ['豆奶', '莴苣'],\n",
    "        ['莴苣', '尿布', '葡萄汁', '甜菜'],\n",
    "        ['豆奶', '尿布', '葡萄汁', '橙汁'],\n",
    "        ['莴苣', '豆奶', '尿布', '葡萄汁'],\n",
    "        ['莴苣', '豆奶', '尿布', '橙汁']\n",
    "    ]\n",
    ")\n",
    "\n",
    "# 先原始数据转换项集的列表np.array -> list(set)\n",
    "D = []\n",
    "for it in data:\n",
    "    D.append(frozenset(it))\n",
    "\n",
    "D\n",
    "\n",
    "# # 按照每个项集的列表循环\n",
    "item_count = {}   # key:项集， value：出现次数的累加\n",
    "\n",
    "for  c  in  C_3:   # 对备选项集的列表进行循环，计算每个项集的出现过数量\n",
    "    for  d in D:   # 原始数据集。\n",
    "        if c.issubset(d):\n",
    "            # 统计（累加）\n",
    "            item_count[c] = item_count.get(c, 0) + 1\n",
    "    \n",
    "item_count"
   ]
  },
  {
   "cell_type": "code",
   "execution_count": 40,
   "metadata": {
    "scrolled": true
   },
   "outputs": [
    {
     "data": {
      "text/plain": [
       "{frozenset({'橙汁', '莴苣', '豆奶'}): 0.2,\n",
       " frozenset({'尿布', '橙汁', '莴苣'}): 0.2,\n",
       " frozenset({'橙汁', '葡萄汁', '豆奶'}): 0.2,\n",
       " frozenset({'尿布', '橙汁', '豆奶'}): 0.4,\n",
       " frozenset({'尿布', '橙汁', '葡萄汁'}): 0.2,\n",
       " frozenset({'莴苣', '葡萄汁', '豆奶'}): 0.2,\n",
       " frozenset({'甜菜', '莴苣', '葡萄汁'}): 0.2,\n",
       " frozenset({'尿布', '莴苣', '葡萄汁'}): 0.4,\n",
       " frozenset({'尿布', '甜菜', '莴苣'}): 0.2,\n",
       " frozenset({'尿布', '莴苣', '豆奶'}): 0.4,\n",
       " frozenset({'尿布', '葡萄汁', '豆奶'}): 0.4,\n",
       " frozenset({'尿布', '甜菜', '葡萄汁'}): 0.2}"
      ]
     },
     "execution_count": 40,
     "metadata": {},
     "output_type": "execute_result"
    }
   ],
   "source": [
    "#  循环统计每个项集在总得数据集中出现的次数\n",
    "data = np.array(\n",
    "    [\n",
    "        ['豆奶', '莴苣'],\n",
    "        ['莴苣', '尿布', '葡萄汁', '甜菜'],\n",
    "        ['豆奶', '尿布', '葡萄汁', '橙汁'],\n",
    "        ['莴苣', '豆奶', '尿布', '葡萄汁'],\n",
    "        ['莴苣', '豆奶', '尿布', '橙汁']\n",
    "    ]\n",
    ")\n",
    "\n",
    "# 先原始数据转换项集的列表np.array -> list(set)\n",
    "D = []\n",
    "for it in data:\n",
    "    D.append(frozenset(it))\n",
    "\n",
    "total_len = len(D)\n",
    "\n",
    "# # 按照每个项集的列表循环\n",
    "item_count = {}   # key:项集， value：出现次数的累加\n",
    "\n",
    "for  c  in  C_3:   # 对备选项集的列表进行循环，计算每个项集的出现过数量\n",
    "    for  d in D:   # 原始数据集。\n",
    "        if c.issubset(d):\n",
    "            # 统计（累加）\n",
    "            item_count[c] = item_count.get(c, 0) + 1\n",
    "    \n",
    "# 支持度\n",
    "item_support = {}\n",
    "    \n",
    "for k, v in item_count.items():\n",
    "    item_support[k] = v / total_len\n",
    "    \n",
    "item_support"
   ]
  },
  {
   "cell_type": "code",
   "execution_count": 41,
   "metadata": {},
   "outputs": [
    {
     "data": {
      "text/plain": [
       "{frozenset({'尿布', '橙汁', '豆奶'}): 0.4,\n",
       " frozenset({'尿布', '莴苣', '葡萄汁'}): 0.4,\n",
       " frozenset({'尿布', '莴苣', '豆奶'}): 0.4,\n",
       " frozenset({'尿布', '葡萄汁', '豆奶'}): 0.4}"
      ]
     },
     "execution_count": 41,
     "metadata": {},
     "output_type": "execute_result"
    }
   ],
   "source": [
    "# 过滤实现\n",
    "#  循环统计每个项集在总得数据集中出现的次数\n",
    "data = np.array(\n",
    "    [\n",
    "        ['豆奶', '莴苣'],\n",
    "        ['莴苣', '尿布', '葡萄汁', '甜菜'],\n",
    "        ['豆奶', '尿布', '葡萄汁', '橙汁'],\n",
    "        ['莴苣', '豆奶', '尿布', '葡萄汁'],\n",
    "        ['莴苣', '豆奶', '尿布', '橙汁']\n",
    "    ]\n",
    ")\n",
    "\n",
    "# 先原始数据转换项集的列表np.array -> list(set)\n",
    "D = []\n",
    "for it in data:\n",
    "    D.append(frozenset(it))\n",
    "\n",
    "total_len = len(D)\n",
    "\n",
    "# # 按照每个项集的列表循环\n",
    "item_count = {}   # key:项集， value：出现次数的累加\n",
    "\n",
    "for  c  in  C_3:   # 对备选项集的列表进行循环，计算每个项集的出现过数量\n",
    "    for  d in D:   # 原始数据集。\n",
    "        if c.issubset(d):\n",
    "            # 统计（累加）\n",
    "            item_count[c] = item_count.get(c, 0) + 1\n",
    "    \n",
    "# 支持度\n",
    "item_support = {}\n",
    "    \n",
    "for k, v in item_count.items():\n",
    "    support = v / total_len\n",
    "    if support >=  0.4: \n",
    "        item_support[k] = support\n",
    "    \n",
    "item_support"
   ]
  },
  {
   "cell_type": "code",
   "execution_count": 46,
   "metadata": {},
   "outputs": [
    {
     "data": {
      "text/plain": [
       "{}"
      ]
     },
     "execution_count": 46,
     "metadata": {},
     "output_type": "execute_result"
    }
   ],
   "source": [
    "# 封装\n",
    "def  calcute_support(D, C, threshold):\n",
    "    # D: 原始数据集的项集列表的表示\n",
    "    # C：备选的项集列表\n",
    "    # threshold:支持度的阈值\n",
    "    # 返回频繁项集列表\n",
    "    # # 按照每个项集的列表循环\n",
    "    item_count = {}   # key:项集， value：出现次数的累加\n",
    "\n",
    "    for  c  in  C:   # 对备选项集的列表进行循环，计算每个项集的出现过数量\n",
    "        for  d in D:   # 原始数据集。\n",
    "            if c.issubset(d):\n",
    "                # 统计（累加）\n",
    "                item_count[c] = item_count.get(c, 0) + 1\n",
    "\n",
    "    # 支持度\n",
    "    item_support = {}\n",
    "\n",
    "    for k, v in item_count.items():\n",
    "        support = v / total_len\n",
    "        if support >=  threshold: \n",
    "            item_support[k] = support\n",
    "\n",
    "    return item_support\n",
    "\n",
    "often_1 = calcute_support(D,C_1, 0.4)\n",
    "often_2 = calcute_support(D,C_2, 0.4)\n",
    "often_3 = calcute_support(D,C_3, 0.4)\n",
    "often_4 = calcute_support(D,C_4, 0.4)\n",
    "often_5 = calcute_support(D,C_5, 0.4)  # 原始数据中没有超过5的项集。100%返回空"
   ]
  },
  {
   "cell_type": "code",
   "execution_count": 47,
   "metadata": {},
   "outputs": [],
   "source": [
    "# 集成前面的函数\n",
    "def generate_item_sets(C_k_1, k):\n",
    "    C_k = []\n",
    "    len_C = len(C_k_1)\n",
    "    for i in range(len_C):\n",
    "        c_outer = list(C_k_1[i])\n",
    "        # 取前面2-1（3-2）\n",
    "        for j in range(i+1, len_C):\n",
    "            c_inner =list(C_k_1[j])\n",
    "\n",
    "            outer_k_2 = c_outer[0: k-2]\n",
    "            inner_k_2 = c_inner[0: k-2]\n",
    "\n",
    "            # 为了比较的准确性，最好排序（为了防止值同，但顺序不同的情况）\n",
    "            outer_k_2.sort()\n",
    "            inner_k_2.sort()\n",
    "            if  outer_k_2 == inner_k_2:\n",
    "                # 过滤长度为是4的项集\n",
    "                C_k.append(C_k_1[i] |  C_k_1[j])\n",
    "    return C_k\n",
    "\n",
    "def  calcute_support(D, C, threshold):\n",
    "    # D: 原始数据集的项集列表的表示\n",
    "    # C：备选的项集列表\n",
    "    # threshold:支持度的阈值\n",
    "    # 返回频繁项集列表\n",
    "    # # 按照每个项集的列表循环\n",
    "    item_count = {}   # key:项集， value：出现次数的累加\n",
    "\n",
    "    for  c  in  C:   # 对备选项集的列表进行循环，计算每个项集的出现过数量\n",
    "        for  d in D:   # 原始数据集。\n",
    "            if c.issubset(d):\n",
    "                # 统计（累加）\n",
    "                item_count[c] = item_count.get(c, 0) + 1\n",
    "\n",
    "    # 支持度\n",
    "    item_support = {}\n",
    "\n",
    "    for k, v in item_count.items():\n",
    "        support = v / total_len\n",
    "        if support >=  threshold: \n",
    "            item_support[k] = support\n",
    "\n",
    "    return item_support\n",
    "\n",
    "def get_all_often(data, support):\n",
    "    all_often = {}\n",
    "    # 把数据data转换为项集列表\n",
    "    D = []\n",
    "    for it in data:\n",
    "        D.append(frozenset(it))\n",
    "    \n",
    "    # 先得到C1备选项集列表\n",
    "    S =  frozenset()  # 稳定集合与非稳定集合的区别 frozenset与set的区别：\n",
    "    # frozenset可以作为字典的key使用，set不能作为字典的key（堆的数据无法hashable）\n",
    "    for item in data:\n",
    "        S = S | frozenset(item)\n",
    "        \n",
    "    C_1 = []\n",
    "    for s in S:\n",
    "        C_1.append(frozenset([s]))\n",
    "    # 计算C1的频繁项集列表\n",
    "    O_1 = calcute_support(D, C_1, support)\n",
    "    all_often.update(O_1)  # 字典的update函数\n",
    "    k = 2\n",
    "    O_k_1 = O_1\n",
    "    while True:\n",
    "        # 使用k-1大小的频繁项集列表，构建大小为k的备选项集列表C_k\n",
    "        C_k = generate_item_sets(list(O_k_1.keys()), k)\n",
    "        # 再产生频繁项集列表\n",
    "        O_k = calcute_support(D, C_k, support)\n",
    "        # 备选项集列表为空\n",
    "        if len(O_k) == 0:\n",
    "            break\n",
    "        k += 1\n",
    "        all_often.update(O_k)\n",
    "        O_k_1 = O_k\n",
    "    return all_often\n"
   ]
  },
  {
   "cell_type": "code",
   "execution_count": 52,
   "metadata": {},
   "outputs": [
    {
     "data": {
      "text/plain": [
       "{frozenset({'橙汁'}): 0.4,\n",
       " frozenset({'莴苣'}): 0.8,\n",
       " frozenset({'豆奶'}): 0.8,\n",
       " frozenset({'葡萄汁'}): 0.6,\n",
       " frozenset({'尿布'}): 0.8,\n",
       " frozenset({'橙汁', '豆奶'}): 0.4,\n",
       " frozenset({'尿布', '橙汁'}): 0.4,\n",
       " frozenset({'莴苣', '豆奶'}): 0.6,\n",
       " frozenset({'莴苣', '葡萄汁'}): 0.4,\n",
       " frozenset({'尿布', '莴苣'}): 0.6,\n",
       " frozenset({'葡萄汁', '豆奶'}): 0.4,\n",
       " frozenset({'尿布', '豆奶'}): 0.6,\n",
       " frozenset({'尿布', '葡萄汁'}): 0.6,\n",
       " frozenset({'尿布', '橙汁', '豆奶'}): 0.4,\n",
       " frozenset({'尿布', '莴苣', '葡萄汁'}): 0.4,\n",
       " frozenset({'尿布', '莴苣', '豆奶'}): 0.4,\n",
       " frozenset({'尿布', '葡萄汁', '豆奶'}): 0.4}"
      ]
     },
     "execution_count": 52,
     "metadata": {},
     "output_type": "execute_result"
    }
   ],
   "source": [
    "data = np.array(\n",
    "    [\n",
    "        ['豆奶', '莴苣'],\n",
    "        ['莴苣', '尿布', '葡萄汁', '甜菜'],\n",
    "        ['豆奶', '尿布', '葡萄汁', '橙汁'],\n",
    "        ['莴苣', '豆奶', '尿布', '葡萄汁'],\n",
    "        ['莴苣', '豆奶', '尿布', '橙汁']\n",
    "    ]\n",
    ")\n",
    "data_often = get_all_often(data, 0.4)\n",
    "data_often"
   ]
  },
  {
   "cell_type": "markdown",
   "metadata": {},
   "source": [
    "### 找到所有关联规则\n",
    "- 核心：规则拆分，计算置信度"
   ]
  },
  {
   "cell_type": "markdown",
   "metadata": {},
   "source": [
    "1. 算法过程\n",
    "    - 1. 找到右边的项集列表\n",
    "    - 2. 利用集合的差，得到右边的项集列表（得到的项集一定是规则中出现的）\n",
    "        - 右边项集列表的生成使用频繁项集。\n",
    "            - 首先大小为1 - 2 - 3(1-后继，2-后继，3-后继)\n",
    "    - 3. 在频繁项集列表中，查找到左边与右边的支持；\n",
    "    - 4. 计算出置信度；\n",
    "    - 5. 判定一下，过滤置信度低的关联规则"
   ]
  },
  {
   "cell_type": "markdown",
   "metadata": {},
   "source": [
    "2. 代码实现"
   ]
  },
  {
   "cell_type": "code",
   "execution_count": 54,
   "metadata": {},
   "outputs": [
    {
     "data": {
      "text/plain": [
       "frozenset({'尿布', '葡萄汁', '豆奶'})"
      ]
     },
     "execution_count": 54,
     "metadata": {},
     "output_type": "execute_result"
    }
   ],
   "source": [
    "# 1. 生成1-后继（2-后继等按照前面的代码一样实现）\n",
    "\n",
    "# 得到一个频繁项集\n",
    "one_often = list(data_often.keys()) [16]\n",
    "one_often"
   ]
  },
  {
   "cell_type": "code",
   "execution_count": 55,
   "metadata": {},
   "outputs": [
    {
     "data": {
      "text/plain": [
       "[frozenset({'葡萄汁'}), frozenset({'尿布'}), frozenset({'豆奶'})]"
      ]
     },
     "execution_count": 55,
     "metadata": {},
     "output_type": "execute_result"
    }
   ],
   "source": [
    "# 产生规则\n",
    "# 首先构造1-后继\n",
    "rhs_1 = []   # 项集的列表\n",
    "for it in one_often:\n",
    "    rhs_1.append(frozenset([it]))\n",
    "rhs_1"
   ]
  },
  {
   "cell_type": "code",
   "execution_count": 64,
   "metadata": {},
   "outputs": [
    {
     "data": {
      "text/plain": [
       "{(frozenset({'尿布', '豆奶'}), frozenset({'葡萄汁'})): 0.6666666666666667}"
      ]
     },
     "execution_count": 64,
     "metadata": {},
     "output_type": "execute_result"
    }
   ],
   "source": [
    "# 2. 根据1-后继直积产生规则，计算置信度，过滤关联规则\n",
    "rules_confidence = {}  #  key:( 先导，后继)  ，value \n",
    "# 按照后继循环生成规则\n",
    "for rhs in  rhs_1:\n",
    "    confidence = data_often[one_often] / data_often[rhs]\n",
    "    if confidence >= 0.6:\n",
    "        rules_confidence[(one_often - rhs,  rhs)] = data_often[one_often] / data_often[rhs]\n",
    "\n",
    "rules_confidence    "
   ]
  },
  {
   "cell_type": "code",
   "execution_count": 69,
   "metadata": {},
   "outputs": [
    {
     "data": {
      "text/plain": [
       "{(frozenset({'尿布', '豆奶'}), frozenset({'葡萄汁'})): 0.6666666666666667,\n",
       " (frozenset({'葡萄汁', '豆奶'}), frozenset({'尿布'})): 0.5,\n",
       " (frozenset({'尿布', '葡萄汁'}), frozenset({'豆奶'})): 0.5}"
      ]
     },
     "execution_count": 69,
     "metadata": {},
     "output_type": "execute_result"
    }
   ],
   "source": [
    "# 封装\n",
    "def  generate_rules_confidence(all_often, often_item, threshold):\n",
    "    rhs_1 = []   # 项集的列表\n",
    "    for it in often_item:\n",
    "        rhs_1.append(frozenset([it]))\n",
    "    \n",
    "    rules_confidence = {}  #  key:( 先导，后继)  ，value \n",
    "    # 按照后继循环生成规则\n",
    "    for rhs in  rhs_1:\n",
    "        confidence = all_often[often_item] / all_often[rhs]\n",
    "        if confidence >= threshold:\n",
    "            rules_confidence[(often_item - rhs,  rhs)] = confidence\n",
    "            \n",
    "            \n",
    "\n",
    "    return rules_confidence    \n",
    "\n",
    "generate_rules_confidence(data_often, one_often, 0.5)"
   ]
  },
  {
   "cell_type": "code",
   "execution_count": 71,
   "metadata": {},
   "outputs": [
    {
     "data": {
      "text/plain": [
       "{(frozenset({'豆奶'}), frozenset({'橙汁'})): 1.0,\n",
       " (frozenset({'尿布'}), frozenset({'橙汁'})): 1.0,\n",
       " (frozenset({'莴苣'}), frozenset({'豆奶'})): 0.7499999999999999,\n",
       " (frozenset({'豆奶'}), frozenset({'莴苣'})): 0.7499999999999999,\n",
       " (frozenset({'莴苣'}), frozenset({'葡萄汁'})): 0.6666666666666667,\n",
       " (frozenset({'莴苣'}), frozenset({'尿布'})): 0.7499999999999999,\n",
       " (frozenset({'尿布'}), frozenset({'莴苣'})): 0.7499999999999999,\n",
       " (frozenset({'豆奶'}), frozenset({'葡萄汁'})): 0.6666666666666667,\n",
       " (frozenset({'豆奶'}), frozenset({'尿布'})): 0.7499999999999999,\n",
       " (frozenset({'尿布'}), frozenset({'豆奶'})): 0.7499999999999999,\n",
       " (frozenset({'尿布'}), frozenset({'葡萄汁'})): 1.0,\n",
       " (frozenset({'葡萄汁'}), frozenset({'尿布'})): 0.7499999999999999,\n",
       " (frozenset({'尿布', '豆奶'}), frozenset({'橙汁'})): 1.0,\n",
       " (frozenset({'尿布', '莴苣'}), frozenset({'葡萄汁'})): 0.6666666666666667,\n",
       " (frozenset({'尿布', '豆奶'}), frozenset({'葡萄汁'})): 0.6666666666666667}"
      ]
     },
     "execution_count": 71,
     "metadata": {},
     "output_type": "execute_result"
    }
   ],
   "source": [
    "# 计算所有规则\n",
    "def get_all_rule(all_often, threshold):\n",
    "    all_rules = {}\n",
    "    for  often_item  in  list(all_often.keys()):\n",
    "        if len(often_item) >=2:\n",
    "            rules_item = generate_rules_confidence(all_often,often_item, threshold)\n",
    "            all_rules.update(rules_item)\n",
    "    return all_rules\n",
    "\n",
    "get_all_rule(data_often, 0.6)"
   ]
  },
  {
   "cell_type": "markdown",
   "metadata": {},
   "source": [
    "- 思考：\n",
    "    - 算法还可以再优化；\n",
    "    - 输出的数据格式，尽量采用主流数据格式；目前的主流：numpy.ndarray, pandas.DataFrame   \n",
    "    - 去重\n",
    "    - 封装成类\n",
    "    - 关联规则预测\n",
    "        - fit函数\n",
    "        - predict(参数)\n",
    "            - 商业的操作方式，训练的结果使用redis，mongoDB，mysql存储"
   ]
  },
  {
   "cell_type": "markdown",
   "metadata": {},
   "source": [
    "### 应用"
   ]
  },
  {
   "cell_type": "code",
   "execution_count": null,
   "metadata": {},
   "outputs": [],
   "source": []
  }
 ],
 "metadata": {
  "kernelspec": {
   "display_name": "Python 3",
   "language": "python",
   "name": "python3"
  },
  "language_info": {
   "codemirror_mode": {
    "name": "ipython",
    "version": 3
   },
   "file_extension": ".py",
   "mimetype": "text/x-python",
   "name": "python",
   "nbconvert_exporter": "python",
   "pygments_lexer": "ipython3",
   "version": "3.6.6"
  },
  "toc": {
   "base_numbering": 1,
   "nav_menu": {},
   "number_sections": true,
   "sideBar": true,
   "skip_h1_title": false,
   "title_cell": "Table of Contents",
   "title_sidebar": "Contents",
   "toc_cell": false,
   "toc_position": {},
   "toc_section_display": true,
   "toc_window_display": false
  }
 },
 "nbformat": 4,
 "nbformat_minor": 2
}
