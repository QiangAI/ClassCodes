{
 "cells": [
  {
   "cell_type": "markdown",
   "metadata": {},
   "source": [
    "# 线性规划的问题\n",
    "\n",
    "1. 假设是一条直线，是否合理；\n",
    "2. 假设误差满足正态分布，是否合理；\n",
    "3. 使用线性回归的分类的依据在哪里；（预测，分类）\n",
    "    \n"
   ]
  },
  {
   "cell_type": "markdown",
   "metadata": {},
   "source": [
    "# 线性回归的分类的确定与改进"
   ]
  },
  {
   "cell_type": "markdown",
   "metadata": {},
   "source": [
    "- 新的算法：\n",
    "    - 专门用来分类的线性回归：逻辑回归\n",
    "    "
   ]
  },
  {
   "cell_type": "markdown",
   "metadata": {},
   "source": [
    "## 鸢尾花四维数据分类"
   ]
  },
  {
   "cell_type": "code",
   "execution_count": 22,
   "metadata": {},
   "outputs": [
    {
     "name": "stdout",
     "output_type": "stream",
     "text": [
      "48\n",
      "48\n"
     ]
    }
   ],
   "source": [
    "%matplotlib inline\n",
    "\n",
    "import sklearn.datasets as ds\n",
    "import numpy as np\n",
    "import numpy.linalg as la\n",
    "\n",
    "data, target = ds.load_iris( return_X_y=True)\n",
    "# 1. 训练数据样本：0：50(0)/ 50: 100(1)\n",
    "# 准备数据X + 1，Y\n",
    "\n",
    "X =  np.zeros(shape=(100, data.shape[1] + 1 ) ,dtype=np.float)\n",
    "X[0:50, 0:4] = data[50:100,:]\n",
    "X[50:100, 0:4] = data[100:150,:]\n",
    "\n",
    "X[:, 4] =1\n",
    "\n",
    "Y = target[0:100]\n",
    "Y = Y.reshape(100, 1)\n",
    "\n",
    "# 2. 利用上面100个数据（0，1）训练出一条直线（X^T X ）可逆，直线是否对鸢尾花的种类可分。\n",
    "\n",
    "W =  np.matmul(\n",
    "            np.matmul(\n",
    "                la.inv( \n",
    "                    np.matmul(\n",
    "                        X.T, \n",
    "                        X) \n",
    "                ),\n",
    "                X.T),\n",
    "            Y)\n",
    "\n",
    "# print(W)\n",
    "# 3. 预测数据\n",
    "\n",
    "r1 =  np.matmul(X[0:50], W)\n",
    "r2 =  np.matmul(X[50:100], W)\n",
    "# 训练出来的的直线，具备分类效果\n",
    "# 根据已知，直到前面50个都是A类，标签是0，统计<0.5的个数，都是A类\n",
    "# 统计一个数组大于a的数量，小于b的数量\n",
    "\n",
    "print((r1<0.5).sum())\n",
    "print((r1<0.5).sum())\n",
    "\n",
    "# 线性回归具备分类效果\n",
    "# 0: 50,100-150"
   ]
  },
  {
   "cell_type": "markdown",
   "metadata": {},
   "source": [
    "- $W={(X^TX)}^{-1}X^TY$"
   ]
  },
  {
   "cell_type": "markdown",
   "metadata": {},
   "source": [
    "问题：\n",
    "    - 这个分类的依据是什么？\n",
    "    "
   ]
  },
  {
   "cell_type": "markdown",
   "metadata": {},
   "source": [
    "### 观察鸢尾花数据"
   ]
  },
  {
   "cell_type": "markdown",
   "metadata": {},
   "source": [
    "# 误差的正态分布假设的确定与改进\n",
    "\n",
    "- 使用最小二乘法：\n",
    "    - 满足条件：$X^TX$可逆"
   ]
  },
  {
   "cell_type": "markdown",
   "metadata": {},
   "source": [
    "- $X^TX$不可逆"
   ]
  },
  {
   "cell_type": "markdown",
   "metadata": {},
   "source": [
    "- $W={(X^TX + \\lambda I)}^{-1}X^TY$  : 只要$\\lambda$取值合适，可以肯定可逆。\n",
    "    - Ridge回归：岭回归\n",
    "    \n",
    "    - 在推导过程中，再改变计算方式：LASSO回归。"
   ]
  },
  {
   "cell_type": "markdown",
   "metadata": {},
   "source": [
    "- $W={(X^TWX )}^{-1}X^TY$；只要$W$取值合适，可以肯定可逆。\n",
    "    - 加权回归；（Local Weighted Linear Regression）"
   ]
  },
  {
   "cell_type": "markdown",
   "metadata": {},
   "source": [
    "- LASSO回归\n"
   ]
  },
  {
   "cell_type": "markdown",
   "metadata": {},
   "source": [
    "# 总结回归的问题\n",
    "\n",
    "1.  线性回归作为分类，使用0.5划分分类标准的数学理论依据；\n",
    "    - 逻辑回归\n",
    "    \n",
    "\n",
    "2. 线性回归，最下二乘法求解需要满足一个条件：\n",
    "    - $X^TX$可逆\n",
    "    \n",
    "    - 使用$\\lambda I$ \n",
    "    - 岭回归 -> LASSO回归\n",
    "    \n",
    "\n",
    "3. 损失函数最小\n",
    "    - 似然函数的最大->损失最小。\n"
   ]
  },
  {
   "cell_type": "markdown",
   "metadata": {},
   "source": [
    "# 局部加权回归\n",
    "\n",
    "- 解决欠拟合。\n",
    "    - 损失采用标准高斯分布（正态分布），得到误差不是最理想。\n",
    "    - 损失函数趋近0。"
   ]
  },
  {
   "cell_type": "markdown",
   "metadata": {},
   "source": [
    "## 真实值$Y$与训练后的曲线的计算值$\\bar{Y}$"
   ]
  },
  {
   "cell_type": "markdown",
   "metadata": {},
   "source": [
    "- 相关系数\n",
    "- $R^2$"
   ]
  },
  {
   "cell_type": "markdown",
   "metadata": {},
   "source": [
    "### 相关系数\n",
    "    - 方差\n",
    "    \n",
    "- $r = \\dfrac{Cov(X,Y)}{\\sqrt{ Var(X) Var(Y) }}$"
   ]
  },
  {
   "cell_type": "code",
   "execution_count": 2,
   "metadata": {},
   "outputs": [
    {
     "name": "stdout",
     "output_type": "stream",
     "text": [
      "[[1.         0.57430407]\n",
      " [0.57430407 1.        ]]\n"
     ]
    }
   ],
   "source": [
    "import numpy as np\n",
    "import numpy.random as rd\n",
    "\n",
    "x = rd.uniform(0, 1, 5)\n",
    "y = rd.uniform(0, 1, 5)\n",
    "\n",
    "r = np.corrcoef(x, y)\n",
    "print(r)\n"
   ]
  },
  {
   "cell_type": "markdown",
   "metadata": {},
   "source": [
    "- 矩阵的每个值的函数\n",
    "\n",
    "```python\n",
    "\n",
    "[\n",
    "   x与x的相关性1        x与y的相关性0-1   \n",
    "   y与x的相关性0-1     y与y的相关性1\n",
    "]\n",
    "\n",
    "```\n",
    "\n",
    "- 误差最小与相关性\n",
    "    - 绝对值0\n",
    "    - 相关性相对度量。"
   ]
  },
  {
   "cell_type": "markdown",
   "metadata": {},
   "source": [
    "## 测试相关系数\n",
    "    - 鸢尾花\n",
    "    - 身高与年龄\n",
    "    - 模拟的数据（使用数据函数 + 模拟误差生成的数据）\n",
    "    \n",
    "- 鸢尾花的训练数据 = 手工算法"
   ]
  },
  {
   "cell_type": "markdown",
   "metadata": {},
   "source": [
    "1. 手工实现\n"
   ]
  },
  {
   "cell_type": "code",
   "execution_count": null,
   "metadata": {},
   "outputs": [],
   "source": [
    "% matplotlib inline\n",
    "data = np.loadtxt('ex0.txt')\n",
    "print\n",
    "                "
   ]
  },
  {
   "cell_type": "markdown",
   "metadata": {},
   "source": []
  },
  {
   "cell_type": "markdown",
   "metadata": {},
   "source": []
  }
 ],
 "metadata": {
  "kernelspec": {
   "display_name": "Python 3",
   "language": "python",
   "name": "python3"
  },
  "language_info": {
   "codemirror_mode": {
    "name": "ipython",
    "version": 3
   },
   "file_extension": ".py",
   "mimetype": "text/x-python",
   "name": "python",
   "nbconvert_exporter": "python",
   "pygments_lexer": "ipython3",
   "version": "3.6.6"
  },
  "toc": {
   "base_numbering": 1,
   "nav_menu": {},
   "number_sections": true,
   "sideBar": true,
   "skip_h1_title": false,
   "title_cell": "Table of Contents",
   "title_sidebar": "Contents",
   "toc_cell": false,
   "toc_position": {},
   "toc_section_display": true,
   "toc_window_display": false
  }
 },
 "nbformat": 4,
 "nbformat_minor": 2
}
