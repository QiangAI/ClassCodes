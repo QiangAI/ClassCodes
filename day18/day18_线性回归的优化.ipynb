{
 "cells": [
  {
   "cell_type": "markdown",
   "metadata": {},
   "source": [
    "# 线性规划的问题\n",
    "\n",
    "1. 假设是一条直线，是否合理；\n",
    "2. 假设误差满足正态分布，是否合理；\n",
    "3. 使用线性回归的分类的依据在哪里；（预测，分类）\n",
    "    \n"
   ]
  },
  {
   "cell_type": "markdown",
   "metadata": {},
   "source": [
    "# 线性回归的分类的确定与改进"
   ]
  },
  {
   "cell_type": "markdown",
   "metadata": {},
   "source": [
    "- 新的算法：\n",
    "    - 专门用来分类的线性回归：逻辑回归\n",
    "    "
   ]
  },
  {
   "cell_type": "markdown",
   "metadata": {},
   "source": [
    "## 鸢尾花四维数据分类"
   ]
  },
  {
   "cell_type": "code",
   "execution_count": 22,
   "metadata": {},
   "outputs": [
    {
     "name": "stdout",
     "output_type": "stream",
     "text": [
      "48\n",
      "48\n"
     ]
    }
   ],
   "source": [
    "%matplotlib inline\n",
    "\n",
    "import sklearn.datasets as ds\n",
    "import numpy as np\n",
    "import numpy.linalg as la\n",
    "\n",
    "data, target = ds.load_iris( return_X_y=True)\n",
    "# 1. 训练数据样本：0：50(0)/ 50: 100(1)\n",
    "# 准备数据X + 1，Y\n",
    "\n",
    "X =  np.zeros(shape=(100, data.shape[1] + 1 ) ,dtype=np.float)\n",
    "X[0:50, 0:4] = data[50:100,:]\n",
    "X[50:100, 0:4] = data[100:150,:]\n",
    "\n",
    "X[:, 4] =1\n",
    "\n",
    "Y = target[0:100]\n",
    "Y = Y.reshape(100, 1)\n",
    "\n",
    "# 2. 利用上面100个数据（0，1）训练出一条直线（X^T X ）可逆，直线是否对鸢尾花的种类可分。\n",
    "\n",
    "W =  np.matmul(\n",
    "            np.matmul(\n",
    "                la.inv( \n",
    "                    np.matmul(\n",
    "                        X.T, \n",
    "                        X) \n",
    "                ),\n",
    "                X.T),\n",
    "            Y)\n",
    "\n",
    "# print(W)\n",
    "# 3. 预测数据\n",
    "\n",
    "r1 =  np.matmul(X[0:50], W)\n",
    "r2 =  np.matmul(X[50:100], W)\n",
    "# 训练出来的的直线，具备分类效果\n",
    "# 根据已知，直到前面50个都是A类，标签是0，统计<0.5的个数，都是A类\n",
    "# 统计一个数组大于a的数量，小于b的数量\n",
    "\n",
    "print((r1<0.5).sum())\n",
    "print((r1<0.5).sum())\n",
    "\n",
    "# 线性回归具备分类效果\n",
    "# 0: 50,100-150"
   ]
  },
  {
   "cell_type": "markdown",
   "metadata": {},
   "source": [
    "- $W={(X^TX)}^{-1}X^TY$"
   ]
  },
  {
   "cell_type": "markdown",
   "metadata": {},
   "source": [
    "问题：\n",
    "    - 这个分类的依据是什么？\n",
    "    "
   ]
  },
  {
   "cell_type": "markdown",
   "metadata": {},
   "source": [
    "### 观察鸢尾花数据"
   ]
  },
  {
   "cell_type": "markdown",
   "metadata": {},
   "source": [
    "# 误差的正态分布假设的确定与改进\n",
    "\n",
    "- 使用最小二乘法：\n",
    "    - 满足条件：$X^TX$可逆"
   ]
  },
  {
   "cell_type": "markdown",
   "metadata": {},
   "source": [
    "- $X^TX$不可逆"
   ]
  },
  {
   "cell_type": "markdown",
   "metadata": {},
   "source": [
    "- $W={(X^TX + \\lambda I)}^{-1}X^TY$  : 只要$\\lambda$取值合适，可以肯定可逆。\n",
    "    - Ridge回归：岭回归\n",
    "    \n",
    "    - 在推导过程中，再改变计算方式：LASSO回归。"
   ]
  },
  {
   "cell_type": "markdown",
   "metadata": {},
   "source": [
    "- $W={(X^TWX )}^{-1}X^TY$；只要$W$取值合适，可以肯定可逆。\n",
    "    - 加权回归；（Local Weighted Linear Regression）"
   ]
  },
  {
   "cell_type": "markdown",
   "metadata": {},
   "source": [
    "- LASSO回归\n"
   ]
  },
  {
   "cell_type": "markdown",
   "metadata": {},
   "source": [
    "# 总结回归的问题\n",
    "\n",
    "1.  线性回归作为分类，使用0.5划分分类标准的数学理论依据；\n",
    "    - 逻辑回归\n",
    "    \n",
    "\n",
    "2. 线性回归，最下二乘法求解需要满足一个条件：\n",
    "    - $X^TX$可逆\n",
    "    \n",
    "    - 使用$\\lambda I$ \n",
    "    - 岭回归 -> LASSO回归\n",
    "    \n",
    "\n",
    "3. 损失函数最小\n",
    "    - 似然函数的最大->损失最小。\n"
   ]
  },
  {
   "cell_type": "markdown",
   "metadata": {},
   "source": [
    "# 局部加权回归\n",
    "\n",
    "- 解决欠拟合。\n",
    "    - 损失采用标准高斯分布（正态分布），得到误差不是最理想。\n",
    "    - 损失函数趋近0。"
   ]
  },
  {
   "cell_type": "markdown",
   "metadata": {},
   "source": [
    "## 真实值$Y$与训练后的曲线的计算值$\\bar{Y}$"
   ]
  },
  {
   "cell_type": "markdown",
   "metadata": {},
   "source": [
    "- 相关系数\n",
    "- $R^2$"
   ]
  },
  {
   "cell_type": "markdown",
   "metadata": {},
   "source": [
    "### 相关系数\n",
    "    - 方差\n",
    "    \n",
    "- $r = \\dfrac{Cov(X,Y)}{\\sqrt{ Var(X) Var(Y) }}$"
   ]
  },
  {
   "cell_type": "code",
   "execution_count": 2,
   "metadata": {},
   "outputs": [
    {
     "name": "stdout",
     "output_type": "stream",
     "text": [
      "[[1.         0.57430407]\n",
      " [0.57430407 1.        ]]\n"
     ]
    }
   ],
   "source": [
    "import numpy as np\n",
    "import numpy.random as rd\n",
    "\n",
    "x = rd.uniform(0, 1, 5)\n",
    "y = rd.uniform(0, 1, 5)\n",
    "\n",
    "r = np.corrcoef(x, y)\n",
    "print(r)\n"
   ]
  },
  {
   "cell_type": "markdown",
   "metadata": {},
   "source": [
    "- 矩阵的每个值的函数\n",
    "\n",
    "```python\n",
    "\n",
    "[\n",
    "   x与x的相关性1        x与y的相关性0-1   \n",
    "   y与x的相关性0-1     y与y的相关性1\n",
    "]\n",
    "\n",
    "```\n",
    "\n",
    "- 误差最小与相关性\n",
    "    - 绝对值0\n",
    "    - 相关性相对度量。"
   ]
  },
  {
   "cell_type": "markdown",
   "metadata": {},
   "source": [
    "## 测试相关系数\n",
    "    - 鸢尾花\n",
    "    - 身高与年龄\n",
    "    - 模拟的数据（使用数据函数 + 模拟误差生成的数据）\n",
    "    \n",
    "- 鸢尾花的训练数据 = 手工算法"
   ]
  },
  {
   "cell_type": "markdown",
   "metadata": {},
   "source": [
    "1. 手工实现\n"
   ]
  },
  {
   "cell_type": "code",
   "execution_count": 23,
   "metadata": {},
   "outputs": [
    {
     "name": "stdout",
     "output_type": "stream",
     "text": [
      "[[1.69532264]]\n",
      "[3.00774324]\n",
      "0.9731300889856915\n",
      "[[1.         0.98647356]\n",
      " [0.98647356 1.        ]]\n"
     ]
    },
    {
     "data": {
      "image/png": "[encoded data removed]",
      "text/plain": [
       "<Figure size 576x432 with 1 Axes>"
      ]
     },
     "metadata": {
      "needs_background": "light"
     },
     "output_type": "display_data"
    }
   ],
   "source": [
    "% matplotlib inline\n",
    "import matplotlib.pyplot as plt\n",
    "import numpy as np\n",
    "import numpy.random as rd\n",
    "import numpy.linalg as la\n",
    "from sklearn.linear_model import LinearRegression     # 线性回归的封装\n",
    "\n",
    "# 加载数据\n",
    "data = np.loadtxt('ex0.txt')\n",
    "# 格式化数据\n",
    "X = data[:, 1]\n",
    "Y = data[:, 2]\n",
    "\n",
    "X = X.reshape(-1, 1)\n",
    "Y = Y.reshape(-1, 1)\n",
    "\n",
    "# 计算线性回归的 斜率+ 截距\n",
    "regression = LinearRegression()\n",
    "regression.fit(X,Y)\n",
    "# 打印相关系数\n",
    "print(regression.coef_)\n",
    "print(regression.intercept_)\n",
    "print(regression.score(X, Y))\n",
    "print(np.corrcoef(regression.predict(X).T , Y.T))\n",
    "\n",
    "# 可视化出来\n",
    "figure = plt.figure('线性回归可视化', figsize=(8, 6))\n",
    "# 图与坐标系\n",
    "ax = figure.add_axes([0.1, 0.1, 0.8, 0.8])\n",
    "ax.set_xlim(-0.1, 1.1)\n",
    "ax.set_ylim(2.5, 5.5)\n",
    "# 绘制训练样本点\n",
    "ax.scatter(data[:, 1], data[:, 2], s=16, marker='.', c='r')\n",
    "# 绘制直线\n",
    "x_ = rd.uniform(0, 1,(100,1))\n",
    "y_ = regression.predict(x_)\n",
    "\n",
    "ax.scatter(x_, y_, c='b')\n",
    "\n",
    "plt.show()\n",
    "\n"
   ]
  },
  {
   "cell_type": "markdown",
   "metadata": {},
   "source": [
    "# 局部加权的算法规则：\n",
    "\n",
    "- 备注\n",
    "    - $J(W) = \\dfrac{1}{2} \\sum \\limits _{i=1} ^ m (x_iW - y_i)^2$\n",
    "    - $J(W) = \\dfrac{1}{2} \\sum \\limits _{i=1} ^ m w_i(x_iW - y_i)^2$\n",
    "    \n",
    "    - $W=(X^T\\bar{W}X)^{-1}X^T\\bar{W}Y$     \n",
    "    \n",
    "    -$w^{(i)}=exp(\\dfrac{(x^{(i)}-x)^2}{-2{\\sigma}^2})$"
   ]
  },
  {
   "cell_type": "markdown",
   "metadata": {},
   "source": [
    "$\\bar{W}$ 其中：对角线非0，非对角线全部是0，对角线上取值：$w_{ii} = 正态分布的根据x与y误差取概率值$"
   ]
  },
  {
   "cell_type": "markdown",
   "metadata": {},
   "source": [
    "1. 已知一个样本集合X，Y\n",
    "\n",
    "2. 预测值一个x_, 根据x_，计算【局部加权矩阵】\n",
    "    (x_ - xi)的平方，求正态分布的结果\n"
   ]
  },
  {
   "cell_type": "markdown",
   "metadata": {},
   "source": [
    "- 局部加权的实现代码\n",
    "\n"
   ]
  },
  {
   "cell_type": "code",
   "execution_count": 77,
   "metadata": {},
   "outputs": [
    {
     "data": {
      "image/png": "[encoded data removed]",
      "text/plain": [
       "<Figure size 576x432 with 1 Axes>"
      ]
     },
     "metadata": {
      "needs_background": "light"
     },
     "output_type": "display_data"
    }
   ],
   "source": [
    "% matplotlib  inline\n",
    "import numpy as np\n",
    "import numpy.linalg as la\n",
    "import numpy.random as rd\n",
    "\n",
    "sigma = 0.5\n",
    "\n",
    "def  normal(x_, xi):\n",
    "    # 计算x_与xi的差\n",
    "    diff = x_ - xi\n",
    "    # 求平方\n",
    "    sq= np.matmul(diff, diff.T)/(-2.0 * sigma**2)\n",
    "    # 出-1与方差=1\n",
    "    result = np.exp(sq)\n",
    "    return result\n",
    "    \n",
    "\n",
    "def loacal_wieght(x_):\n",
    "    # 已知样本X，Y\n",
    "    # 加载已知样本\n",
    "    data = np.loadtxt('ex0.txt')\n",
    "    # 格式化数据\n",
    "    X_DATA = data[:, 1]\n",
    "    Y_DATA = data[:, 2]\n",
    "    # 给X加上列，这个列的值全部是1\n",
    "    X = np.zeros((X_DATA.shape[0], 2) ,dtype=np.float)\n",
    "    X[:, 0] = X_DATA\n",
    "    X[:, 1] = 1\n",
    "    \n",
    "    Y = Y_DATA.reshape((Y_DATA.shape[0], 1))\n",
    "    # 根据x_   X, Y计算局部加权矩阵\n",
    "    W_ = np.zeros((X.shape[0],  X.shape[0]), dtype=np.float)\n",
    "    for i in range(X.shape[0]):\n",
    "        W_[i,i] = normal(x_, X[i, :])\n",
    "    \n",
    "    # 根据加权计算出W\n",
    "    W =np.matmul(np.matmul(np.matmul(la.inv(np.matmul(np.matmul(X.T, W_),X)), X.T),W_),Y)\n",
    "    # 根据W计算y\n",
    "    y_ = np.matmul(x_,W)\n",
    "    \n",
    "    return y_\n",
    "\n",
    "% matplotlib inline\n",
    "import matplotlib.pyplot as plt\n",
    "\n",
    "# 可视化工作\n",
    "figure = plt.figure('局部加权回归', figsize=(8, 6))\n",
    "ax = figure.add_axes([0.1, 0.1, 0.8, 0.8])\n",
    "ax.set_xlim(-0.1, 1.5)\n",
    "ax.set_ylim(2.5, 8)\n",
    "# 散点图\n",
    "data = np.loadtxt('ex0.txt')\n",
    "ax.scatter( data[:, 1], data[:, 2] , s=4, c='r', marker='o' )\n",
    "# 虚拟x点，画出回归后的曲线。\n",
    "\n",
    "num =1000\n",
    "x_line = np.linspace(-0.1, 1.5, num)\n",
    "\n",
    "# 构造测试样本\n",
    "x_test = np.zeros((num, 2), dtype=np.float)\n",
    "# x_test第一列设置x_line，第二列设置1\n",
    "x_test[:,0] =x_line\n",
    "x_test[:,1] = 1\n",
    "# 计算x_test的预测值(循环计算每个值)\n",
    "y_test = np.zeros((num, 1), dtype=np.float)\n",
    "for idx in range(num): \n",
    "     y_test[idx] = loacal_wieght(x_test[idx, :])\n",
    "\n",
    "# 绘制直线\n",
    "\n",
    "ax.plot(x_line, y_test, color=(0, 0, 1, 1) )\n",
    "\n",
    "plt.show()\n"
   ]
  },
  {
   "cell_type": "markdown",
   "metadata": {},
   "source": [
    "$W=(X^T\\bar{W}X)^{-1}X^T\\bar{W}Y$     "
   ]
  },
  {
   "cell_type": "markdown",
   "metadata": {},
   "source": [
    "线性回归实际是局部加权回归的一个特列\n",
    "    - sigma >=1 实际上是线性回归（正态分布N(0，1)）"
   ]
  },
  {
   "cell_type": "markdown",
   "metadata": {},
   "source": [
    "# Ridge回归\n",
    "\n",
    "- 岭回归\n"
   ]
  },
  {
   "cell_type": "markdown",
   "metadata": {},
   "source": [
    "- 任何形状的矩阵M\n",
    "    - 可以分解：$M= U \\Sigma V^T$\n",
    "        - $\\Sigma$ 对角矩阵\n",
    "        - U与V是正交矩阵：$U^T U=I$"
   ]
  },
  {
   "cell_type": "markdown",
   "metadata": {},
   "source": [
    "- 求解公式\n",
    "- 从W回退损失函数，回退概率模型"
   ]
  },
  {
   "cell_type": "markdown",
   "metadata": {},
   "source": [
    "$W=(X^TX)^{-1}X^TY$     "
   ]
  },
  {
   "cell_type": "markdown",
   "metadata": {},
   "source": [
    "$W=V (\\Sigma ^T \\Sigma + \\lambda  I )^{-1} \\Sigma ^T U^TY$"
   ]
  },
  {
   "cell_type": "markdown",
   "metadata": {},
   "source": [
    "只要保证$(\\Sigma ^T \\Sigma + \\lambda  I ) $满足可逆，矩阵就有解。"
   ]
  },
  {
   "cell_type": "markdown",
   "metadata": {},
   "source": [
    "$(\\Sigma ^T \\Sigma + \\lambda  I ) $ 对接矩阵，可逆，只要对角线上都不为0,就可逆"
   ]
  },
  {
   "cell_type": "markdown",
   "metadata": {},
   "source": [
    "$\\Sigma ^T \\Sigma   $ 这个矩阵，对角线上市某个值平方"
   ]
  },
  {
   "cell_type": "markdown",
   "metadata": {},
   "source": [
    "- 只要$\\lambda > 0$，则整个矩阵100%可逆。"
   ]
  },
  {
   "cell_type": "markdown",
   "metadata": {},
   "source": [
    "- 岭回归算法：\n",
    "- $W=(X^TX + \\lambda I)^{-1}X^TY$   ，其中$\\lambda > 0 $\n",
    "    - 通过代码检验效果是可以\n",
    "    - 通过数学的推导，来证明岭回归是可信：岭回归的数学本质"
   ]
  },
  {
   "cell_type": "markdown",
   "metadata": {},
   "source": [
    "## 岭回归的代码实现"
   ]
  },
  {
   "cell_type": "code",
   "execution_count": 94,
   "metadata": {},
   "outputs": [
    {
     "name": "stdout",
     "output_type": "stream",
     "text": [
      "[[1.69530937]\n",
      " [3.00773468]]\n"
     ]
    },
    {
     "data": {
      "image/png": "[encoded data removed]",
      "text/plain": [
       "<Figure size 576x432 with 1 Axes>"
      ]
     },
     "metadata": {
      "needs_background": "light"
     },
     "output_type": "display_data"
    }
   ],
   "source": [
    "% matplotlib inline\n",
    "import matplotlib.pyplot as plt\n",
    "import numpy as np\n",
    "import numpy.linalg as la\n",
    "\n",
    "\n",
    "# 加载数据\n",
    "data = np.loadtxt('ex0.txt') \n",
    "X_DATA = data[:, 1]\n",
    "Y_DATA = data[:, 2]\n",
    "\n",
    "X = np.zeros((X_DATA.shape[0], 2), dtype=np.float)\n",
    "X[:, 0] = X_DATA\n",
    "X[:, 1] = 1\n",
    "\n",
    "Y = Y_DATA.reshape(( Y_DATA.shape[0], 1))\n",
    "\n",
    "# 计算W（假设参数lambda）\n",
    "p_lambda = 0.001\n",
    "\n",
    "S1 = np.matmul(X.T, X)\n",
    "S2 = S1 + p_lambda * np.eye(X.shape[1])\n",
    "S3 = la.inv(S2)\n",
    "S4 = np.matmul(S3, X.T) \n",
    "W = np.matmul(S4, Y)\n",
    "print(W)\n",
    "# 预测\n",
    "# 构建n个虚拟的样本，计算预测值\n",
    "num =100\n",
    "x_ = np.linspace(-0.1, 1.1 , num)\n",
    "\n",
    "x_test = np.zeros((num, 2) , dtype=np.float)\n",
    "x_test[:, 0] = x_\n",
    "x_test[:, 1] = 1\n",
    "\n",
    "y_test = np.matmul(x_test, W)\n",
    "# 预测可视化\n",
    "\n",
    "figure = plt.figure('岭回归', figsize=(8,6))\n",
    "ax = figure.add_axes([0.1, 0.1, 0.8, 0.8])\n",
    "ax.scatter(data[:, 1], data[:,2], s=9, c='r')\n",
    "ax.plot(x_, y_test, color=(0,0,1,1))\n",
    "\n",
    "plt.show()\n"
   ]
  },
  {
   "cell_type": "markdown",
   "metadata": {},
   "source": [
    "## 使用sklearn实现岭回归"
   ]
  },
  {
   "cell_type": "code",
   "execution_count": 97,
   "metadata": {},
   "outputs": [
    {
     "name": "stdout",
     "output_type": "stream",
     "text": [
      "[[1.69522337]]\n",
      "[3.00779172]\n"
     ]
    }
   ],
   "source": [
    "from  sklearn.linear_model import Ridge\n",
    "import numpy as np\n",
    "\n",
    "regression = Ridge(0.001, fit_intercept=True)\n",
    "\n",
    "data = np.loadtxt('ex0.txt')\n",
    "\n",
    "X_DATA = data[:, 1]\n",
    "Y_DATA = data[:,2]\n",
    "\n",
    "# 训练\n",
    "X_DATA = X_DATA.reshape(-1, 1)  # -1表示人也行数\n",
    "Y_DATA = Y_DATA.reshape(-1, 1)  # 任意的行数，1列\n",
    "\n",
    "regression.fit(X_DATA, Y_DATA)\n",
    "\n",
    "print(regression.coef_)\n",
    "print(regression.intercept_)\n",
    "\n"
   ]
  },
  {
   "cell_type": "markdown",
   "metadata": {},
   "source": [
    "# 岭回归的总结"
   ]
  },
  {
   "cell_type": "markdown",
   "metadata": {},
   "source": [
    "- 线性回归\n",
    "    1. 假设数据服从线性模型$Y=XW$\n",
    "    2. 线性模型存在误差:$Y= XW +\\epsilon$\n",
    "    3. 假设误差满足正态分布：$\\epsilon ~ N(\\mu, \\sigma) = N(0, 1)$\n",
    "    4. 所有样本的误差概率：似然函数$L(W)$\n",
    "    5. 对似然数求自然对数，推导求最大概率，转变成求最小值：方差公式：损失函数:$loss= \\dfrac{1}{2} \\sum _{i=1}^{n} (y_i - x_iW)^2$\n",
    "    6. 求损失最小值：最下二乘法：$W= (X^TX)^{-1}XY$"
   ]
  },
  {
   "cell_type": "markdown",
   "metadata": {},
   "source": [
    "- 岭回归\n",
    "    - 从最小二乘法不可逆的情况的解决除法，发现岭回归的数学模型"
   ]
  },
  {
   "cell_type": "markdown",
   "metadata": {},
   "source": [
    "- 岭回归模型\n",
    "    - 假设数据服从线性模型$Y=XW$\n",
    "    - 线性模型存在误差\n",
    "    - 误差（误差的后验模型）：测量误差：$\\epsilon$满足正态分布$N(0, \\sigma)$，系数误差也存在，而且满足正态分布$N(0, \\tau)$\n",
    "    - 同样得到概率计算：概率似然函数$L(W)$\n",
    "    - 概率最大，误差最小，求最大值（推导）\n",
    "    - 最小值模型：损失函数 $\\dfrac{1}{2} \\sum \\limits _{i=1}^n (y_i-x_iW)^2+ \\lambda \\sum \\limits _{i=1}^n {w_i}^2$\n",
    "    - $\\lambda= \\dfrac{1}{\\tau ^2}$   \n",
    "    - 一般$\\lambda$必须取>0得数。"
   ]
  },
  {
   "cell_type": "markdown",
   "metadata": {},
   "source": [
    "- 线性回归实岭回归的特例：权重系数是固定，没有误差（方差=0，$\\lambda=0$）"
   ]
  },
  {
   "cell_type": "markdown",
   "metadata": {},
   "source": [
    "- 共同\n",
    "    - 线性回归：线性\n",
    "    - 岭回归：线性\n",
    "    - LASSO回归：线性\n",
    "\n",
    "- 差异：\n",
    "    - 线性回归：\n",
    "        - y值存在误差，服从正态分布$N(0, \\sigma)$\n",
    "        - 权重系数$w_i$没有误差\n",
    "        - 损失函数：$loss = \\dfrac{1}{2} \\sum (y_i - x_iW)^2$\n",
    "        \n",
    "    - 岭回归 = 线性回归 + 惩罚项（二范数）  \n",
    "        - y值存在误差，服从正态分布$N(0, \\sigma)$\n",
    "        - 权重系数$w_i$服从$N(0, \\tau ^2)$：正态分布\n",
    "        - 损失函数：$loss = \\dfrac{1}{2} \\sum (y_i - x_iW)^2  + \\dfrac{1}{\\tau^2} \\sum {w_i}^2$\n",
    "    \n",
    "    - LASSO回归= 线性回归 + 惩罚项（一范数）\n",
    "        - y值存在误差，服从正态分布$N(0, \\sigma)$\n",
    "        - 权重系数$w_i$服从$L(0, \\tau ^2)$：拉普拉斯分布\n",
    "        - 损失函数：$loss = \\dfrac{1}{2} \\sum (y_i - x_iW)^2  + \\dfrac{1}{\\tau^2} \\sum {|w_i|}$\n",
    "        \n",
    "        \n",
    "    - 补充：0范数\n",
    "$w_i, i=1,\\dots, n$ 非0个数= 0范数\n",
    "        "
   ]
  },
  {
   "cell_type": "markdown",
   "metadata": {},
   "source": []
  }
 ],
 "metadata": {
  "kernelspec": {
   "display_name": "Python 3",
   "language": "python",
   "name": "python3"
  },
  "language_info": {
   "codemirror_mode": {
    "name": "ipython",
    "version": 3
   },
   "file_extension": ".py",
   "mimetype": "text/x-python",
   "name": "python",
   "nbconvert_exporter": "python",
   "pygments_lexer": "ipython3",
   "version": "3.6.6"
  },
  "toc": {
   "base_numbering": 1,
   "nav_menu": {},
   "number_sections": true,
   "sideBar": true,
   "skip_h1_title": false,
   "title_cell": "Table of Contents",
   "title_sidebar": "Contents",
   "toc_cell": false,
   "toc_position": {},
   "toc_section_display": true,
   "toc_window_display": false
  }
 },
 "nbformat": 4,
 "nbformat_minor": 2
}
