{
 "cells": [
  {
   "cell_type": "markdown",
   "metadata": {},
   "source": [
    "# 总结"
   ]
  },
  {
   "cell_type": "markdown",
   "metadata": {},
   "source": [
    "1. 背景\n",
    "    - 线性回归的分类的问题\n",
    "        - 1. 线性回归的计算结果当成概率？\n",
    "        - 2. 线性回归的模型建立输入值，输出值基础上（整个模型不是基于分类：基于预测规律：预测的可靠性，通过拟合度来度量）。"
   ]
  },
  {
   "cell_type": "markdown",
   "metadata": {},
   "source": [
    "2. 逻辑回归的模型的前提条件：\n",
    "    - 线性模型的输出，假设是概率；. \n",
    "    - 建立模型的时候，一开始建立的是一个分类模型"
   ]
  },
  {
   "cell_type": "markdown",
   "metadata": {},
   "source": [
    "3. 逻辑回归模型\n",
    "    - **线性** **概率** **分类**模型：\n",
    "        - $y_A = xW_A；\\qquad;y_A\\text{是x属于A类的概率}$\n",
    "        - $y_B = xW_B；\\qquad;y_B\\text{是x属于B类的概率}$"
   ]
  },
  {
   "cell_type": "markdown",
   "metadata": {},
   "source": [
    "4. 误差模型（算法：统计学习范畴）\n",
    "    - 统计学习通用模型（分析问题的入口模型）：误差模型；\n",
    "        - $y_A = xW_A + \\epsilon _A；\\qquad;y_A\\text{是x属于A类的概率}$\n",
    "        - $y_B = xW_B + \\epsilon _B；\\qquad;y_B\\text{是x属于B类的概率}$"
   ]
  },
  {
   "cell_type": "markdown",
   "metadata": {},
   "source": [
    "5. 简单的形式推导\n",
    "    - 合并上面的误差模型\n",
    "        - $ y = \\begin{cases} \n",
    "        0,  \\qquad xW_A +\\epsilon_A - xW_B - \\epsilon _B >0    \\\\\n",
    "        1,    \\qquad  xW_A +\\epsilon_A - xW_B - \\epsilon _B<=0  \\\\\n",
    "        \\end{cases}$\n",
    "        - $ y = \\begin{cases} \n",
    "        0,  \\qquad xW +\\epsilon >0    \\\\\n",
    "        1,    \\qquad  xW+\\epsilon <=0  \\\\\n",
    "        \\end{cases}$"
   ]
  },
  {
   "cell_type": "markdown",
   "metadata": {},
   "source": [
    "- 更新以后的分类模型\n",
    "    - $ y = \\begin{cases} \n",
    "        0,  \\qquad xW +\\epsilon >0    \\\\\n",
    "        1,    \\qquad  xW+\\epsilon <=0  \\\\\n",
    "        \\end{cases}$"
   ]
  },
  {
   "cell_type": "markdown",
   "metadata": {},
   "source": [
    "- 假设概率计算误差遵循正态分布\n",
    "    - $\\epsilon_A$ ~ $N(\\mu,\\sigma^2)$\n",
    "    - $\\epsilon_B$ ~ $N(\\mu,\\sigma^2)$\n",
    "    - $\\epsilon = \\epsilon_A -\\epsilon_B$ ~ ?  \n",
    "    \n",
    "    - 计算$p(\\epsilon)$ 服从实际上二项分布\n",
    "        - $p(\\epsilon_x) =  p_{\\epsilon _A} ^{\\epsilon}   p_{\\epsilon_B} ^{1-\\epsilon}$   误差产生的概率"
   ]
  },
  {
   "cell_type": "markdown",
   "metadata": {},
   "source": [
    "- 计算出误差的概率公式：\n",
    "    - $p_{\\epsilon_A} = F(0, \\sigma ^ 2)$   : 误差在某范围内的概率：概率累积函数\n",
    "    - $L(W) = \\prod (p_{\\epsilon} )^{\\epsilon} (1- p_{\\epsilon} )^{1- \\epsilon}$\n",
    "    \n",
    "    - $p(\\epsilon)$是正态分布的累积概率\n",
    "    - 正态分布没有累积函数，所有使用逻辑分布替代（是因为累积概率在只是-1.7的时候，非常接近），使用逻辑分布费累积函数计算误差的概率。"
   ]
  },
  {
   "cell_type": "markdown",
   "metadata": {},
   "source": [
    "- 损失函数\n",
    "    - 概率似然函数\n",
    "        - $L(W) = \\prod (p_{\\epsilon} )^{\\epsilon} (1- p_{\\epsilon} )^{1- \\epsilon}$\n",
    "    - 根据似然函数求最大值，推导\n",
    "        - $𝐿𝑜𝑠𝑠=𝐽(𝑊)=−𝑙(𝑊)=−𝑙𝑛(𝐿(𝑊))=−∑𝑖𝑦𝑖 𝑙𝑛(ℎ(𝑋𝑖))+(1−𝑦𝑖)ln(1−ℎ(𝑋𝑖))$"
   ]
  },
  {
   "cell_type": "markdown",
   "metadata": {},
   "source": [
    "- 统计学习的最终模型（梯度下降）：\n",
    "    - 值的计算模型\n",
    "        - $y = S(xW)$     # 分类：预测模型\n",
    "        - $y=S^{-1}(y)= xW$\n",
    "    - 损失函数\n",
    "        - 求最小值"
   ]
  },
  {
   "cell_type": "markdown",
   "metadata": {},
   "source": [
    "# 逻辑回归模型求解？\n",
    "    \n",
    "    - 梯度下降法\n",
    "    "
   ]
  },
  {
   "cell_type": "markdown",
   "metadata": {},
   "source": [
    "## S函数的可视化\n",
    "\n",
    "- 逻辑概率密度累积函数： $S(x) = \\dfrac{1}{1 + e ^{-x}}$ \n",
    "\n",
    "- S函数的导数：逻辑概率密度函数\n",
    "    - $p(x) = \\dfrac{e ^ {-x}}{ (1 + e ^{-x}) ^2}$\n",
    "    \n",
    "    \n",
    "- 背景：\n",
    "    - 正态分布的概率密度函数没有累积分布函数\n",
    "    - 正态概率密度分布函数：\n",
    "        - $p(x) = \\dfrac{1}{\\sqrt{2 \\pi} \\sigma}  e^{- \\dfrac{ (x-\\mu)^2} { 2 \\sigma ^2}}$"
   ]
  },
  {
   "cell_type": "markdown",
   "metadata": {},
   "source": [
    "- $S(x) = \\int _{-\\infty} ^ x\\dfrac{e^{-z}}{(1+ e ^{-z})^2}dz = \\dfrac{1}{1+e^{-x}}$"
   ]
  },
  {
   "cell_type": "markdown",
   "metadata": {},
   "source": [
    "- $F(x) =  \\int _{-infty} ^ x    \\dfrac{1}{\\sqrt{2 \\pi} \\sigma}  e^{- \\dfrac{ (z-\\mu)^2} { 2 \\sigma ^2}} dz = \\text{不存在一个函数可以表示这个积分}$ \n",
    "\n",
    "    - 使用逻辑分布替代正态分布\n",
    "        - 不是逻辑密度函数与正态分布的密度接近，而是积分结果函数的值接近。"
   ]
  },
  {
   "cell_type": "markdown",
   "metadata": {},
   "source": [
    "- 练习\n",
    "    - 绘制逻辑分布密度函数与正态分布密度函数\n",
    "    - 绘制S函数与正态分布的累积函数曲线（无法使用公式表达）"
   ]
  },
  {
   "cell_type": "code",
   "execution_count": 4,
   "metadata": {},
   "outputs": [
    {
     "data": {
      "image/png": "[encoded data removed]",
      "text/plain": [
       "<Figure size 576x288 with 1 Axes>"
      ]
     },
     "metadata": {
      "needs_background": "light"
     },
     "output_type": "display_data"
    }
   ],
   "source": [
    "%matplotlib inline\n",
    "import matplotlib.pyplot as plt\n",
    "import numpy as np\n",
    "# 构建绘图环境\n",
    "figure = plt.figure('逻辑分布与正态分布：密度函数', figsize=(8, 4))\n",
    "ax = figure.add_axes([0.1, 0.1, 0.8, 0.8])\n",
    "\n",
    "# 准备图的数据（x【连续线性的数据】，y【使用函数公式计算或者积分计算】）\n",
    "x = np.linspace(-10,10, 100)\n",
    "\n",
    "def func_normal(x_, mu_, sigma_):\n",
    "    c1 = 1.0 / np.sqrt(2 * np.pi ) * sigma_\n",
    "    exp = - (x_ - mu_) ** 2 / 2.0 * ( sigma_ ** 2)\n",
    "    c2 = np.exp( exp )\n",
    "    return   c1 * c2\n",
    "\n",
    "def func_logistic(x_):\n",
    "    c1 = np.exp(- x_)\n",
    "    c2 = (1.0 + c1 ) ** 2\n",
    "    return c1 / c2\n",
    "\n",
    "y_normal =  func_normal(x, 0,  1)\n",
    "y_logistic = func_logistic(x)\n",
    "\n",
    "# 绘制图形（修饰）\n",
    "ax.plot(x, y_normal, color=(1, 0, 0, 1), label='高斯概率密度函数')\n",
    "ax.plot(x, y_logistic, color=(0, 0, 1, 1), label='逻辑概率密度函数')\n",
    "\n",
    "ax.legend()\n",
    "plt.show()"
   ]
  },
  {
   "cell_type": "markdown",
   "metadata": {},
   "source": [
    "- 高斯分布与逻辑分布，他们的概率密度函数存在差距"
   ]
  },
  {
   "cell_type": "markdown",
   "metadata": {},
   "source": [
    "- 高斯概率密度累积分布 与 逻辑概率密度累积分布"
   ]
  },
  {
   "cell_type": "code",
   "execution_count": 18,
   "metadata": {},
   "outputs": [
    {
     "data": {
      "image/png": "[encoded data removed]",
      "text/plain": [
       "<Figure size 576x288 with 1 Axes>"
      ]
     },
     "metadata": {
      "needs_background": "light"
     },
     "output_type": "display_data"
    }
   ],
   "source": [
    "%matplotlib inline\n",
    "import matplotlib.pyplot as plt\n",
    "import numpy as np\n",
    "import scipy.integrate as it   # 积分计算函数 \n",
    "\n",
    "# 准备绘图环境\n",
    "figure = plt.figure('S函数与高斯累积分布函数', figsize=(8, 4))\n",
    "ax = figure.add_axes([0.1, 0.1, 0.8, 0.8])\n",
    "\n",
    "# 准备数据（计算积分）\n",
    "x = np.linspace(-10,10, 1000)\n",
    "\n",
    "def func_normal(x_, mu_, sigma_):\n",
    "    c1 = 1.0 / np.sqrt(2 * np.pi ) * sigma_\n",
    "    exp = - (x_ - mu_) ** 2 / 2.0 * ( sigma_ ** 2)\n",
    "    c2 = np.exp( exp )\n",
    "    return   c1 * c2\n",
    "\n",
    "def func_S(x_):\n",
    "    return 1.0 / ( 1.0 + np.exp( - 1.702 * x_ ) )   # 调整x的系数\n",
    "\n",
    "def func_F(x_, mu_, sigma_):\n",
    "    # 对func_normal函数进行积分\n",
    "    r = it.quad(    # 只支持标量计算\n",
    "        func_normal,   # 被积分的函数\n",
    "        -np.inf,           # 积分的下限\n",
    "        x_,                 # 积分的上限\n",
    "        args=(mu_,  sigma_) \n",
    "    )   # 返回二元元组：第一个是积分，第二个是积分误差上限\n",
    "    return r[0]  # 积分的结果\n",
    "\n",
    "\n",
    "# print(func_F(1.0, 0.0, 1.0))\n",
    "y_S = func_S(x)\n",
    "y_F = [func_F(x_, 0.0, 1.0) for x_ in  x ]   # 生成器表达式=等同于lambda表达式\n",
    "\n",
    "#  y_F = func_F(x)   # 因为积分函数quad不支持数据序列,，使用生成器表达式替换序列（[], ndarrary, DataFrame）\n",
    "\n",
    "# 绘制曲线\n",
    "ax.plot(x, y_S, color=(1, 0, 0, 1), label='S函数$S(x) = \\dfrac{1}{1 + e ^{-x}}$')\n",
    "ax.plot(x, y_F, color=(0, 0, 1, 1), label='高斯累积分布函数')\n",
    "\n",
    "ax.legend()\n",
    "plt.show()"
   ]
  },
  {
   "cell_type": "markdown",
   "metadata": {},
   "source": [
    "- 使用逻辑分布替代高斯分布的原因：累积函数在逻辑分布取系数1.702的时候，完全接近。"
   ]
  },
  {
   "cell_type": "markdown",
   "metadata": {},
   "source": [
    "### 关于S函数\n",
    "\n",
    "- $S(x)$函数是逻辑概率密度函数的积分。\n",
    "- $S(x)$函数的导数是逻辑概率密度函数。\n",
    "    - $S ^ \\prime (x) = \\dfrac{e ^{-x}}{(1 + e ^{-x})^2} = S(x)(1-S(x)) = \\dfrac{1}{1 + e ^{-x}}  (1-  \\dfrac{1}{1 + e ^{-x}})$"
   ]
  },
  {
   "cell_type": "markdown",
   "metadata": {},
   "source": [
    "- 写一个程序验证。"
   ]
  },
  {
   "cell_type": "markdown",
   "metadata": {},
   "source": [
    "- 逻辑回归的\n",
    "    -  $Loss=J(W)=-l(W)=-ln(L(W))=-\\sum\\limits_{i}y_i\\ ln(h(X_i)) +(1-y_i)\\ln(1-h(X_i))$      \n",
    "    - 上述公式被称为交叉熵（Cross   Entropy）  \n",
    "    - 其中$h(X_i)=S(X_iW)= \\dfrac{1}{1+e^{-X_iW}}$ "
   ]
  },
  {
   "cell_type": "markdown",
   "metadata": {},
   "source": [
    "- 求损失函数的最小值\n",
    "    - 找到W使得损失函数最小。\n",
    "    - 以W为未知元，求损失函数的最小值。\n",
    "    \n",
    "    - 损失函数凸函数。\n",
    "        - 因为凸函数，所以存在最小值。\n",
    "    "
   ]
  },
  {
   "cell_type": "markdown",
   "metadata": {},
   "source": [
    "- 梯度下降法的原理\n",
    "    - 永远找不到最小值\n",
    "    - 算法：\n",
    "        - 如果初始化W，计算出在这个W点处的导数< 0  ：W在最小值的W0的左边，如果想接近，就增加W。\n",
    "        - 导数>0 W在最小值右边，如果想接近，就减少W。\n",
    "        - 这个循环n次，有理由相信，得到W就近最小值W0"
   ]
  },
  {
   "cell_type": "markdown",
   "metadata": {},
   "source": [
    "- 梯度下降法的关键值：\n",
    "    - 方向\n",
    "        - 最小值为拐点：左右觉得（损失函数的导数：切线：斜率：）右边：>0 左边 <0\n",
    "        - W的增量的大小。"
   ]
  },
  {
   "cell_type": "markdown",
   "metadata": {},
   "source": [
    "- 梯度算法：\n",
    "    - 给定初始W（随机）\n",
    "    - 决定方向：\n",
    "        - 求这个W处的导数，>0 则减一个增量， <0 加上增量   $\\Delta _W$\n",
    "        - 为了增量，在增量增加一个系数 $\\eta$  \n",
    "        \n",
    "        - $W_{new} = W_{old} - \\eta \\Delta_W $  按照这个公式，循环n次以后，我们有理由相信，最后W就是使损失最小的W。\n",
    "            - $\\Delta _W$取成损失函数在$W$处的导数。\n",
    "        "
   ]
  },
  {
   "cell_type": "markdown",
   "metadata": {},
   "source": [
    "- 梯度下降的核心：\n",
    "    - 取$\\eta$很关键：经验。\n",
    "    - 决定方向很重要：导数（计算机是无法求导数：找到一个求导数的方法）。\n",
    "    "
   ]
  },
  {
   "cell_type": "markdown",
   "metadata": {},
   "source": [
    "- $loss = -ln L $ 似然函数"
   ]
  },
  {
   "cell_type": "markdown",
   "metadata": {},
   "source": [
    "- $J =loss (y)= - \\sum \\limits _{i=1} ^ n  y_i ln y_i  + (1- y_i) ln(1-y_i)$"
   ]
  },
  {
   "cell_type": "markdown",
   "metadata": {},
   "source": [
    "- $  \\dfrac{ \\partial {J}} {\\partial{ y}}$"
   ]
  },
  {
   "cell_type": "markdown",
   "metadata": {},
   "source": [
    "- $y = S(\\bar{x})$"
   ]
  },
  {
   "cell_type": "markdown",
   "metadata": {},
   "source": [
    "- $J =loss (\\bar{x})= - \\sum \\limits _{i=1} ^ n  S(\\bar{x_i}) ln S(\\bar{x_i})  + (1- S(\\bar{x_i})) ln(1-S(\\bar{x_i}))$"
   ]
  },
  {
   "cell_type": "markdown",
   "metadata": {},
   "source": [
    "- $  \\dfrac{ \\partial {J}} {\\partial{ \\bar{x}}}$"
   ]
  },
  {
   "cell_type": "markdown",
   "metadata": {},
   "source": [
    "- $J =loss (W)= - \\sum \\limits _{i=1} ^ n  S(x_iW) ln S(x_iW)  + (1- S(x_iW)) ln(1-S(x_iW))$"
   ]
  },
  {
   "cell_type": "markdown",
   "metadata": {},
   "source": [
    "$\\bar{x} = xW$"
   ]
  },
  {
   "cell_type": "markdown",
   "metadata": {},
   "source": [
    "- $  \\dfrac{ \\partial {J}} {\\partial{ W}}$"
   ]
  },
  {
   "cell_type": "markdown",
   "metadata": {},
   "source": [
    "- $y =S(xW)$   逻辑回归的模型\n",
    "    - 正向求值"
   ]
  },
  {
   "cell_type": "markdown",
   "metadata": {},
   "source": [
    "- $  \\dfrac{ \\partial {J}} {\\partial{ W}}$"
   ]
  },
  {
   "cell_type": "markdown",
   "metadata": {},
   "source": [
    "- $\\dfrac{\\partial{J}}{\\bar{x}}    \\dfrac{\\partial{\\bar{x}}}{\\partial{W}}$"
   ]
  },
  {
   "cell_type": "markdown",
   "metadata": {},
   "source": [
    "- $\\dfrac{\\partial{J}}{\\partial\\bar{x}}    \\dfrac{\\partial{ \\bar{x} } }{ \\partial{y} }   \\dfrac{\\partial{y}}{\\partial{W}}$\n",
    "    - 逆向求求导（增量：W的梯度方向）"
   ]
  },
  {
   "cell_type": "markdown",
   "metadata": {},
   "source": [
    "- 最好的形式： $\\dfrac{\\partial{J}}{\\partial{y}}    \\dfrac{\\partial{ y } }{ \\partial{\\bar{x}} }   \\dfrac{\\partial{\\bar{x}}}{\\partial{W}}$\n",
    "    - 逆向求求导（增量：W的梯度方向）"
   ]
  },
  {
   "cell_type": "markdown",
   "metadata": {},
   "source": [
    "- $y =S(\\bar{x})$ \n",
    "- $\\bar {x} = xW$"
   ]
  },
  {
   "cell_type": "markdown",
   "metadata": {},
   "source": [
    "-  $\\dfrac{\\partial{J}}{\\partial{y}}    \\dfrac{\\partial{ y } }{ \\partial{\\bar{x}} }   x$"
   ]
  },
  {
   "cell_type": "markdown",
   "metadata": {},
   "source": [
    "-  $\\dfrac{\\partial{J}}{\\partial{y}}   S^{\\prime}(\\bar{x})  x$"
   ]
  },
  {
   "cell_type": "markdown",
   "metadata": {},
   "source": [
    "-  $ \\nabla _W= loss ^{\\prime}(y)   S^{\\prime}(\\bar{x})  x$"
   ]
  },
  {
   "cell_type": "markdown",
   "metadata": {},
   "source": [
    "- $loss= \\sum (y_i - x_iW) ^2$  ：线性回归的梯度下降也可以简单实现。"
   ]
  },
  {
   "cell_type": "markdown",
   "metadata": {},
   "source": [
    "- $J =loss (y)= - \\sum \\limits _{i=1} ^ n  y_i ln y_i  + (1- y_i) ln(1-y_i)$ ： 逻辑回归的损失函数"
   ]
  },
  {
   "cell_type": "markdown",
   "metadata": {},
   "source": [
    "# 逻辑回归的梳理\n"
   ]
  },
  {
   "cell_type": "markdown",
   "metadata": {},
   "source": [
    "- 分类模型：\n",
    "    - $p(x) = S(xW) $\n",
    "        - 根据计算的结果，得到概率p，根据概率就可以进行分类。\n",
    "\n",
    "- W的更新模型：\n",
    "    - $W_{new} = W_{old} - \\eta \\nabla _W$"
   ]
  },
  {
   "cell_type": "markdown",
   "metadata": {},
   "source": [
    "- 更新量的计算\n",
    "    - $\\nabla _W = loss ^{\\prime}(y) * S^{\\prime}(\\bar{x})  x $"
   ]
  },
  {
   "cell_type": "markdown",
   "metadata": {},
   "source": [
    "- 导数公式\n",
    "    - 损失函数的导数\n",
    "        - $J^\\prime(\\bar{y_i})=- \\dfrac{1}{m} \\sum\\limits_{i=1}^{m}\\dfrac{y_i-\\bar{y_i}}{\\bar{y_i}(1-\\bar{y_i})}$ \n",
    "    - 逻辑分布函数的导数\n",
    "        - $S^{\\prime}(x) = S(x)(1-S(x))$"
   ]
  },
  {
   "cell_type": "markdown",
   "metadata": {},
   "source": []
  }
 ],
 "metadata": {
  "kernelspec": {
   "display_name": "Python 3",
   "language": "python",
   "name": "python3"
  },
  "language_info": {
   "codemirror_mode": {
    "name": "ipython",
    "version": 3
   },
   "file_extension": ".py",
   "mimetype": "text/x-python",
   "name": "python",
   "nbconvert_exporter": "python",
   "pygments_lexer": "ipython3",
   "version": "3.6.6"
  },
  "toc": {
   "base_numbering": 1,
   "nav_menu": {},
   "number_sections": true,
   "sideBar": true,
   "skip_h1_title": false,
   "title_cell": "Table of Contents",
   "title_sidebar": "Contents",
   "toc_cell": false,
   "toc_position": {},
   "toc_section_display": true,
   "toc_window_display": false
  }
 },
 "nbformat": 4,
 "nbformat_minor": 2
}
