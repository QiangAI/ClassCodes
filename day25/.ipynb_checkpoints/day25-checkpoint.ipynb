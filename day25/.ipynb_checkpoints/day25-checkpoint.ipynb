{
 "cells": [
  {
   "cell_type": "markdown",
   "metadata": {},
   "source": [
    "# 过拟合与交叉验证\n",
    "\n",
    "- 训练集与测试集分开\n",
    "- 怎么分：\n",
    "    - 存在各种不同切分方案"
   ]
  },
  {
   "cell_type": "markdown",
   "metadata": {},
   "source": [
    "## 样本切分方案\n",
    "    "
   ]
  },
  {
   "cell_type": "markdown",
   "metadata": {},
   "source": [
    "- 基本交叉验证- 随机切分\n",
    "     - 每次切分都是随机成两个部分。\n",
    "     \n",
    "- K折交叉验证\n",
    "    - 把样本分成K份。每次使用1分作为测试，K-1分作为训练\n",
    "    - 产生K个分类\n",
    "    \n",
    "- 留一交叉验证\n",
    "    - 1一个作为测试，其余全是训练（用于样本数比较少）\n",
    "    \n",
    "- 留p交叉验证\n",
    "    - p个作为测试吗区域作为训练\n",
    "    "
   ]
  },
  {
   "cell_type": "markdown",
   "metadata": {},
   "source": [
    "## sklearn样本切分"
   ]
  },
  {
   "cell_type": "markdown",
   "metadata": {},
   "source": [
    "### 切分函数\n",
    "\n",
    "- 仅仅是切分的功能"
   ]
  },
  {
   "cell_type": "code",
   "execution_count": 20,
   "metadata": {},
   "outputs": [],
   "source": [
    "from sklearn.model_selection import train_test_split\n",
    "import sklearn.datasets as ds\n",
    "\n",
    "# 加载数据，\n",
    "data, target = ds.load_iris(return_X_y=True)\n",
    "# 切分\n",
    "data_train, data_test, target_train, target_test = train_test_split(data, target, test_size=0.2)\n",
    "\n",
    "# 数据打乱以后，data与target的索引还是一一对应"
   ]
  },
  {
   "cell_type": "markdown",
   "metadata": {},
   "source": [
    "### 切分类\n",
    "\n",
    "- 切分方案"
   ]
  },
  {
   "cell_type": "code",
   "execution_count": 21,
   "metadata": {
    "scrolled": true
   },
   "outputs": [],
   "source": [
    "from sklearn.model_selection import train_test_split, KFold\n",
    "import sklearn.datasets as ds\n",
    "data, target = ds.load_iris(return_X_y=True)\n",
    "\n",
    "kf = KFold(n_splits=5, shuffle=True)  # 分成K份以后，随机取一份 \n",
    "re_split = kf.split(data)   # 返回的是下标\n",
    "for train, test in re_split:\n",
    "#     print(sl)\n",
    "    data_test = data.take(test, axis=0)\n",
    "#     print(data_test)\n",
    "    break\n",
    "\n"
   ]
  },
  {
   "cell_type": "markdown",
   "metadata": {},
   "source": [
    "### 使用交叉验证来训练与测试决策树"
   ]
  },
  {
   "cell_type": "code",
   "execution_count": 38,
   "metadata": {},
   "outputs": [
    {
     "name": "stdout",
     "output_type": "stream",
     "text": [
      "测试样本数：30，正确个数：29，正确率：96.66666666666667%\n"
     ]
    }
   ],
   "source": [
    "import numpy as np\n",
    "import sklearn.datasets as ds\n",
    "from sklearn.model_selection import train_test_split\n",
    "from sklearn.tree import DecisionTreeClassifier\n",
    "\n",
    "# 加载数据集\n",
    "data, target = ds.load_iris(return_X_y=True)\n",
    "# 切分成训练集与测试集\n",
    "data_train, data_test, target_train, target_test = train_test_split(data, target, test_size=0.2)\n",
    "# 使用训练集训练\n",
    "classifier = DecisionTreeClassifier()\n",
    "classifier.fit(data_train, target_train)\n",
    "# 使用测试集测试（观察效果）\n",
    "pre = classifier.predict(data_test)\n",
    "num = len(target_test)\n",
    "correct_num = (pre == target_test).sum()\n",
    "\n",
    "print(F'测试样本数：{num}，正确个数：{correct_num}，正确率：{100.0* correct_num/num }%')"
   ]
  },
  {
   "cell_type": "code",
   "execution_count": 40,
   "metadata": {},
   "outputs": [
    {
     "name": "stdout",
     "output_type": "stream",
     "text": [
      "测试样本数：15，正确个数：13，正确率：86.66666666666667%\n",
      "测试样本数：15，正确个数：14，正确率：93.33333333333333%\n",
      "测试样本数：15，正确个数：14，正确率：93.33333333333333%\n",
      "测试样本数：15，正确个数：15，正确率：100.0%\n",
      "测试样本数：15，正确个数：14，正确率：93.33333333333333%\n",
      "测试样本数：15，正确个数：15，正确率：100.0%\n",
      "测试样本数：15，正确个数：15，正确率：100.0%\n",
      "测试样本数：15，正确个数：15，正确率：100.0%\n",
      "测试样本数：15，正确个数：13，正确率：86.66666666666667%\n",
      "测试样本数：15，正确个数：15，正确率：100.0%\n"
     ]
    }
   ],
   "source": [
    "import numpy as np\n",
    "import sklearn.datasets as ds\n",
    "from sklearn.model_selection import train_test_split\n",
    "from sklearn.tree import DecisionTreeClassifier\n",
    "\n",
    "# 加载数据集\n",
    "data, target = ds.load_iris(return_X_y=True)\n",
    "classifier = DecisionTreeClassifier()\n",
    "\n",
    "# 切分成训练集与测试集\n",
    "kf = KFold(n_splits=10, shuffle=True)  # 分成K份以后，随机取一份 \n",
    "re_split = kf.split(data)   # 返回的是下标\n",
    "\n",
    "# 使用训练集训练\n",
    "for  train_index, test_index in re_split:\n",
    "    data_train = data.take(train_index, axis=0)\n",
    "    target_train = target.take(train_index, axis=0)\n",
    "    \n",
    "    data_test= data.take(test_index,axis=0)\n",
    "    target_test = target.take(test_index,axis=0)\n",
    "    \n",
    "    classifier.fit(data_train, target_train)\n",
    "    # 使用测试集测试（观察效果）\n",
    "    pre = classifier.predict(data_test)\n",
    "    num = len(target_test)\n",
    "    correct_num = (pre == target_test).sum()\n",
    "\n",
    "    print(F'测试样本数：{num}，正确个数：{correct_num}，正确率：{100.0* correct_num/num }%')"
   ]
  },
  {
   "cell_type": "markdown",
   "metadata": {},
   "source": [
    "# KNN近邻算法\n",
    "    - K-nearest neibourhoods"
   ]
  },
  {
   "cell_type": "markdown",
   "metadata": {},
   "source": [
    "- 算法: $X = [x_1, x_2, \\dots x_n] $，这n个样本属于m个类。存在待分类的样本$x$\n",
    "    1. 计算$x$到$X$所有样本点的距离$D= [d_1,d_2,\\dots,d_n]$\n",
    "    2. 对$D$排序，取前面K个最小的距离。k的值可以取1-150\n",
    "    3. 把k个距离对应的样本，统计他们所在的类别。\n",
    "    4. 那个类别中样本最多，我们认为x属于那个类。"
   ]
  },
  {
   "cell_type": "markdown",
   "metadata": {},
   "source": [
    "# KNN的算法实现\n"
   ]
  },
  {
   "cell_type": "code",
   "execution_count": 47,
   "metadata": {},
   "outputs": [
    {
     "data": {
      "text/plain": [
       "1"
      ]
     },
     "execution_count": 47,
     "metadata": {},
     "output_type": "execute_result"
    }
   ],
   "source": [
    "import numpy as np\n",
    "import sklearn.datasets as ds\n",
    "\n",
    "def knn(train_data, train_label, sample,  k):\n",
    "    \n",
    "    # 计算待分类的样本到所有训练样本的距离\n",
    "    diff = ((sample - train_data)**2).sum(axis =1 )\n",
    "    distances = np.sqrt(diff)   # 每个距离索引对应样本的位置\n",
    "    #  print(distances)\n",
    "    # 排序\n",
    "    sorted_index = distances.argsort()   # 从小到大\n",
    "    # 取k个最小的,顺便统计每个类的统计数量\n",
    "    categories = {}  # key=类别，value=所在类别的统计量\n",
    "    for i in range(k):\n",
    "        # 取类别\n",
    "        category = train_label[sorted_index[i]]\n",
    "        categories[category] = categories.get(category, 0) + 1  # 编程技巧\n",
    "    # print(categories)\n",
    "    # 统计k中样本所在类别的数量，数量最大的就是分类\n",
    "    # 对字典categories按照值排序，取出一个的key就是类别\n",
    "    sorted_categories = sorted(categories.items(),  key=lambda x: x[1], reverse=True)  # 排序返回列表\n",
    "    \n",
    "    return sorted_categories[0][0]\n",
    "\n",
    "\n",
    "data, target = ds.load_iris(return_X_y=True)\n",
    "c = knn(data, target, data[50], 20)\n",
    "c"
   ]
  },
  {
   "cell_type": "markdown",
   "metadata": {},
   "source": [
    "- 找出最佳的K值。"
   ]
  }
 ],
 "metadata": {
  "kernelspec": {
   "display_name": "Python 3",
   "language": "python",
   "name": "python3"
  },
  "language_info": {
   "codemirror_mode": {
    "name": "ipython",
    "version": 3
   },
   "file_extension": ".py",
   "mimetype": "text/x-python",
   "name": "python",
   "nbconvert_exporter": "python",
   "pygments_lexer": "ipython3",
   "version": "3.6.6"
  },
  "toc": {
   "base_numbering": 1,
   "nav_menu": {},
   "number_sections": true,
   "sideBar": true,
   "skip_h1_title": false,
   "title_cell": "Table of Contents",
   "title_sidebar": "Contents",
   "toc_cell": false,
   "toc_position": {},
   "toc_section_display": true,
   "toc_window_display": true
  }
 },
 "nbformat": 4,
 "nbformat_minor": 2
}
