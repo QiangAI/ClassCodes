{
 "cells": [
  {
   "cell_type": "markdown",
   "metadata": {},
   "source": [
    "# 终端可视化技术\n",
    "\n",
    "- 可视化开发都是采用模块封装（框架）\n",
    "- 可视化使用的原生技术\n",
    "    1. HTML5（HTML + CSS + DOM【VBScript + JavaScript + JScript】）：Canvas\n",
    "    2. SVG(Scale Vector Graphic)\n",
    "    3. WebGL（OpenGL）\n",
    "    "
   ]
  },
  {
   "cell_type": "markdown",
   "metadata": {},
   "source": [
    "# SVG\n",
    "\n",
    "- VML\n",
    "    - 微软office13内部存储格式采用vml。"
   ]
  },
  {
   "cell_type": "markdown",
   "metadata": {},
   "source": [
    "- XML语言标准(DTD, XSD)\n",
    "    - MathML\n",
    "    - VML\n",
    "    - VoiceML\n",
    "    - ......\n",
    "    "
   ]
  },
  {
   "cell_type": "markdown",
   "metadata": {},
   "source": [
    "- 历史：\n",
    "    - SVG独立使用，使用专门的软件打开，编辑，保存。 文件类型text/svg\n",
    "    - HTML嵌入SVG：embed, object\n",
    "    - HTML5直接支持SVG"
   ]
  },
  {
   "cell_type": "markdown",
   "metadata": {},
   "source": [
    "- 可视化的基础绘制能力\n",
    "    - 基本的几何图形\n",
    "        - 线\n",
    "            - 直线\n",
    "            - 折线\n",
    "        - rect\n",
    "            - roundedrect\n",
    "        - 椭圆\n",
    "            -  圆\n",
    "            \n",
    "        - 弧\n",
    "            - 弦弧\n",
    "            - 饼弧\n",
    "            - 开弧\n",
    "        \n",
    "        - path\n",
    "            - 图形组合\n",
    "        \n",
    "    - 文本处理\n",
    "        \n",
    "    - 图像绘制\n",
    "            "
   ]
  },
  {
   "cell_type": "markdown",
   "metadata": {},
   "source": [
    "# WebGL\n",
    "\n",
    "- 脱胎于OpenGL\n",
    "    - OpenGL ES"
   ]
  },
  {
   "cell_type": "markdown",
   "metadata": {},
   "source": [
    "- WebGL \n",
    "    - 实际上在Canvas的基础上，扩展3D绘制能力。"
   ]
  },
  {
   "cell_type": "markdown",
   "metadata": {},
   "source": [
    "- WebGL帮助文档\n",
    "    - W3C的官网由标准描述。"
   ]
  },
  {
   "cell_type": "markdown",
   "metadata": {},
   "source": [
    "# ECharts可视化"
   ]
  },
  {
   "cell_type": "markdown",
   "metadata": {},
   "source": [
    "## ECharts编程模式"
   ]
  },
  {
   "cell_type": "markdown",
   "metadata": {},
   "source": [
    "## 绘图的结构"
   ]
  },
  {
   "cell_type": "markdown",
   "metadata": {},
   "source": [
    "## 图元"
   ]
  },
  {
   "cell_type": "markdown",
   "metadata": {},
   "source": [
    "### 基本的图形绘制"
   ]
  },
  {
   "cell_type": "markdown",
   "metadata": {},
   "source": [
    "### 地图"
   ]
  },
  {
   "cell_type": "markdown",
   "metadata": {},
   "source": [
    "### Django可视化数据的处理"
   ]
  }
 ],
 "metadata": {
  "kernelspec": {
   "display_name": "Python 3",
   "language": "python",
   "name": "python3"
  },
  "language_info": {
   "codemirror_mode": {
    "name": "ipython",
    "version": 3
   },
   "file_extension": ".py",
   "mimetype": "text/x-python",
   "name": "python",
   "nbconvert_exporter": "python",
   "pygments_lexer": "ipython3",
   "version": "3.6.6"
  },
  "toc": {
   "base_numbering": 1,
   "nav_menu": {},
   "number_sections": true,
   "sideBar": true,
   "skip_h1_title": false,
   "title_cell": "Table of Contents",
   "title_sidebar": "Contents",
   "toc_cell": false,
   "toc_position": {},
   "toc_section_display": true,
   "toc_window_display": false
  }
 },
 "nbformat": 4,
 "nbformat_minor": 2
}
